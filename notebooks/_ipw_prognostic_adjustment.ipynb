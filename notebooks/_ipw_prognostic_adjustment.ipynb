{
 "cells": [
  {
   "cell_type": "code",
   "execution_count": 4,
   "metadata": {},
   "outputs": [],
   "source": [
    "import numpy as np\n",
    "import pandas as pd\n",
    "import seaborn as sns\n",
    "import seaborn.objects as so\n",
    "import matplotlib as mpl\n",
    "import statsmodels.api as sm\n",
    "import statsmodels.formula.api as smf\n",
    "from scipy.special import expit\n",
    "\n",
    "from sklearn.linear_model import LogisticRegression\n",
    "from causallib.estimation import IPW\n"
   ]
  },
  {
   "cell_type": "code",
   "execution_count": 5,
   "metadata": {},
   "outputs": [],
   "source": [
    "def generate_data(n=1000, seed=0):\n",
    "    rng = np.random.default_rng(seed)\n",
    "    \n",
    "    X = rng.normal(0, 0.5, size=(n, 4))\n",
    "    a_beta = np.array([1, 1, 0, 0])\n",
    "    a_logit = X @ a_beta\n",
    "    a_prop = expit(a_logit)\n",
    "    a = rng.binomial(1, a_prop)\n",
    "\n",
    "    y_beta = np.array([-1, -1, -1, -1])\n",
    "    effect = 0\n",
    "    y = X @ y_beta + a * effect + rng.normal(0, 1, size=n)\n",
    "    \n",
    "    X = pd.DataFrame(X, columns=[\"xay1\", \"xay2\", \"xy1\", \"xy2\"])\n",
    "    a = pd.Series(a, name=\"a\")\n",
    "    y = pd.Series(y, name=\"y\")\n",
    "    return X, a, y"
   ]
  },
  {
   "cell_type": "code",
   "execution_count": 20,
   "metadata": {},
   "outputs": [
    {
     "data": {
      "text/html": [
       "<div>\n",
       "<style scoped>\n",
       "    .dataframe tbody tr th:only-of-type {\n",
       "        vertical-align: middle;\n",
       "    }\n",
       "\n",
       "    .dataframe tbody tr th {\n",
       "        vertical-align: top;\n",
       "    }\n",
       "\n",
       "    .dataframe thead th {\n",
       "        text-align: right;\n",
       "    }\n",
       "</style>\n",
       "<table border=\"1\" class=\"dataframe\">\n",
       "  <thead>\n",
       "    <tr style=\"text-align: right;\">\n",
       "      <th></th>\n",
       "      <th>conf</th>\n",
       "      <th>prog</th>\n",
       "      <th>raw</th>\n",
       "    </tr>\n",
       "  </thead>\n",
       "  <tbody>\n",
       "    <tr>\n",
       "      <th>0</th>\n",
       "      <td>-0.040933</td>\n",
       "      <td>-0.023923</td>\n",
       "      <td>-0.486133</td>\n",
       "    </tr>\n",
       "    <tr>\n",
       "      <th>1</th>\n",
       "      <td>0.015296</td>\n",
       "      <td>0.020771</td>\n",
       "      <td>-0.445688</td>\n",
       "    </tr>\n",
       "    <tr>\n",
       "      <th>2</th>\n",
       "      <td>-0.129673</td>\n",
       "      <td>-0.179528</td>\n",
       "      <td>-0.576257</td>\n",
       "    </tr>\n",
       "    <tr>\n",
       "      <th>3</th>\n",
       "      <td>0.027104</td>\n",
       "      <td>0.052811</td>\n",
       "      <td>-0.348902</td>\n",
       "    </tr>\n",
       "    <tr>\n",
       "      <th>4</th>\n",
       "      <td>0.086357</td>\n",
       "      <td>0.038473</td>\n",
       "      <td>-0.340843</td>\n",
       "    </tr>\n",
       "    <tr>\n",
       "      <th>...</th>\n",
       "      <td>...</td>\n",
       "      <td>...</td>\n",
       "      <td>...</td>\n",
       "    </tr>\n",
       "    <tr>\n",
       "      <th>9995</th>\n",
       "      <td>0.015035</td>\n",
       "      <td>0.064558</td>\n",
       "      <td>-0.463390</td>\n",
       "    </tr>\n",
       "    <tr>\n",
       "      <th>9996</th>\n",
       "      <td>-0.142844</td>\n",
       "      <td>-0.083009</td>\n",
       "      <td>-0.581268</td>\n",
       "    </tr>\n",
       "    <tr>\n",
       "      <th>9997</th>\n",
       "      <td>-0.020878</td>\n",
       "      <td>-0.011107</td>\n",
       "      <td>-0.440235</td>\n",
       "    </tr>\n",
       "    <tr>\n",
       "      <th>9998</th>\n",
       "      <td>-0.128003</td>\n",
       "      <td>-0.162208</td>\n",
       "      <td>-0.544827</td>\n",
       "    </tr>\n",
       "    <tr>\n",
       "      <th>9999</th>\n",
       "      <td>0.176800</td>\n",
       "      <td>0.075582</td>\n",
       "      <td>-0.314862</td>\n",
       "    </tr>\n",
       "  </tbody>\n",
       "</table>\n",
       "<p>10000 rows × 3 columns</p>\n",
       "</div>"
      ],
      "text/plain": [
       "          conf      prog       raw\n",
       "0    -0.040933 -0.023923 -0.486133\n",
       "1     0.015296  0.020771 -0.445688\n",
       "2    -0.129673 -0.179528 -0.576257\n",
       "3     0.027104  0.052811 -0.348902\n",
       "4     0.086357  0.038473 -0.340843\n",
       "...        ...       ...       ...\n",
       "9995  0.015035  0.064558 -0.463390\n",
       "9996 -0.142844 -0.083009 -0.581268\n",
       "9997 -0.020878 -0.011107 -0.440235\n",
       "9998 -0.128003 -0.162208 -0.544827\n",
       "9999  0.176800  0.075582 -0.314862\n",
       "\n",
       "[10000 rows x 3 columns]"
      ]
     },
     "execution_count": 20,
     "metadata": {},
     "output_type": "execute_result"
    }
   ],
   "source": [
    "n_repeats = 10000\n",
    "results = []\n",
    "for i in range(n_repeats):\n",
    "    X, a, y = generate_data(seed=i)\n",
    "    estimator = LogisticRegression(penalty=\"none\", max_iter=1000)\n",
    "    ipw_conf = IPW(estimator).fit(X[[\"xay1\", \"xay2\"]], a)\n",
    "    conf_effect = ipw_conf.estimate_population_outcome(X[[\"xay1\", \"xay2\"]], a, y)\n",
    "    conf_effect = conf_effect[1] - conf_effect[0]\n",
    "    ipw_prog = IPW(estimator).fit(X, a)\n",
    "    prog_effect = ipw_prog.estimate_population_outcome(X, a, y)\n",
    "    prog_effect = prog_effect[1] - prog_effect[0]\n",
    "    raw_effect = y.groupby(a).mean()\n",
    "    raw_effect = raw_effect[1] - raw_effect[0]\n",
    "    results.append((conf_effect, prog_effect, raw_effect))\n",
    "results = pd.DataFrame(results, columns=[\"conf\", \"prog\", \"raw\"])\n",
    "results"
   ]
  },
  {
   "cell_type": "code",
   "execution_count": 21,
   "metadata": {},
   "outputs": [
    {
     "data": {
      "text/html": [
       "<div>\n",
       "<style scoped>\n",
       "    .dataframe tbody tr th:only-of-type {\n",
       "        vertical-align: middle;\n",
       "    }\n",
       "\n",
       "    .dataframe tbody tr th {\n",
       "        vertical-align: top;\n",
       "    }\n",
       "\n",
       "    .dataframe thead th {\n",
       "        text-align: right;\n",
       "    }\n",
       "</style>\n",
       "<table border=\"1\" class=\"dataframe\">\n",
       "  <thead>\n",
       "    <tr style=\"text-align: right;\">\n",
       "      <th></th>\n",
       "      <th>index</th>\n",
       "      <th>model</th>\n",
       "      <th>bias</th>\n",
       "    </tr>\n",
       "  </thead>\n",
       "  <tbody>\n",
       "    <tr>\n",
       "      <th>0</th>\n",
       "      <td>0</td>\n",
       "      <td>conf</td>\n",
       "      <td>-0.040933</td>\n",
       "    </tr>\n",
       "    <tr>\n",
       "      <th>1</th>\n",
       "      <td>1</td>\n",
       "      <td>conf</td>\n",
       "      <td>0.015296</td>\n",
       "    </tr>\n",
       "    <tr>\n",
       "      <th>2</th>\n",
       "      <td>2</td>\n",
       "      <td>conf</td>\n",
       "      <td>-0.129673</td>\n",
       "    </tr>\n",
       "    <tr>\n",
       "      <th>3</th>\n",
       "      <td>3</td>\n",
       "      <td>conf</td>\n",
       "      <td>0.027104</td>\n",
       "    </tr>\n",
       "    <tr>\n",
       "      <th>4</th>\n",
       "      <td>4</td>\n",
       "      <td>conf</td>\n",
       "      <td>0.086357</td>\n",
       "    </tr>\n",
       "    <tr>\n",
       "      <th>...</th>\n",
       "      <td>...</td>\n",
       "      <td>...</td>\n",
       "      <td>...</td>\n",
       "    </tr>\n",
       "    <tr>\n",
       "      <th>29995</th>\n",
       "      <td>9995</td>\n",
       "      <td>raw</td>\n",
       "      <td>-0.463390</td>\n",
       "    </tr>\n",
       "    <tr>\n",
       "      <th>29996</th>\n",
       "      <td>9996</td>\n",
       "      <td>raw</td>\n",
       "      <td>-0.581268</td>\n",
       "    </tr>\n",
       "    <tr>\n",
       "      <th>29997</th>\n",
       "      <td>9997</td>\n",
       "      <td>raw</td>\n",
       "      <td>-0.440235</td>\n",
       "    </tr>\n",
       "    <tr>\n",
       "      <th>29998</th>\n",
       "      <td>9998</td>\n",
       "      <td>raw</td>\n",
       "      <td>-0.544827</td>\n",
       "    </tr>\n",
       "    <tr>\n",
       "      <th>29999</th>\n",
       "      <td>9999</td>\n",
       "      <td>raw</td>\n",
       "      <td>-0.314862</td>\n",
       "    </tr>\n",
       "  </tbody>\n",
       "</table>\n",
       "<p>30000 rows × 3 columns</p>\n",
       "</div>"
      ],
      "text/plain": [
       "       index model      bias\n",
       "0          0  conf -0.040933\n",
       "1          1  conf  0.015296\n",
       "2          2  conf -0.129673\n",
       "3          3  conf  0.027104\n",
       "4          4  conf  0.086357\n",
       "...      ...   ...       ...\n",
       "29995   9995   raw -0.463390\n",
       "29996   9996   raw -0.581268\n",
       "29997   9997   raw -0.440235\n",
       "29998   9998   raw -0.544827\n",
       "29999   9999   raw -0.314862\n",
       "\n",
       "[30000 rows x 3 columns]"
      ]
     },
     "execution_count": 21,
     "metadata": {},
     "output_type": "execute_result"
    }
   ],
   "source": [
    "results_long = results.reset_index().melt(\n",
    "    value_vars=[\"conf\", \"prog\", \"raw\"],\n",
    "    id_vars=\"index\",\n",
    "    value_name=\"bias\",\n",
    "    var_name=\"model\",\n",
    ")\n",
    "results_long"
   ]
  },
  {
   "cell_type": "code",
   "execution_count": 22,
   "metadata": {},
   "outputs": [
    {
     "data": {
      "text/plain": [
       "<seaborn.axisgrid.FacetGrid at 0x26c912e5b10>"
      ]
     },
     "execution_count": 22,
     "metadata": {},
     "output_type": "execute_result"
    },
    {
     "data": {
      "image/png": "[encoded data removed]",
      "text/plain": [
       "<Figure size 511.111x500 with 1 Axes>"
      ]
     },
     "metadata": {},
     "output_type": "display_data"
    }
   ],
   "source": [
    "sns.catplot(\n",
    "    data=results_long,\n",
    "    x=\"bias\",\n",
    "    y=\"model\",\n",
    "    kind=\"box\",\n",
    ")"
   ]
  },
  {
   "cell_type": "code",
   "execution_count": 23,
   "metadata": {},
   "outputs": [
    {
     "data": {
      "text/plain": [
       "<seaborn.axisgrid.FacetGrid at 0x26c95822ed0>"
      ]
     },
     "execution_count": 23,
     "metadata": {},
     "output_type": "execute_result"
    },
    {
     "data": {
      "image/png": "[encoded data removed]",
      "text/plain": [
       "<Figure size 511.111x500 with 1 Axes>"
      ]
     },
     "metadata": {},
     "output_type": "display_data"
    }
   ],
   "source": [
    "sns.catplot(\n",
    "    data=results_long.query(\"model != 'raw'\"),\n",
    "    x=\"bias\",\n",
    "    y=\"model\",\n",
    "    kind=\"box\",\n",
    ")"
   ]
  },
  {
   "cell_type": "code",
   "execution_count": 25,
   "metadata": {},
   "outputs": [
    {
     "data": {
      "text/plain": [
       "model\n",
       "conf    0.007212\n",
       "prog    0.004955\n",
       "raw     0.008008\n",
       "Name: bias, dtype: float64"
      ]
     },
     "execution_count": 25,
     "metadata": {},
     "output_type": "execute_result"
    }
   ],
   "source": [
    "results_long.groupby(\"model\")[\"bias\"].var()"
   ]
  },
  {
   "cell_type": "code",
   "execution_count": null,
   "metadata": {},
   "outputs": [],
   "source": []
  }
 ],
 "metadata": {
  "kernelspec": {
   "display_name": ".venv",
   "language": "python",
   "name": "python3"
  },
  "language_info": {
   "codemirror_mode": {
    "name": "ipython",
    "version": 3
   },
   "file_extension": ".py",
   "mimetype": "text/x-python",
   "name": "python",
   "nbconvert_exporter": "python",
   "pygments_lexer": "ipython3",
   "version": "3.11.9"
  }
 },
 "nbformat": 4,
 "nbformat_minor": 2
}
