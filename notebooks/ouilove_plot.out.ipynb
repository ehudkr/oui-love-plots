{
 "cells": [
  {
   "cell_type": "markdown",
   "metadata": {},
   "source": [
    "# Outcome-informed Love plot"
   ],
   "id": "ef9b5547-d055-4321-ab1b-1b4906326bfb"
  },
  {
   "cell_type": "markdown",
   "metadata": {},
   "source": [],
   "id": "cell-1"
  },
  {
   "cell_type": "code",
   "execution_count": 2,
   "metadata": {},
   "outputs": [],
   "source": [
    "%config InlineBackend.figure_format = \"svg\""
   ],
   "id": "cell-2"
  },
  {
   "cell_type": "code",
   "execution_count": 3,
   "metadata": {},
   "outputs": [],
   "source": [
    "import numpy as np\n",
    "import pandas as pd\n",
    "import seaborn as sns\n",
    "import seaborn.objects as so\n",
    "import matplotlib as mpl\n",
    "import statsmodels.api as sm\n",
    "import statsmodels.formula.api as smf\n",
    "from scipy.special import expit\n",
    "\n",
    "from sklearn.linear_model import LogisticRegression, LogisticRegressionCV\n",
    "from sklearn.linear_model import LinearRegression\n",
    "from sklearn.ensemble import RandomForestRegressor, GradientBoostingRegressor\n",
    "from sklearn.inspection import permutation_importance\n",
    "from sklearn.metrics import r2_score, mean_absolute_error, mean_squared_error\n",
    "\n",
    "from causallib.estimation import IPW\n"
   ],
   "id": "cell-3"
  },
  {
   "cell_type": "code",
   "execution_count": 4,
   "metadata": {},
   "outputs": [],
   "source": [
    "def generate_data(n=1000, seed=0):\n",
    "    rng = np.random.default_rng(seed)\n",
    "    \n",
    "    X = rng.normal(0, 0.5, size=(n, 4))\n",
    "    a_beta = np.array([0, 1, 0, 1])\n",
    "    a_logit = X @ a_beta\n",
    "    a_prop = expit(a_logit)\n",
    "    a = rng.binomial(1, a_prop)\n",
    "\n",
    "    y_beta = np.array([0, 0, -1, -1])\n",
    "    effect = 1\n",
    "    y = X @ y_beta + a * effect + rng.normal(0, 1, size=n)\n",
    "    \n",
    "    X = pd.DataFrame(X, columns=[\"x0\", \"xa\", \"xy\", \"xay\"])\n",
    "    a = pd.Series(a, name=\"a\")\n",
    "    y = pd.Series(y, name=\"y\")\n",
    "    return X, a, y"
   ],
   "id": "cell-4"
  },
  {
   "cell_type": "code",
   "execution_count": 5,
   "metadata": {},
   "outputs": [
    {
     "output_type": "display_data",
     "metadata": {},
     "data": {
      "text/html": [
       "\n",
       "<p>1000 rows × 6 columns</p>\n",
       "</div>"
      ]
     }
    }
   ],
   "source": [
    "X, a, y = generate_data()\n",
    "X.join(a).join(y)"
   ],
   "id": "cell-5"
  },
  {
   "cell_type": "code",
   "execution_count": 6,
   "metadata": {},
   "outputs": [],
   "source": [
    "ipw = IPW(LogisticRegression(penalty=\"none\"))\n",
    "ipw.fit(X, a)\n",
    "w = ipw.compute_weights(X, a)"
   ],
   "id": "cell-6"
  },
  {
   "cell_type": "code",
   "execution_count": 7,
   "metadata": {},
   "outputs": [],
   "source": [
    "def calculate_asmd(X, a, w=None):\n",
    "    eps = np.finfo(X.dtypes.iloc[0]).resolution  # .eps\n",
    "    if w is None:\n",
    "        w = pd.Series(1, index=a.index)\n",
    "    \n",
    "    is_treated = a == 1\n",
    "    x1 = sm.stats.DescrStatsW(X.loc[is_treated], weights=w.loc[is_treated])\n",
    "    x0 = sm.stats.DescrStatsW(X.loc[~is_treated], weights=w.loc[~is_treated])\n",
    "\n",
    "    x1_mean = pd.Series(x1.mean, index=X.columns)\n",
    "    x0_mean = pd.Series(x0.mean, index=X.columns)\n",
    "    x1_var = pd.Series(x1.var, index=X.columns)\n",
    "    x0_var = pd.Series(x0.var, index=X.columns)\n",
    "\n",
    "    smds = (x1_mean - x0_mean) / np.sqrt(x0_var + x1_var + eps)\n",
    "    asmds = smds.abs()\n",
    "    asmds.name = \"asmd\"\n",
    "    return asmds"
   ],
   "id": "cell-7"
  },
  {
   "cell_type": "code",
   "execution_count": 8,
   "metadata": {},
   "outputs": [
    {
     "output_type": "display_data",
     "metadata": {},
     "data": {
      "text/plain": [
       "adjustment  covariate\n",
       "weighted    x0           0.002535\n",
       "            xa           0.001482\n",
       "            xy           0.000966\n",
       "            xay          0.002014\n",
       "unweighted  x0           0.015296\n",
       "            xa           0.314791\n",
       "            xy           0.053678\n",
       "            xay          0.209638\n",
       "Name: asmd, dtype: float64"
      ]
     }
    }
   ],
   "source": [
    "asmds = pd.concat({\n",
    "    \"weighted\": calculate_asmd(X, a, w),\n",
    "    \"unweighted\": calculate_asmd(X, a),\n",
    "}, names=[\"adjustment\", \"covariate\"])\n",
    "asmds"
   ],
   "id": "cell-8"
  },
  {
   "cell_type": "code",
   "execution_count": 9,
   "metadata": {},
   "outputs": [],
   "source": [
    "def leave_one_out_importance(estimator, X, a, y):\n",
    "    results = []\n",
    "\n",
    "    for col in [\"full\"] + X.columns.tolist():\n",
    "        curX = X.drop(columns=col, errors=\"ignore\")\n",
    "        curXa = curX.join(a)\n",
    "        estimator.fit(curXa, y)\n",
    "        y_pred = estimator.predict(curXa)\n",
    "        result = {\n",
    "            \"covariate\": col,\n",
    "            \"r2\": r2_score(y, y_pred),\n",
    "            \"mse\": mean_squared_error(y, y_pred),\n",
    "            \"mae\": mean_absolute_error(y, y_pred),\n",
    "        }\n",
    "        results.append(result)\n",
    "    results = pd.DataFrame(results)\n",
    "    return results\n",
    "\n",
    "def relative_explained_variation(estimator, X, a, y, metric=\"mse\"):\n",
    "    \"\"\"Harrell: https://www.fharrell.com/post/addvalue/\"\"\"\n",
    "    importance = leave_one_out_importance(estimator, X, a, y)\n",
    "    importance = importance.set_index(\"covariate\")\n",
    "    importance = importance / importance.loc[\"full\"]\n",
    "    importance = importance.drop(index=\"full\")\n",
    "    # importance = importance[metric]\n",
    "    return importance\n",
    "\n",
    "def decrease_in_explain_variation(estimator, X, a, y, metric=\"mse\"):\n",
    "    \"\"\"https://stackoverflow.com/q/31343563\"\"\"\n",
    "    importance = leave_one_out_importance(estimator, X, a, y)\n",
    "    importance = importance.set_index(\"covariate\")\n",
    "    importance = (importance.loc[\"full\"]-importance) / importance.loc[\"full\"]\n",
    "    importance = importance.drop(index=\"full\")\n",
    "    # importance = importance[metric]\n",
    "    importance = importance.abs()\n",
    "    return importance\n"
   ],
   "id": "cell-9"
  },
  {
   "cell_type": "code",
   "execution_count": 10,
   "metadata": {},
   "outputs": [
    {
     "output_type": "display_data",
     "metadata": {},
     "data": {
      "text/html": [
       "\n",
       "</div>"
      ]
     }
    }
   ],
   "source": [
    "# i = leave_one_out_importance(LinearRegression(), X, a, y)\n",
    "# i = i.set_index(\"covariate\")\n",
    "# i\n",
    "# relative_explained_variation(LinearRegression(), X, a, y)\n",
    "feature_importance = decrease_in_explain_variation(LinearRegression(), X, a, y)\n",
    "feature_importance"
   ],
   "id": "cell-10"
  },
  {
   "cell_type": "code",
   "execution_count": 11,
   "metadata": {},
   "outputs": [
    {
     "output_type": "display_data",
     "metadata": {},
     "data": {
      "text/html": [
       "\n",
       "</div>"
      ]
     }
    }
   ],
   "source": [
    "plot_data = asmds.reset_index().merge(\n",
    "    feature_importance.reset_index(), on=\"covariate\",\n",
    ")\n",
    "plot_data"
   ],
   "id": "cell-11"
  },
  {
   "cell_type": "code",
   "execution_count": 12,
   "metadata": {},
   "outputs": [],
   "source": [
    "# Prettify covariate names:\n",
    "plot_data = plot_data.replace({\n",
    "    \"covariate\": {\n",
    "        \"x0\": \"$X_0$\",\n",
    "        \"xa\": \"$X_A$\",\n",
    "        \"xy\": \"$X_Y$\",\n",
    "        \"xay\": \"$X_{AY}$\",\n",
    "    },\n",
    "})"
   ],
   "id": "cell-12"
  },
  {
   "cell_type": "code",
   "execution_count": 13,
   "metadata": {},
   "outputs": [],
   "source": [
    "def ouilove_plot(\n",
    "    dot_plot_data, \n",
    "    plot_range=False, \n",
    "    order_by_importance=False,\n",
    "    opacity=False,\n",
    "    pointsize=False,\n",
    "    importance_metric=\"mse\",\n",
    "    legend=True,\n",
    "    threshold=None, ax=None,\n",
    "):\n",
    "    order_by = importance_metric if order_by_importance else \"asmd\"\n",
    "    y_order = dot_plot_data.query(\"adjustment=='unweighted'\").sort_values(order_by, ascending=False)[\"covariate\"].tolist()\n",
    "    \n",
    "    p = so.Plot(\n",
    "    ).add(\n",
    "        so.Dot(), \n",
    "        y=\"covariate\",\n",
    "        x=\"asmd\",\n",
    "        color=\"adjustment\", marker=\"adjustment\",\n",
    "        pointsize=importance_metric if pointsize else None,\n",
    "        alpha=importance_metric if opacity else None,\n",
    "        legend=legend,\n",
    "        data=dot_plot_data,\n",
    "    ).scale(\n",
    "        marker=dict(weighted=\"o\", unweighted=\"^\"),\n",
    "        y=so.Nominal(order=y_order),\n",
    "    ).label(\n",
    "        x=\"Absolute standardized mean difference\",\n",
    "        y=\"Covariate\",\n",
    "    ).theme(\n",
    "        sns.axes_style(\"white\")\n",
    "    )\n",
    "\n",
    "    if plot_range:\n",
    "        range_plot_data = dot_plot_data.pivot(\n",
    "            columns=\"adjustment\", index=\"covariate\", values=\"asmd\"\n",
    "        ).agg([\"min\", \"max\"], axis=\"columns\").merge(\n",
    "            dot_plot_data.query(\"adjustment=='unweighted'\"),\n",
    "            on=\"covariate\",\n",
    "        )\n",
    "        p = p.add(\n",
    "            so.Range(linestyle=\"--\", color=\"0.8\", artist_kws=dict(zorder=0)), \n",
    "            y=\"covariate\",\n",
    "            xmin=\"min\", xmax=\"max\",\n",
    "            linewidth=importance_metric if pointsize else None,\n",
    "            alpha=importance_metric if opacity else None,\n",
    "            legend=legend,\n",
    "            data=range_plot_data,\n",
    "        )\n",
    "    if threshold is not None:\n",
    "        ax.axvline(0.1, linestyle=\"--\", color=\"0.6\", zorder=0)\n",
    "    if ax is not None:\n",
    "        p = p.on(ax).plot()\n",
    "    return p\n"
   ],
   "id": "cell-13"
  },
  {
   "cell_type": "code",
   "execution_count": 14,
   "metadata": {},
   "outputs": [
    {
     "output_type": "display_data",
     "metadata": {},
     "data": {}
    }
   ],
   "source": [
    "fig = mpl.figure.Figure(figsize=(8, 3))\n",
    "axes = fig.subplot_mosaic(\"BCD\")\n",
    "fig, axes = mpl.pyplot.subplot_mosaic(\"BCD\", figsize=(8, 3))\n",
    "p = ouilove_plot(\n",
    "    plot_data, \n",
    "    plot_range=True,\n",
    "    order_by_importance=False,\n",
    "    opacity=True,\n",
    "    pointsize=False,\n",
    "    importance_metric=\"mse\",\n",
    "    legend=False,\n",
    "    threshold=0.1, ax=axes[\"B\"],\n",
    ")\n",
    "axes[\"B\"].set_title(\"Opacity\")\n",
    "p = ouilove_plot(\n",
    "    plot_data, \n",
    "    plot_range=True,\n",
    "    order_by_importance=True,\n",
    "    opacity=False,\n",
    "    pointsize=False,\n",
    "    importance_metric=\"mse\",\n",
    "    legend=True,\n",
    "    threshold=0.1, ax=axes[\"D\"],\n",
    ")\n",
    "axes[\"D\"].set_title(\"Order\")\n",
    "p = ouilove_plot(\n",
    "    plot_data, \n",
    "    plot_range=True,\n",
    "    order_by_importance=False,\n",
    "    opacity=False,\n",
    "    pointsize=True,\n",
    "    importance_metric=\"mse\",\n",
    "    legend=False,\n",
    "    threshold=0.1, ax=axes[\"C\"],\n",
    ")\n",
    "axes[\"C\"].set_title(\"Size\")\n",
    "axes[\"B\"].set_xlabel(None)\n",
    "axes[\"D\"].set_xlabel(None)\n",
    "# fig.suptitle(\n",
    "#     \"Visual channels to incorporate outcome information\",\n",
    "# )\n",
    "fig.tight_layout()\n",
    "# fig"
   ],
   "id": "cell-fig-oui-encoding_"
  },
  {
   "cell_type": "code",
   "execution_count": 15,
   "metadata": {},
   "outputs": [
    {
     "output_type": "display_data",
     "metadata": {},
     "data": {}
    }
   ],
   "source": [
    "fig = mpl.figure.Figure(figsize=(7, 3))\n",
    "axes = fig.subplot_mosaic(\"AE\", sharex=True)\n",
    "fig, axes = mpl.pyplot.subplot_mosaic(\"AE\", figsize=(7, 3), sharex=True)\n",
    "p = ouilove_plot(\n",
    "    plot_data, \n",
    "    plot_range=True,\n",
    "    order_by_importance=False,\n",
    "    opacity=False,\n",
    "    pointsize=False,\n",
    "    importance_metric=\"mse\",\n",
    "    legend=False,\n",
    "    threshold=0.1, ax=axes[\"A\"],\n",
    ")\n",
    "axes[\"A\"].set_title(\"Love plot (standard)\")\n",
    "\n",
    "p = ouilove_plot(\n",
    "    plot_data, \n",
    "    plot_range=True,\n",
    "    order_by_importance=True,\n",
    "    opacity=True,\n",
    "    pointsize=True,\n",
    "    importance_metric=\"mse\",\n",
    "    legend=True,\n",
    "    threshold=0.1, ax=axes[\"E\"],\n",
    ")\n",
    "axes[\"E\"].set_title(\"Outcome-informed Love plot\")\n",
    "fig.tight_layout()\n",
    "# fig"
   ],
   "id": "cell-fig-love-oui-love_"
  },
  {
   "cell_type": "markdown",
   "metadata": {},
   "source": [
    "## Combinging ASMD and FI in a single metric to allow selection"
   ],
   "id": "cell-16"
  },
  {
   "cell_type": "code",
   "execution_count": 16,
   "metadata": {},
   "outputs": [
    {
     "output_type": "display_data",
     "metadata": {},
     "data": {
      "text/html": [
       "\n",
       "</div>"
      ]
     }
    }
   ],
   "source": [
    "ouiasmd = plot_data.query(\"adjustment=='unweighted'\").drop(columns=\"adjustment\")\n",
    "ouiasmd"
   ],
   "id": "cell-17"
  },
  {
   "cell_type": "code",
   "execution_count": 17,
   "metadata": {},
   "outputs": [
    {
     "output_type": "display_data",
     "metadata": {},
     "data": {
      "text/html": [
       "\n",
       "</div>"
      ]
     }
    }
   ],
   "source": [
    "outcome_metric = \"mse\"\n",
    "ouiasmd[\"ouiasmd\"] = ouiasmd[\"asmd\"] * ouiasmd[outcome_metric]\n",
    "ouiasmd"
   ],
   "id": "cell-18"
  },
  {
   "cell_type": "code",
   "execution_count": 18,
   "metadata": {},
   "outputs": [
    {
     "output_type": "display_data",
     "metadata": {},
     "data": {}
    }
   ],
   "source": [
    "# fig = mpl.figure.Figure(figsize=(8, 3))\n",
    "fig, axes = mpl.pyplot.subplot_mosaic(\n",
    "    \"\"\"\n",
    "    ABC\n",
    "    \"\"\",\n",
    "    # sharey=True,\n",
    "    figsize=(8,3)\n",
    ")\n",
    "bar_kwargs = {\"alpha\": 0.75}\n",
    "axes[\"A\"].barh(ouiasmd[\"covariate\"], ouiasmd[\"asmd\"], color=\"#E69F00\", **bar_kwargs)\n",
    "axes[\"B\"].barh(ouiasmd[\"covariate\"], ouiasmd[outcome_metric], color=\"#56B4E9\", **bar_kwargs)\n",
    "axes[\"C\"].barh(ouiasmd[\"covariate\"], ouiasmd[\"ouiasmd\"], color=\"#009E73\", **bar_kwargs)\n",
    "axes[\"A\"].axvline(0.1, linestyle=\"--\", color=\"0.6\", zorder=0)\n",
    "axes[\"A\"].sharex(axes[\"B\"])\n",
    "axes[\"C\"].xaxis.set_major_locator(mpl.pyplot.MaxNLocator(3))\n",
    "axes[\"A\"].set_title(\"ASMD\")\n",
    "axes[\"B\"].set_title(\"Outcome-importance\")\n",
    "axes[\"C\"].set_title(\"Outcome-informed ASMD\")\n",
    "for letter, ax in axes.items():\n",
    "    ax.text(\n",
    "        -0.15, 1.05,\n",
    "        f\"{letter})\",\n",
    "        fontweight=\"bold\",\n",
    "        fontsize=12,\n",
    "        transform=ax.transAxes,\n",
    ")\n",
    "fig.tight_layout()\n"
   ],
   "id": "cell-fig-oui-asmd-score"
  },
  {
   "cell_type": "markdown",
   "metadata": {},
   "source": [
    "#### Love plot by Oui-ASMD score"
   ],
   "id": "cell-20"
  },
  {
   "cell_type": "code",
   "execution_count": 28,
   "metadata": {},
   "outputs": [],
   "source": [
    "# outcome_metric = \"mse\"\n",
    "# ouiasmd_plot_data = plot_data.assign(\n",
    "#     ouiasmd=plot_data[\"asmd\"] * plot_data[outcome_metric]\n",
    "# )\n",
    "ouiasmd_plot_data = plot_data.merge(\n",
    "    ouiasmd[[\"covariate\", \"ouiasmd\"]],\n",
    "    on=\"covariate\",\n",
    "    how=\"left\",\n",
    ")"
   ],
   "id": "cell-21"
  },
  {
   "cell_type": "code",
   "execution_count": 33,
   "metadata": {},
   "outputs": [
    {
     "output_type": "display_data",
     "metadata": {},
     "data": {}
    }
   ],
   "source": [
    "fig = mpl.figure.Figure(figsize=(7, 3))\n",
    "axes = fig.subplot_mosaic(\"AE\", sharex=True)\n",
    "fig, axes = mpl.pyplot.subplot_mosaic(\"AE\", figsize=(7, 3), sharex=True, sharey=True)\n",
    "p = ouilove_plot(\n",
    "    ouiasmd_plot_data.rename(columns={\"ouiasmd\": \"Oui-ASMD\"}), \n",
    "    plot_range=True,\n",
    "    order_by_importance=False,\n",
    "    opacity=True,\n",
    "    pointsize=True,\n",
    "    importance_metric=\"mse\",\n",
    "    legend=False,\n",
    "    threshold=0.1, ax=axes[\"A\"],\n",
    ")\n",
    "axes[\"A\"].set_title(\"Covariate-outcome importance\")\n",
    "\n",
    "p = ouilove_plot(\n",
    "    ouiasmd_plot_data.rename(columns={\"ouiasmd\": \"Oui-ASMD\"}), \n",
    "    plot_range=True,\n",
    "    order_by_importance=False,\n",
    "    opacity=True,\n",
    "    pointsize=True,\n",
    "    importance_metric=\"Oui-ASMD\",\n",
    "    legend=True,\n",
    "    threshold=0.1, ax=axes[\"E\"],\n",
    ")\n",
    "axes[\"E\"].set_title(\"Outcome-informed ASMD score\")\n",
    "fig.tight_layout()\n",
    "# fig"
   ],
   "id": "cell-fig-ouiasmd-love"
  },
  {
   "cell_type": "markdown",
   "metadata": {},
   "source": [
    "Also comparing to standard Love plot:"
   ],
   "id": "cell-23"
  },
  {
   "cell_type": "code",
   "execution_count": 38,
   "metadata": {},
   "outputs": [
    {
     "output_type": "display_data",
     "metadata": {},
     "data": {}
    }
   ],
   "source": [
    "fig = mpl.figure.Figure(figsize=(7, 3))\n",
    "axes = fig.subplot_mosaic(\"AE\", sharex=True)\n",
    "fig, axes = mpl.pyplot.subplot_mosaic(\"AE\", figsize=(7, 3), sharex=True, sharey=True)\n",
    "p = ouilove_plot(\n",
    "    ouiasmd_plot_data, \n",
    "    plot_range=True,\n",
    "    order_by_importance=False,\n",
    "    opacity=False,\n",
    "    pointsize=False,\n",
    "    importance_metric=\"mse\",\n",
    "    legend=False,\n",
    "    threshold=0.1, ax=axes[\"A\"],\n",
    ")\n",
    "axes[\"A\"].set_title(\"Love plot (standard)\")\n",
    "\n",
    "p = ouilove_plot(\n",
    "    ouiasmd_plot_data.rename(columns={\"ouiasmd\": \"Oui-ASMD\"}), \n",
    "    plot_range=True,\n",
    "    order_by_importance=False,\n",
    "    opacity=True,\n",
    "    pointsize=True,\n",
    "    importance_metric=\"Oui-ASMD\",\n",
    "    legend=True,\n",
    "    threshold=0.1, ax=axes[\"E\"],\n",
    ")\n",
    "axes[\"E\"].set_title(\"Outcome-informed ASMD score\")\n",
    "fig.tight_layout()\n",
    "# fig"
   ],
   "id": "cell-fig-love-ouiasmd-love"
  },
  {
   "cell_type": "code",
   "execution_count": 41,
   "metadata": {},
   "outputs": [
    {
     "output_type": "display_data",
     "metadata": {},
     "data": {
      "image/svg+xml": "PD94bWwgdmVyc2lvbj0iMS4wIiBlbmNvZGluZz0idXRmLTgiIHN0YW5kYWxvbmU9Im5vIj8+Cjwh\nRE9DVFlQRSBzdmcgUFVCTElDICItLy9XM0MvL0RURCBTVkcgMS4xLy9FTiIKICAiaHR0cDovL3d3\ndy53My5vcmcvR3JhcGhpY3MvU1ZHLzEuMS9EVEQvc3ZnMTEuZHRkIj4KPHN2ZyB4bWxuczp4bGlu\naz0iaHR0cDovL3d3dy53My5vcmcvMTk5OS94bGluayIgd2lkdGg9IjYwNC45NTcwMXB0IiBoZWln\naHQ9IjIwNy4wMzQzNzVwdCIgdmlld0JveD0iMCAwIDYwNC45NTcwMSAyMDcuMDM0Mzc1IiB4bWxu\ncz0iaHR0cDovL3d3dy53My5vcmcvMjAwMC9zdmciIHZlcnNpb249IjEuMSI+CiA8bWV0YWRhdGE+\nCiAgPHJkZjpSREYgeG1sbnM6ZGM9Imh0dHA6Ly9wdXJsLm9yZy9kYy9lbGVtZW50cy8xLjEvIiB4\nbWxuczpjYz0iaHR0cDovL2NyZWF0aXZlY29tbW9ucy5vcmcvbnMjIiB4bWxuczpyZGY9Imh0dHA6\nLy93d3cudzMub3JnLzE5OTkvMDIvMjItcmRmLXN5bnRheC1ucyMiPgogICA8Y2M6V29yaz4KICAg\nIDxkYzp0eXBlIHJkZjpyZXNvdXJjZT0iaHR0cDovL3B1cmwub3JnL2RjL2RjbWl0eXBlL1N0aWxs\nSW1hZ2UiLz4KICAgIDxkYzpkYXRlPjIwMjQtMDQtMjlUMjA6MDg6MTUuMDE4MjA5PC9kYzpkYXRl\nPgogICAgPGRjOmZvcm1hdD5pbWFnZS9zdmcreG1sPC9kYzpmb3JtYXQ+CiAgICA8ZGM6Y3JlYXRv\ncj4KICAgICA8Y2M6QWdlbnQ+CiAgICAgIDxkYzp0aXRsZT5NYXRwbG90bGliIHYzLjguNCwgaHR0\ncHM6Ly9tYXRwbG90bGliLm9yZy88L2RjOnRpdGxlPgogICAgIDwvY2M6QWdlbnQ+CiAgICA8L2Rj\nOmNyZWF0b3I+CiAgIDwvY2M6V29yaz4KICA8L3JkZjpSREY+CiA8L21ldGFkYXRhPgogPGRlZnM+\nCiAgPHN0eWxlIHR5cGU9InRleHQvY3NzIj4qe3N0cm9rZS1saW5lam9pbjogcm91bmQ7IHN0cm9r\nZS1saW5lY2FwOiBidXR0fTwvc3R5bGU+CiA8L2RlZnM+CiA8ZyBpZD0iZmlndXJlXzEiPgogIDxn\nIGlkPSJwYXRjaF8xIj4KICAgPHBhdGggZD0iTSAwIDIwNy4wMzQzNzUgCkwgNjA0Ljk1NzAxIDIw\nNy4wMzQzNzUgCkwgNjA0Ljk1NzAxIDAgCkwgMCAwIAp6CiIgc3R5bGU9ImZpbGw6ICNmZmZmZmYi\nLz4KICA8L2c+CiAgPGcgaWQ9ImF4ZXNfMSI+CiAgIDxnIGlkPSJwYXRjaF8yIj4KICAgIDxwYXRo\nIGQ9Ik0gNDQuMDc4MTI1IDE2OS40NzgxMjUgCkwgMjQwLjU1NTYwNCAxNjkuNDc4MTI1IApMIDI0\nMC41NTU2MDQgMjIuMzE4MTI1IApMIDQ0LjA3ODEyNSAyMi4zMTgxMjUgCnoKIiBzdHlsZT0iZmls\nbDogI2ZmZmZmZiIvPgogICA8L2c+CiAgIDxnIGlkPSJsaW5lMmRfMSI+CiAgICA8cGF0aCBkPSJN\nIDEwOS4zNzQ2OTEgMTY5LjQ3ODEyNSAKTCAxMDkuMzc0NjkxIDIyLjMxODEyNSAKIiBjbGlwLXBh\ndGg9InVybCgjcDdjNWZlNGFlOWMpIiBzdHlsZT0iZmlsbDogbm9uZTsgc3Ryb2tlLWRhc2hhcnJh\neTogNS41NSwyLjQ7IHN0cm9rZS1kYXNob2Zmc2V0OiAwOyBzdHJva2U6ICM5OTk5OTk7IHN0cm9r\nZS13aWR0aDogMS41Ii8+CiAgIDwvZz4KICAgPGcgaWQ9IkxpbmVDb2xsZWN0aW9uXzEiPgogICAg\nPHBhdGggZD0iTSA1My4zMDIyMTIgNDAuNzEzMTI1IApMIDIzMS42MjQ4MSA0MC43MTMxMjUgCiIg\nY2xpcC1wYXRoPSJ1cmwoI3A3YzVmZTRhZTljKSIgc3R5bGU9ImZpbGw6IG5vbmU7IHN0cm9rZS1k\nYXNoYXJyYXk6IDUuNTUsMi40OyBzdHJva2UtZGFzaG9mZnNldDogMDsgc3Ryb2tlOiAjY2NjY2Nj\nOyBzdHJva2Utd2lkdGg6IDEuNTsgc3Ryb2tlLWxpbmVjYXA6IHNxdWFyZSIvPgogICAgPHBhdGgg\nZD0iTSA1My42MDQ5MjQgNzcuNTAzMTI1IApMIDE3MS43NzYyNTYgNzcuNTAzMTI1IAoiIGNsaXAt\ncGF0aD0idXJsKCNwN2M1ZmU0YWU5YykiIHN0eWxlPSJmaWxsOiBub25lOyBzdHJva2UtZGFzaGFy\ncmF5OiA1LjU1LDIuNDsgc3Ryb2tlLWRhc2hvZmZzZXQ6IDA7IHN0cm9rZTogI2NjY2NjYzsgc3Ry\nb2tlLXdpZHRoOiAxLjU7IHN0cm9rZS1saW5lY2FwOiBzcXVhcmUiLz4KICAgIDxwYXRoIGQ9Ik0g\nNTMuMDA4OTIgMTE0LjI5MzEyNSAKTCA4My4wMDk5MjQgMTE0LjI5MzEyNSAKIiBjbGlwLXBhdGg9\nInVybCgjcDdjNWZlNGFlOWMpIiBzdHlsZT0iZmlsbDogbm9uZTsgc3Ryb2tlLWRhc2hhcnJheTog\nNS41NSwyLjQ7IHN0cm9rZS1kYXNob2Zmc2V0OiAwOyBzdHJva2U6ICNjY2NjY2M7IHN0cm9rZS13\naWR0aDogMS41OyBzdHJva2UtbGluZWNhcDogc3F1YXJlIi8+CiAgICA8cGF0aCBkPSJNIDUzLjkw\nMTYzNSAxNTEuMDgzMTI1IApMIDYxLjE2NDc3MyAxNTEuMDgzMTI1IAoiIGNsaXAtcGF0aD0idXJs\nKCNwN2M1ZmU0YWU5YykiIHN0eWxlPSJmaWxsOiBub25lOyBzdHJva2UtZGFzaGFycmF5OiA1LjU1\nLDIuNDsgc3Ryb2tlLWRhc2hvZmZzZXQ6IDA7IHN0cm9rZTogI2NjY2NjYzsgc3Ryb2tlLXdpZHRo\nOiAxLjU7IHN0cm9rZS1saW5lY2FwOiBzcXVhcmUiLz4KICAgPC9nPgogICA8ZyBpZD0iUGF0aENv\nbGxlY3Rpb25fMSI+CiAgICA8cGF0aCBkPSJNIDUzLjkwMTYzNSAxNTQuMDgzMTI1IApDIDU0LjY5\nNzI0NCAxNTQuMDgzMTI1IDU1LjQ2MDM3NCAxNTMuNzY3MDI2IDU2LjAyMjk1NSAxNTMuMjA0NDQ1\nIApDIDU2LjU4NTUzNiAxNTIuNjQxODY1IDU2LjkwMTYzNSAxNTEuODc4NzM0IDU2LjkwMTYzNSAx\nNTEuMDgzMTI1IApDIDU2LjkwMTYzNSAxNTAuMjg3NTE2IDU2LjU4NTUzNiAxNDkuNTI0Mzg1IDU2\nLjAyMjk1NSAxNDguOTYxODA1IApDIDU1LjQ2MDM3NCAxNDguMzk5MjI0IDU0LjY5NzI0NCAxNDgu\nMDgzMTI1IDUzLjkwMTYzNSAxNDguMDgzMTI1IApDIDUzLjEwNjAyNSAxNDguMDgzMTI1IDUyLjM0\nMjg5NSAxNDguMzk5MjI0IDUxLjc4MDMxNCAxNDguOTYxODA1IApDIDUxLjIxNzczNCAxNDkuNTI0\nMzg1IDUwLjkwMTYzNSAxNTAuMjg3NTE2IDUwLjkwMTYzNSAxNTEuMDgzMTI1IApDIDUwLjkwMTYz\nNSAxNTEuODc4NzM0IDUxLjIxNzczNCAxNTIuNjQxODY1IDUxLjc4MDMxNCAxNTMuMjA0NDQ1IApD\nIDUyLjM0Mjg5NSAxNTMuNzY3MDI2IDUzLjEwNjAyNSAxNTQuMDgzMTI1IDUzLjkwMTYzNSAxNTQu\nMDgzMTI1IAp6CiIgY2xpcC1wYXRoPSJ1cmwoI3A3YzVmZTRhZTljKSIgc3R5bGU9ImZpbGw6ICM0\nYzcyYjA7IHN0cm9rZTogIzRjNzJiMDsgc3Ryb2tlLXdpZHRoOiAwLjUiLz4KICAgIDxwYXRoIGQ9\nIk0gNTMuMzAyMjEyIDQzLjcxMzEyNSAKQyA1NC4wOTc4MjIgNDMuNzEzMTI1IDU0Ljg2MDk1MiA0\nMy4zOTcwMjYgNTUuNDIzNTMzIDQyLjgzNDQ0NSAKQyA1NS45ODYxMTMgNDIuMjcxODY1IDU2LjMw\nMjIxMiA0MS41MDg3MzQgNTYuMzAyMjEyIDQwLjcxMzEyNSAKQyA1Ni4zMDIyMTIgMzkuOTE3NTE2\nIDU1Ljk4NjExMyAzOS4xNTQzODUgNTUuNDIzNTMzIDM4LjU5MTgwNSAKQyA1NC44NjA5NTIgMzgu\nMDI5MjI0IDU0LjA5NzgyMiAzNy43MTMxMjUgNTMuMzAyMjEyIDM3LjcxMzEyNSAKQyA1Mi41MDY2\nMDMgMzcuNzEzMTI1IDUxLjc0MzQ3MyAzOC4wMjkyMjQgNTEuMTgwODkyIDM4LjU5MTgwNSAKQyA1\nMC42MTgzMTEgMzkuMTU0Mzg1IDUwLjMwMjIxMiAzOS45MTc1MTYgNTAuMzAyMjEyIDQwLjcxMzEy\nNSAKQyA1MC4zMDIyMTIgNDEuNTA4NzM0IDUwLjYxODMxMSA0Mi4yNzE4NjUgNTEuMTgwODkyIDQy\nLjgzNDQ0NSAKQyA1MS43NDM0NzMgNDMuMzk3MDI2IDUyLjUwNjYwMyA0My43MTMxMjUgNTMuMzAy\nMjEyIDQzLjcxMzEyNSAKegoiIGNsaXAtcGF0aD0idXJsKCNwN2M1ZmU0YWU5YykiIHN0eWxlPSJm\naWxsOiAjNGM3MmIwOyBzdHJva2U6ICM0YzcyYjA7IHN0cm9rZS13aWR0aDogMC41Ii8+CiAgICA8\ncGF0aCBkPSJNIDUzLjAwODkyIDExNy4yOTMxMjUgCkMgNTMuODA0NTI5IDExNy4yOTMxMjUgNTQu\nNTY3NjU5IDExNi45NzcwMjYgNTUuMTMwMjQgMTE2LjQxNDQ0NSAKQyA1NS42OTI4MjEgMTE1Ljg1\nMTg2NSA1Ni4wMDg5MiAxMTUuMDg4NzM0IDU2LjAwODkyIDExNC4yOTMxMjUgCkMgNTYuMDA4OTIg\nMTEzLjQ5NzUxNiA1NS42OTI4MjEgMTEyLjczNDM4NSA1NS4xMzAyNCAxMTIuMTcxODA1IApDIDU0\nLjU2NzY1OSAxMTEuNjA5MjI0IDUzLjgwNDUyOSAxMTEuMjkzMTI1IDUzLjAwODkyIDExMS4yOTMx\nMjUgCkMgNTIuMjEzMzEgMTExLjI5MzEyNSA1MS40NTAxOCAxMTEuNjA5MjI0IDUwLjg4NzU5OSAx\nMTIuMTcxODA1IApDIDUwLjMyNTAxOCAxMTIuNzM0Mzg1IDUwLjAwODkyIDExMy40OTc1MTYgNTAu\nMDA4OTIgMTE0LjI5MzEyNSAKQyA1MC4wMDg5MiAxMTUuMDg4NzM0IDUwLjMyNTAxOCAxMTUuODUx\nODY1IDUwLjg4NzU5OSAxMTYuNDE0NDQ1IApDIDUxLjQ1MDE4IDExNi45NzcwMjYgNTIuMjEzMzEg\nMTE3LjI5MzEyNSA1My4wMDg5MiAxMTcuMjkzMTI1IAp6CiIgY2xpcC1wYXRoPSJ1cmwoI3A3YzVm\nZTRhZTljKSIgc3R5bGU9ImZpbGw6ICM0YzcyYjA7IHN0cm9rZTogIzRjNzJiMDsgc3Ryb2tlLXdp\nZHRoOiAwLjUiLz4KICAgIDxwYXRoIGQ9Ik0gNTMuNjA0OTI0IDgwLjUwMzEyNSAKQyA1NC40MDA1\nMzMgODAuNTAzMTI1IDU1LjE2MzY2NCA4MC4xODcwMjYgNTUuNzI2MjQ0IDc5LjYyNDQ0NSAKQyA1\nNi4yODg4MjUgNzkuMDYxODY1IDU2LjYwNDkyNCA3OC4yOTg3MzQgNTYuNjA0OTI0IDc3LjUwMzEy\nNSAKQyA1Ni42MDQ5MjQgNzYuNzA3NTE2IDU2LjI4ODgyNSA3NS45NDQzODUgNTUuNzI2MjQ0IDc1\nLjM4MTgwNSAKQyA1NS4xNjM2NjQgNzQuODE5MjI0IDU0LjQwMDUzMyA3NC41MDMxMjUgNTMuNjA0\nOTI0IDc0LjUwMzEyNSAKQyA1Mi44MDkzMTUgNzQuNTAzMTI1IDUyLjA0NjE4NCA3NC44MTkyMjQg\nNTEuNDgzNjA0IDc1LjM4MTgwNSAKQyA1MC45MjEwMjMgNzUuOTQ0Mzg1IDUwLjYwNDkyNCA3Ni43\nMDc1MTYgNTAuNjA0OTI0IDc3LjUwMzEyNSAKQyA1MC42MDQ5MjQgNzguMjk4NzM0IDUwLjkyMTAy\nMyA3OS4wNjE4NjUgNTEuNDgzNjA0IDc5LjYyNDQ0NSAKQyA1Mi4wNDYxODQgODAuMTg3MDI2IDUy\nLjgwOTMxNSA4MC41MDMxMjUgNTMuNjA0OTI0IDgwLjUwMzEyNSAKegoiIGNsaXAtcGF0aD0idXJs\nKCNwN2M1ZmU0YWU5YykiIHN0eWxlPSJmaWxsOiAjNGM3MmIwOyBzdHJva2U6ICM0YzcyYjA7IHN0\ncm9rZS13aWR0aDogMC41Ii8+CiAgICA8cGF0aCBkPSJNIDYxLjE2NDc3MyAxNDguMDgzMTI1IApM\nIDU4LjE2NDc3MyAxNTQuMDgzMTI1IApMIDY0LjE2NDc3MyAxNTQuMDgzMTI1IAp6CiIgY2xpcC1w\nYXRoPSJ1cmwoI3A3YzVmZTRhZTljKSIgc3R5bGU9ImZpbGw6ICNkZDg0NTI7IHN0cm9rZTogI2Rk\nODQ1Mjsgc3Ryb2tlLXdpZHRoOiAwLjUiLz4KICAgIDxwYXRoIGQ9Ik0gMjMxLjYyNDgxIDM3Ljcx\nMzEyNSAKTCAyMjguNjI0ODEgNDMuNzEzMTI1IApMIDIzNC42MjQ4MSA0My43MTMxMjUgCnoKIiBj\nbGlwLXBhdGg9InVybCgjcDdjNWZlNGFlOWMpIiBzdHlsZT0iZmlsbDogI2RkODQ1Mjsgc3Ryb2tl\nOiAjZGQ4NDUyOyBzdHJva2Utd2lkdGg6IDAuNSIvPgogICAgPHBhdGggZD0iTSA4My4wMDk5MjQg\nMTExLjI5MzEyNSAKTCA4MC4wMDk5MjQgMTE3LjI5MzEyNSAKTCA4Ni4wMDk5MjQgMTE3LjI5MzEy\nNSAKegoiIGNsaXAtcGF0aD0idXJsKCNwN2M1ZmU0YWU5YykiIHN0eWxlPSJmaWxsOiAjZGQ4NDUy\nOyBzdHJva2U6ICNkZDg0NTI7IHN0cm9rZS13aWR0aDogMC41Ii8+CiAgICA8cGF0aCBkPSJNIDE3\nMS43NzYyNTYgNzQuNTAzMTI1IApMIDE2OC43NzYyNTYgODAuNTAzMTI1IApMIDE3NC43NzYyNTYg\nODAuNTAzMTI1IAp6CiIgY2xpcC1wYXRoPSJ1cmwoI3A3YzVmZTRhZTljKSIgc3R5bGU9ImZpbGw6\nICNkZDg0NTI7IHN0cm9rZTogI2RkODQ1Mjsgc3Ryb2tlLXdpZHRoOiAwLjUiLz4KICAgPC9nPgog\nICA8ZyBpZD0ibWF0cGxvdGxpYi5heGlzXzEiPgogICAgPGcgaWQ9Inh0aWNrXzEiPgogICAgIDxn\nIGlkPSJsaW5lMmRfMiI+CiAgICAgIDxkZWZzPgogICAgICAgPHBhdGggaWQ9Im02NGRjMWZiNDli\nIiBkPSJNIDAgMCAKTCAwIDMuNSAKIiBzdHlsZT0ic3Ryb2tlOiAjMDAwMDAwOyBzdHJva2Utd2lk\ndGg6IDAuOCIvPgogICAgICA8L2RlZnM+CiAgICAgIDxnPgogICAgICAgPHVzZSB4bGluazpocmVm\nPSIjbTY0ZGMxZmI0OWIiIHg9IjUyLjQ1ODgzMSIgeT0iMTY5LjQ3ODEyNSIgc3R5bGU9InN0cm9r\nZTogIzAwMDAwMDsgc3Ryb2tlLXdpZHRoOiAwLjgiLz4KICAgICAgPC9nPgogICAgIDwvZz4KICAg\nICA8ZyBpZD0idGV4dF8xIj4KICAgICAgPCEtLSAwLjAgLS0+CiAgICAgIDxnIHRyYW5zZm9ybT0i\ndHJhbnNsYXRlKDQ0LjUwNzI2OCAxODQuMDc2NTYzKSBzY2FsZSgwLjEgLTAuMSkiPgogICAgICAg\nPGRlZnM+CiAgICAgICAgPHBhdGggaWQ9IkRlamFWdVNhbnMtMzAiIGQ9Ik0gMjAzNCA0MjUwIApR\nIDE1NDcgNDI1MCAxMzAxIDM3NzAgClEgMTA1NiAzMjkxIDEwNTYgMjMyOCAKUSAxMDU2IDEzNjkg\nMTMwMSA4ODkgClEgMTU0NyA0MDkgMjAzNCA0MDkgClEgMjUyNSA0MDkgMjc3MCA4ODkgClEgMzAx\nNiAxMzY5IDMwMTYgMjMyOCAKUSAzMDE2IDMyOTEgMjc3MCAzNzcwIApRIDI1MjUgNDI1MCAyMDM0\nIDQyNTAgCnoKTSAyMDM0IDQ3NTAgClEgMjgxOSA0NzUwIDMyMzMgNDEyOSAKUSAzNjQ3IDM1MDkg\nMzY0NyAyMzI4IApRIDM2NDcgMTE1MCAzMjMzIDUyOSAKUSAyODE5IC05MSAyMDM0IC05MSAKUSAx\nMjUwIC05MSA4MzYgNTI5IApRIDQyMiAxMTUwIDQyMiAyMzI4IApRIDQyMiAzNTA5IDgzNiA0MTI5\nIApRIDEyNTAgNDc1MCAyMDM0IDQ3NTAgCnoKIiB0cmFuc2Zvcm09InNjYWxlKDAuMDE1NjI1KSIv\nPgogICAgICAgIDxwYXRoIGlkPSJEZWphVnVTYW5zLTJlIiBkPSJNIDY4NCA3OTQgCkwgMTM0NCA3\nOTQgCkwgMTM0NCAwIApMIDY4NCAwIApMIDY4NCA3OTQgCnoKIiB0cmFuc2Zvcm09InNjYWxlKDAu\nMDE1NjI1KSIvPgogICAgICAgPC9kZWZzPgogICAgICAgPHVzZSB4bGluazpocmVmPSIjRGVqYVZ1\nU2Fucy0zMCIvPgogICAgICAgPHVzZSB4bGluazpocmVmPSIjRGVqYVZ1U2Fucy0yZSIgeD0iNjMu\nNjIzMDQ3Ii8+CiAgICAgICA8dXNlIHhsaW5rOmhyZWY9IiNEZWphVnVTYW5zLTMwIiB4PSI5NS40\nMTAxNTYiLz4KICAgICAgPC9nPgogICAgIDwvZz4KICAgIDwvZz4KICAgIDxnIGlkPSJ4dGlja18y\nIj4KICAgICA8ZyBpZD0ibGluZTJkXzMiPgogICAgICA8Zz4KICAgICAgIDx1c2UgeGxpbms6aHJl\nZj0iI202NGRjMWZiNDliIiB4PSIxMDkuMzc0NjkxIiB5PSIxNjkuNDc4MTI1IiBzdHlsZT0ic3Ry\nb2tlOiAjMDAwMDAwOyBzdHJva2Utd2lkdGg6IDAuOCIvPgogICAgICA8L2c+CiAgICAgPC9nPgog\nICAgIDxnIGlkPSJ0ZXh0XzIiPgogICAgICA8IS0tIDAuMSAtLT4KICAgICAgPGcgdHJhbnNmb3Jt\nPSJ0cmFuc2xhdGUoMTAxLjQyMzEyOSAxODQuMDc2NTYzKSBzY2FsZSgwLjEgLTAuMSkiPgogICAg\nICAgPGRlZnM+CiAgICAgICAgPHBhdGggaWQ9IkRlamFWdVNhbnMtMzEiIGQ9Ik0gNzk0IDUzMSAK\nTCAxODI1IDUzMSAKTCAxODI1IDQwOTEgCkwgNzAzIDM4NjYgCkwgNzAzIDQ0NDEgCkwgMTgxOSA0\nNjY2IApMIDI0NTAgNDY2NiAKTCAyNDUwIDUzMSAKTCAzNDgxIDUzMSAKTCAzNDgxIDAgCkwgNzk0\nIDAgCkwgNzk0IDUzMSAKegoiIHRyYW5zZm9ybT0ic2NhbGUoMC4wMTU2MjUpIi8+CiAgICAgICA8\nL2RlZnM+CiAgICAgICA8dXNlIHhsaW5rOmhyZWY9IiNEZWphVnVTYW5zLTMwIi8+CiAgICAgICA8\ndXNlIHhsaW5rOmhyZWY9IiNEZWphVnVTYW5zLTJlIiB4PSI2My42MjMwNDciLz4KICAgICAgIDx1\nc2UgeGxpbms6aHJlZj0iI0RlamFWdVNhbnMtMzEiIHg9Ijk1LjQxMDE1NiIvPgogICAgICA8L2c+\nCiAgICAgPC9nPgogICAgPC9nPgogICAgPGcgaWQ9Inh0aWNrXzMiPgogICAgIDxnIGlkPSJsaW5l\nMmRfNCI+CiAgICAgIDxnPgogICAgICAgPHVzZSB4bGluazpocmVmPSIjbTY0ZGMxZmI0OWIiIHg9\nIjE2Ni4yOTA1NTEiIHk9IjE2OS40NzgxMjUiIHN0eWxlPSJzdHJva2U6ICMwMDAwMDA7IHN0cm9r\nZS13aWR0aDogMC44Ii8+CiAgICAgIDwvZz4KICAgICA8L2c+CiAgICAgPGcgaWQ9InRleHRfMyI+\nCiAgICAgIDwhLS0gMC4yIC0tPgogICAgICA8ZyB0cmFuc2Zvcm09InRyYW5zbGF0ZSgxNTguMzM4\nOTg5IDE4NC4wNzY1NjMpIHNjYWxlKDAuMSAtMC4xKSI+CiAgICAgICA8ZGVmcz4KICAgICAgICA8\ncGF0aCBpZD0iRGVqYVZ1U2Fucy0zMiIgZD0iTSAxMjI4IDUzMSAKTCAzNDMxIDUzMSAKTCAzNDMx\nIDAgCkwgNDY5IDAgCkwgNDY5IDUzMSAKUSA4MjggOTAzIDE0NDggMTUyOSAKUSAyMDY5IDIxNTYg\nMjIyOCAyMzM4IApRIDI1MzEgMjY3OCAyNjUxIDI5MTQgClEgMjc3MiAzMTUwIDI3NzIgMzM3OCAK\nUSAyNzcyIDM3NTAgMjUxMSAzOTg0IApRIDIyNTAgNDIxOSAxODMxIDQyMTkgClEgMTUzNCA0MjE5\nIDEyMDQgNDExNiAKUSA4NzUgNDAxMyA1MDAgMzgwMyAKTCA1MDAgNDQ0MSAKUSA4ODEgNDU5NCAx\nMjEyIDQ2NzIgClEgMTU0NCA0NzUwIDE4MTkgNDc1MCAKUSAyNTQ0IDQ3NTAgMjk3NSA0Mzg3IApR\nIDM0MDYgNDAyNSAzNDA2IDM0MTkgClEgMzQwNiAzMTMxIDMyOTggMjg3MyAKUSAzMTkxIDI2MTYg\nMjkwNiAyMjY2IApRIDI4MjggMjE3NSAyNDA5IDE3NDIgClEgMTk5MSAxMzA5IDEyMjggNTMxIAp6\nCiIgdHJhbnNmb3JtPSJzY2FsZSgwLjAxNTYyNSkiLz4KICAgICAgIDwvZGVmcz4KICAgICAgIDx1\nc2UgeGxpbms6aHJlZj0iI0RlamFWdVNhbnMtMzAiLz4KICAgICAgIDx1c2UgeGxpbms6aHJlZj0i\nI0RlamFWdVNhbnMtMmUiIHg9IjYzLjYyMzA0NyIvPgogICAgICAgPHVzZSB4bGluazpocmVmPSIj\nRGVqYVZ1U2Fucy0zMiIgeD0iOTUuNDEwMTU2Ii8+CiAgICAgIDwvZz4KICAgICA8L2c+CiAgICA8\nL2c+CiAgICA8ZyBpZD0ieHRpY2tfNCI+CiAgICAgPGcgaWQ9ImxpbmUyZF81Ij4KICAgICAgPGc+\nCiAgICAgICA8dXNlIHhsaW5rOmhyZWY9IiNtNjRkYzFmYjQ5YiIgeD0iMjIzLjIwNjQxMiIgeT0i\nMTY5LjQ3ODEyNSIgc3R5bGU9InN0cm9rZTogIzAwMDAwMDsgc3Ryb2tlLXdpZHRoOiAwLjgiLz4K\nICAgICAgPC9nPgogICAgIDwvZz4KICAgICA8ZyBpZD0idGV4dF80Ij4KICAgICAgPCEtLSAwLjMg\nLS0+CiAgICAgIDxnIHRyYW5zZm9ybT0idHJhbnNsYXRlKDIxNS4yNTQ4NDkgMTg0LjA3NjU2Mykg\nc2NhbGUoMC4xIC0wLjEpIj4KICAgICAgIDxkZWZzPgogICAgICAgIDxwYXRoIGlkPSJEZWphVnVT\nYW5zLTMzIiBkPSJNIDI1OTcgMjUxNiAKUSAzMDUwIDI0MTkgMzMwNCAyMTEyIApRIDM1NTkgMTgw\nNiAzNTU5IDEzNTYgClEgMzU1OSA2NjYgMzA4NCAyODcgClEgMjYwOSAtOTEgMTczNCAtOTEgClEg\nMTQ0MSAtOTEgMTEzMCAtMzMgClEgODE5IDI1IDQ4OCAxNDEgCkwgNDg4IDc1MCAKUSA3NTAgNTk3\nIDEwNjIgNTE5IApRIDEzNzUgNDQxIDE3MTYgNDQxIApRIDIzMDkgNDQxIDI2MjAgNjc1IApRIDI5\nMzEgOTA5IDI5MzEgMTM1NiAKUSAyOTMxIDE3NjkgMjY0MiAyMDAxIApRIDIzNTMgMjIzNCAxODM4\nIDIyMzQgCkwgMTI5NCAyMjM0IApMIDEyOTQgMjc1MyAKTCAxODYzIDI3NTMgClEgMjMyOCAyNzUz\nIDI1NzUgMjkzOSAKUSAyODIyIDMxMjUgMjgyMiAzNDc1IApRIDI4MjIgMzgzNCAyNTY3IDQwMjYg\nClEgMjMxMyA0MjE5IDE4MzggNDIxOSAKUSAxNTc4IDQyMTkgMTI4MSA0MTYyIApRIDk4NCA0MTA2\nIDYyOCAzOTg4IApMIDYyOCA0NTUwIApRIDk4OCA0NjUwIDEzMDIgNDcwMCAKUSAxNjE2IDQ3NTAg\nMTg5NCA0NzUwIApRIDI2MTMgNDc1MCAzMDMxIDQ0MjMgClEgMzQ1MCA0MDk3IDM0NTAgMzU0MSAK\nUSAzNDUwIDMxNTMgMzIyOCAyODg2IApRIDMwMDYgMjYxOSAyNTk3IDI1MTYgCnoKIiB0cmFuc2Zv\ncm09InNjYWxlKDAuMDE1NjI1KSIvPgogICAgICAgPC9kZWZzPgogICAgICAgPHVzZSB4bGluazpo\ncmVmPSIjRGVqYVZ1U2Fucy0zMCIvPgogICAgICAgPHVzZSB4bGluazpocmVmPSIjRGVqYVZ1U2Fu\ncy0yZSIgeD0iNjMuNjIzMDQ3Ii8+CiAgICAgICA8dXNlIHhsaW5rOmhyZWY9IiNEZWphVnVTYW5z\nLTMzIiB4PSI5NS40MTAxNTYiLz4KICAgICAgPC9nPgogICAgIDwvZz4KICAgIDwvZz4KICAgIDxn\nIGlkPSJ0ZXh0XzUiPgogICAgIDwhLS0gQWJzb2x1dGUgc3RhbmRhcmRpemVkIG1lYW4gZGlmZmVy\nZW5jZSAtLT4KICAgICA8ZyB0cmFuc2Zvcm09InRyYW5zbGF0ZSg0My45MDA0NTggMTk3Ljc1NDY4\nOCkgc2NhbGUoMC4xIC0wLjEpIj4KICAgICAgPGRlZnM+CiAgICAgICA8cGF0aCBpZD0iRGVqYVZ1\nU2Fucy00MSIgZD0iTSAyMTg4IDQwNDQgCkwgMTMzMSAxNzIyIApMIDMwNDcgMTcyMiAKTCAyMTg4\nIDQwNDQgCnoKTSAxODMxIDQ2NjYgCkwgMjU0NyA0NjY2IApMIDQzMjUgMCAKTCAzNjY5IDAgCkwg\nMzI0NCAxMTk3IApMIDExNDEgMTE5NyAKTCA3MTYgMCAKTCA1MCAwIApMIDE4MzEgNDY2NiAKegoi\nIHRyYW5zZm9ybT0ic2NhbGUoMC4wMTU2MjUpIi8+CiAgICAgICA8cGF0aCBpZD0iRGVqYVZ1U2Fu\ncy02MiIgZD0iTSAzMTE2IDE3NDcgClEgMzExNiAyMzgxIDI4NTUgMjc0MiAKUSAyNTk0IDMxMDMg\nMjEzOCAzMTAzIApRIDE2ODEgMzEwMyAxNDIwIDI3NDIgClEgMTE1OSAyMzgxIDExNTkgMTc0NyAK\nUSAxMTU5IDExMTMgMTQyMCA3NTIgClEgMTY4MSAzOTEgMjEzOCAzOTEgClEgMjU5NCAzOTEgMjg1\nNSA3NTIgClEgMzExNiAxMTEzIDMxMTYgMTc0NyAKegpNIDExNTkgMjk2OSAKUSAxMzQxIDMyODEg\nMTYxNyAzNDMyIApRIDE4OTQgMzU4NCAyMjc4IDM1ODQgClEgMjkxNiAzNTg0IDMzMTQgMzA3OCAK\nUSAzNzEzIDI1NzIgMzcxMyAxNzQ3IApRIDM3MTMgOTIyIDMzMTQgNDE1IApRIDI5MTYgLTkxIDIy\nNzggLTkxIApRIDE4OTQgLTkxIDE2MTcgNjEgClEgMTM0MSAyMTMgMTE1OSA1MjUgCkwgMTE1OSAw\nIApMIDU4MSAwIApMIDU4MSA0ODYzIApMIDExNTkgNDg2MyAKTCAxMTU5IDI5NjkgCnoKIiB0cmFu\nc2Zvcm09InNjYWxlKDAuMDE1NjI1KSIvPgogICAgICAgPHBhdGggaWQ9IkRlamFWdVNhbnMtNzMi\nIGQ9Ik0gMjgzNCAzMzk3IApMIDI4MzQgMjg1MyAKUSAyNTkxIDI5NzggMjMyOCAzMDQwIApRIDIw\nNjYgMzEwMyAxNzg0IDMxMDMgClEgMTM1NiAzMTAzIDExNDIgMjk3MiAKUSA5MjggMjg0MSA5Mjgg\nMjU3OCAKUSA5MjggMjM3OCAxMDgxIDIyNjQgClEgMTIzNCAyMTUwIDE2OTcgMjA0NyAKTCAxODk0\nIDIwMDMgClEgMjUwNiAxODcyIDI3NjQgMTYzMyAKUSAzMDIyIDEzOTQgMzAyMiA5NjYgClEgMzAy\nMiA0NzggMjYzNiAxOTMgClEgMjI1MCAtOTEgMTU3NSAtOTEgClEgMTI5NCAtOTEgOTg5IC0zNiAK\nUSA2ODQgMTkgMzQ3IDEyOCAKTCAzNDcgNzIyIApRIDY2NiA1NTYgOTc1IDQ3MyAKUSAxMjg0IDM5\nMSAxNTg4IDM5MSAKUSAxOTk0IDM5MSAyMjEyIDUzMCAKUSAyNDMxIDY2OSAyNDMxIDkyMiAKUSAy\nNDMxIDExNTYgMjI3MyAxMjgxIApRIDIxMTYgMTQwNiAxNTgxIDE1MjIgCkwgMTM4MSAxNTY5IApR\nIDg0NyAxNjgxIDYwOSAxOTE0IApRIDM3MiAyMTQ3IDM3MiAyNTUzIApRIDM3MiAzMDQ3IDcyMiAz\nMzE1IApRIDEwNzIgMzU4NCAxNzE2IDM1ODQgClEgMjAzNCAzNTg0IDIzMTUgMzUzNyAKUSAyNTk3\nIDM0OTEgMjgzNCAzMzk3IAp6CiIgdHJhbnNmb3JtPSJzY2FsZSgwLjAxNTYyNSkiLz4KICAgICAg\nIDxwYXRoIGlkPSJEZWphVnVTYW5zLTZmIiBkPSJNIDE5NTkgMzA5NyAKUSAxNDk3IDMwOTcgMTIy\nOCAyNzM2IApRIDk1OSAyMzc1IDk1OSAxNzQ3IApRIDk1OSAxMTE5IDEyMjYgNzU4IApRIDE0OTQg\nMzk3IDE5NTkgMzk3IApRIDI0MTkgMzk3IDI2ODcgNzU5IApRIDI5NTYgMTEyMiAyOTU2IDE3NDcg\nClEgMjk1NiAyMzY5IDI2ODcgMjczMyAKUSAyNDE5IDMwOTcgMTk1OSAzMDk3IAp6Ck0gMTk1OSAz\nNTg0IApRIDI3MDkgMzU4NCAzMTM3IDMwOTYgClEgMzU2NiAyNjA5IDM1NjYgMTc0NyAKUSAzNTY2\nIDg4OCAzMTM3IDM5OCAKUSAyNzA5IC05MSAxOTU5IC05MSAKUSAxMjA2IC05MSA3NzkgMzk4IApR\nIDM1MyA4ODggMzUzIDE3NDcgClEgMzUzIDI2MDkgNzc5IDMwOTYgClEgMTIwNiAzNTg0IDE5NTkg\nMzU4NCAKegoiIHRyYW5zZm9ybT0ic2NhbGUoMC4wMTU2MjUpIi8+CiAgICAgICA8cGF0aCBpZD0i\nRGVqYVZ1U2Fucy02YyIgZD0iTSA2MDMgNDg2MyAKTCAxMTc4IDQ4NjMgCkwgMTE3OCAwIApMIDYw\nMyAwIApMIDYwMyA0ODYzIAp6CiIgdHJhbnNmb3JtPSJzY2FsZSgwLjAxNTYyNSkiLz4KICAgICAg\nIDxwYXRoIGlkPSJEZWphVnVTYW5zLTc1IiBkPSJNIDU0NCAxMzgxIApMIDU0NCAzNTAwIApMIDEx\nMTkgMzUwMCAKTCAxMTE5IDE0MDMgClEgMTExOSA5MDYgMTMxMiA2NTcgClEgMTUwNiA0MDkgMTg5\nNCA0MDkgClEgMjM1OSA0MDkgMjYyOSA3MDYgClEgMjkwMCAxMDAzIDI5MDAgMTUxNiAKTCAyOTAw\nIDM1MDAgCkwgMzQ3NSAzNTAwIApMIDM0NzUgMCAKTCAyOTAwIDAgCkwgMjkwMCA1MzggClEgMjY5\nMSAyMTkgMjQxNCA2NCAKUSAyMTM4IC05MSAxNzcyIC05MSAKUSAxMTY5IC05MSA4NTYgMjg0IApR\nIDU0NCA2NTkgNTQ0IDEzODEgCnoKTSAxOTkxIDM1ODQgCkwgMTk5MSAzNTg0IAp6CiIgdHJhbnNm\nb3JtPSJzY2FsZSgwLjAxNTYyNSkiLz4KICAgICAgIDxwYXRoIGlkPSJEZWphVnVTYW5zLTc0IiBk\nPSJNIDExNzIgNDQ5NCAKTCAxMTcyIDM1MDAgCkwgMjM1NiAzNTAwIApMIDIzNTYgMzA1MyAKTCAx\nMTcyIDMwNTMgCkwgMTE3MiAxMTUzIApRIDExNzIgNzI1IDEyODkgNjAzIApRIDE0MDYgNDgxIDE3\nNjYgNDgxIApMIDIzNTYgNDgxIApMIDIzNTYgMCAKTCAxNzY2IDAgClEgMTEwMCAwIDg0NyAyNDgg\nClEgNTk0IDQ5NyA1OTQgMTE1MyAKTCA1OTQgMzA1MyAKTCAxNzIgMzA1MyAKTCAxNzIgMzUwMCAK\nTCA1OTQgMzUwMCAKTCA1OTQgNDQ5NCAKTCAxMTcyIDQ0OTQgCnoKIiB0cmFuc2Zvcm09InNjYWxl\nKDAuMDE1NjI1KSIvPgogICAgICAgPHBhdGggaWQ9IkRlamFWdVNhbnMtNjUiIGQ9Ik0gMzU5NyAx\nODk0IApMIDM1OTcgMTYxMyAKTCA5NTMgMTYxMyAKUSA5OTEgMTAxOSAxMzExIDcwOCAKUSAxNjMx\nIDM5NyAyMjAzIDM5NyAKUSAyNTM0IDM5NyAyODQ1IDQ3OCAKUSAzMTU2IDU1OSAzNDYzIDcyMiAK\nTCAzNDYzIDE3OCAKUSAzMTUzIDQ3IDI4MjggLTIyIApRIDI1MDMgLTkxIDIxNjkgLTkxIApRIDEz\nMzEgLTkxIDg0MiAzOTYgClEgMzUzIDg4NCAzNTMgMTcxNiAKUSAzNTMgMjU3NSA4MTcgMzA3OSAK\nUSAxMjgxIDM1ODQgMjA2OSAzNTg0IApRIDI3NzUgMzU4NCAzMTg2IDMxMjkgClEgMzU5NyAyNjc1\nIDM1OTcgMTg5NCAKegpNIDMwMjIgMjA2MyAKUSAzMDE2IDI1MzQgMjc1OCAyODE1IApRIDI1MDAg\nMzA5NyAyMDc1IDMwOTcgClEgMTU5NCAzMDk3IDEzMDUgMjgyNSAKUSAxMDE2IDI1NTMgOTcyIDIw\nNTkgCkwgMzAyMiAyMDYzIAp6CiIgdHJhbnNmb3JtPSJzY2FsZSgwLjAxNTYyNSkiLz4KICAgICAg\nIDxwYXRoIGlkPSJEZWphVnVTYW5zLTIwIiB0cmFuc2Zvcm09InNjYWxlKDAuMDE1NjI1KSIvPgog\nICAgICAgPHBhdGggaWQ9IkRlamFWdVNhbnMtNjEiIGQ9Ik0gMjE5NCAxNzU5IApRIDE0OTcgMTc1\nOSAxMjI4IDE2MDAgClEgOTU5IDE0NDEgOTU5IDEwNTYgClEgOTU5IDc1MCAxMTYxIDU3MCAKUSAx\nMzYzIDM5MSAxNzA5IDM5MSAKUSAyMTg4IDM5MSAyNDc3IDczMCAKUSAyNzY2IDEwNjkgMjc2NiAx\nNjMxIApMIDI3NjYgMTc1OSAKTCAyMTk0IDE3NTkgCnoKTSAzMzQxIDE5OTcgCkwgMzM0MSAwIApM\nIDI3NjYgMCAKTCAyNzY2IDUzMSAKUSAyNTY5IDIxMyAyMjc1IDYxIApRIDE5ODEgLTkxIDE1NTYg\nLTkxIApRIDEwMTkgLTkxIDcwMSAyMTEgClEgMzg0IDUxMyAzODQgMTAxOSAKUSAzODQgMTYwOSA3\nNzkgMTkwOSAKUSAxMTc1IDIyMDkgMTk1OSAyMjA5IApMIDI3NjYgMjIwOSAKTCAyNzY2IDIyNjYg\nClEgMjc2NiAyNjYzIDI1MDUgMjg4MCAKUSAyMjQ0IDMwOTcgMTc3MiAzMDk3IApRIDE0NzIgMzA5\nNyAxMTg3IDMwMjUgClEgOTAzIDI5NTMgNjQxIDI4MDkgCkwgNjQxIDMzNDEgClEgOTU2IDM0NjMg\nMTI1MyAzNTIzIApRIDE1NTAgMzU4NCAxODMxIDM1ODQgClEgMjU5MSAzNTg0IDI5NjYgMzE5MCAK\nUSAzMzQxIDI3OTcgMzM0MSAxOTk3IAp6CiIgdHJhbnNmb3JtPSJzY2FsZSgwLjAxNTYyNSkiLz4K\nICAgICAgIDxwYXRoIGlkPSJEZWphVnVTYW5zLTZlIiBkPSJNIDM1MTMgMjExMyAKTCAzNTEzIDAg\nCkwgMjkzOCAwIApMIDI5MzggMjA5NCAKUSAyOTM4IDI1OTEgMjc0NCAyODM3IApRIDI1NTAgMzA4\nNCAyMTYzIDMwODQgClEgMTY5NyAzMDg0IDE0MjggMjc4NyAKUSAxMTU5IDI0OTEgMTE1OSAxOTc4\nIApMIDExNTkgMCAKTCA1ODEgMCAKTCA1ODEgMzUwMCAKTCAxMTU5IDM1MDAgCkwgMTE1OSAyOTU2\nIApRIDEzNjYgMzI3MiAxNjQ1IDM0MjggClEgMTkyNSAzNTg0IDIyOTEgMzU4NCAKUSAyODk0IDM1\nODQgMzIwMyAzMjExIApRIDM1MTMgMjgzOCAzNTEzIDIxMTMgCnoKIiB0cmFuc2Zvcm09InNjYWxl\nKDAuMDE1NjI1KSIvPgogICAgICAgPHBhdGggaWQ9IkRlamFWdVNhbnMtNjQiIGQ9Ik0gMjkwNiAy\nOTY5IApMIDI5MDYgNDg2MyAKTCAzNDgxIDQ4NjMgCkwgMzQ4MSAwIApMIDI5MDYgMCAKTCAyOTA2\nIDUyNSAKUSAyNzI1IDIxMyAyNDQ4IDYxIApRIDIxNzIgLTkxIDE3ODQgLTkxIApRIDExNTAgLTkx\nIDc1MSA0MTUgClEgMzUzIDkyMiAzNTMgMTc0NyAKUSAzNTMgMjU3MiA3NTEgMzA3OCAKUSAxMTUw\nIDM1ODQgMTc4NCAzNTg0IApRIDIxNzIgMzU4NCAyNDQ4IDM0MzIgClEgMjcyNSAzMjgxIDI5MDYg\nMjk2OSAKegpNIDk0NyAxNzQ3IApRIDk0NyAxMTEzIDEyMDggNzUyIApRIDE0NjkgMzkxIDE5MjUg\nMzkxIApRIDIzODEgMzkxIDI2NDMgNzUyIApRIDI5MDYgMTExMyAyOTA2IDE3NDcgClEgMjkwNiAy\nMzgxIDI2NDMgMjc0MiAKUSAyMzgxIDMxMDMgMTkyNSAzMTAzIApRIDE0NjkgMzEwMyAxMjA4IDI3\nNDIgClEgOTQ3IDIzODEgOTQ3IDE3NDcgCnoKIiB0cmFuc2Zvcm09InNjYWxlKDAuMDE1NjI1KSIv\nPgogICAgICAgPHBhdGggaWQ9IkRlamFWdVNhbnMtNzIiIGQ9Ik0gMjYzMSAyOTYzIApRIDI1MzQg\nMzAxOSAyNDIwIDMwNDUgClEgMjMwNiAzMDcyIDIxNjkgMzA3MiAKUSAxNjgxIDMwNzIgMTQyMCAy\nNzU1IApRIDExNTkgMjQzOCAxMTU5IDE4NDQgCkwgMTE1OSAwIApMIDU4MSAwIApMIDU4MSAzNTAw\nIApMIDExNTkgMzUwMCAKTCAxMTU5IDI5NTYgClEgMTM0MSAzMjc1IDE2MzEgMzQyOSAKUSAxOTIy\nIDM1ODQgMjMzOCAzNTg0IApRIDIzOTcgMzU4NCAyNDY5IDM1NzYgClEgMjU0MSAzNTY5IDI2Mjgg\nMzU1MyAKTCAyNjMxIDI5NjMgCnoKIiB0cmFuc2Zvcm09InNjYWxlKDAuMDE1NjI1KSIvPgogICAg\nICAgPHBhdGggaWQ9IkRlamFWdVNhbnMtNjkiIGQ9Ik0gNjAzIDM1MDAgCkwgMTE3OCAzNTAwIApM\nIDExNzggMCAKTCA2MDMgMCAKTCA2MDMgMzUwMCAKegpNIDYwMyA0ODYzIApMIDExNzggNDg2MyAK\nTCAxMTc4IDQxMzQgCkwgNjAzIDQxMzQgCkwgNjAzIDQ4NjMgCnoKIiB0cmFuc2Zvcm09InNjYWxl\nKDAuMDE1NjI1KSIvPgogICAgICAgPHBhdGggaWQ9IkRlamFWdVNhbnMtN2EiIGQ9Ik0gMzUzIDM1\nMDAgCkwgMzA4NCAzNTAwIApMIDMwODQgMjk3NSAKTCA5MjIgNDU5IApMIDMwODQgNDU5IApMIDMw\nODQgMCAKTCAyNzUgMCAKTCAyNzUgNTI1IApMIDI0MzggMzA0MSAKTCAzNTMgMzA0MSAKTCAzNTMg\nMzUwMCAKegoiIHRyYW5zZm9ybT0ic2NhbGUoMC4wMTU2MjUpIi8+CiAgICAgICA8cGF0aCBpZD0i\nRGVqYVZ1U2Fucy02ZCIgZD0iTSAzMzI4IDI4MjggClEgMzU0NCAzMjE2IDM4NDQgMzQwMCAKUSA0\nMTQ0IDM1ODQgNDU1MCAzNTg0IApRIDUwOTcgMzU4NCA1Mzk0IDMyMDEgClEgNTY5MSAyODE5IDU2\nOTEgMjExMyAKTCA1NjkxIDAgCkwgNTExMyAwIApMIDUxMTMgMjA5NCAKUSA1MTEzIDI1OTcgNDkz\nNCAyODQwIApRIDQ3NTYgMzA4NCA0MzkxIDMwODQgClEgMzk0NCAzMDg0IDM2ODQgMjc4NyAKUSAz\nNDI1IDI0OTEgMzQyNSAxOTc4IApMIDM0MjUgMCAKTCAyODQ3IDAgCkwgMjg0NyAyMDk0IApRIDI4\nNDcgMjYwMCAyNjY5IDI4NDIgClEgMjQ5MSAzMDg0IDIxMTkgMzA4NCAKUSAxNjc4IDMwODQgMTQx\nOCAyNzg2IApRIDExNTkgMjQ4OCAxMTU5IDE5NzggCkwgMTE1OSAwIApMIDU4MSAwIApMIDU4MSAz\nNTAwIApMIDExNTkgMzUwMCAKTCAxMTU5IDI5NTYgClEgMTM1NiAzMjc4IDE2MzEgMzQzMSAKUSAx\nOTA2IDM1ODQgMjI4NCAzNTg0IApRIDI2NjYgMzU4NCAyOTMzIDMzOTAgClEgMzIwMCAzMTk3IDMz\nMjggMjgyOCAKegoiIHRyYW5zZm9ybT0ic2NhbGUoMC4wMTU2MjUpIi8+CiAgICAgICA8cGF0aCBp\nZD0iRGVqYVZ1U2Fucy02NiIgZD0iTSAyMzc1IDQ4NjMgCkwgMjM3NSA0Mzg0IApMIDE4MjUgNDM4\nNCAKUSAxNTE2IDQzODQgMTM5NSA0MjU5IApRIDEyNzUgNDEzNCAxMjc1IDM4MDkgCkwgMTI3NSAz\nNTAwIApMIDIyMjIgMzUwMCAKTCAyMjIyIDMwNTMgCkwgMTI3NSAzMDUzIApMIDEyNzUgMCAKTCA2\nOTcgMCAKTCA2OTcgMzA1MyAKTCAxNDcgMzA1MyAKTCAxNDcgMzUwMCAKTCA2OTcgMzUwMCAKTCA2\nOTcgMzc0NCAKUSA2OTcgNDMyOCA5NjkgNDU5NSAKUSAxMjQxIDQ4NjMgMTgzMSA0ODYzIApMIDIz\nNzUgNDg2MyAKegoiIHRyYW5zZm9ybT0ic2NhbGUoMC4wMTU2MjUpIi8+CiAgICAgICA8cGF0aCBp\nZD0iRGVqYVZ1U2Fucy02MyIgZD0iTSAzMTIyIDMzNjYgCkwgMzEyMiAyODI4IApRIDI4NzggMjk2\nMyAyNjMzIDMwMzAgClEgMjM4OCAzMDk3IDIxMzggMzA5NyAKUSAxNTc4IDMwOTcgMTI2OCAyNzQy\nIApRIDk1OSAyMzg4IDk1OSAxNzQ3IApRIDk1OSAxMTA2IDEyNjggNzUxIApRIDE1NzggMzk3IDIx\nMzggMzk3IApRIDIzODggMzk3IDI2MzMgNDY0IApRIDI4NzggNTMxIDMxMjIgNjY2IApMIDMxMjIg\nMTM0IApRIDI4ODEgMjIgMjYyMyAtMzQgClEgMjM2NiAtOTEgMjA3NSAtOTEgClEgMTI4NCAtOTEg\nODE4IDQwNiAKUSAzNTMgOTAzIDM1MyAxNzQ3IApRIDM1MyAyNjAzIDgyMyAzMDkzIApRIDEyOTQg\nMzU4NCAyMTEzIDM1ODQgClEgMjM3OCAzNTg0IDI2MzEgMzUyOSAKUSAyODg0IDM0NzUgMzEyMiAz\nMzY2IAp6CiIgdHJhbnNmb3JtPSJzY2FsZSgwLjAxNTYyNSkiLz4KICAgICAgPC9kZWZzPgogICAg\nICA8dXNlIHhsaW5rOmhyZWY9IiNEZWphVnVTYW5zLTQxIi8+CiAgICAgIDx1c2UgeGxpbms6aHJl\nZj0iI0RlamFWdVNhbnMtNjIiIHg9IjY4LjQwODIwMyIvPgogICAgICA8dXNlIHhsaW5rOmhyZWY9\nIiNEZWphVnVTYW5zLTczIiB4PSIxMzEuODg0NzY2Ii8+CiAgICAgIDx1c2UgeGxpbms6aHJlZj0i\nI0RlamFWdVNhbnMtNmYiIHg9IjE4My45ODQzNzUiLz4KICAgICAgPHVzZSB4bGluazpocmVmPSIj\nRGVqYVZ1U2Fucy02YyIgeD0iMjQ1LjE2NjAxNiIvPgogICAgICA8dXNlIHhsaW5rOmhyZWY9IiNE\nZWphVnVTYW5zLTc1IiB4PSIyNzIuOTQ5MjE5Ii8+CiAgICAgIDx1c2UgeGxpbms6aHJlZj0iI0Rl\namFWdVNhbnMtNzQiIHg9IjMzNi4zMjgxMjUiLz4KICAgICAgPHVzZSB4bGluazpocmVmPSIjRGVq\nYVZ1U2Fucy02NSIgeD0iMzc1LjUzNzEwOSIvPgogICAgICA8dXNlIHhsaW5rOmhyZWY9IiNEZWph\nVnVTYW5zLTIwIiB4PSI0MzcuMDYwNTQ3Ii8+CiAgICAgIDx1c2UgeGxpbms6aHJlZj0iI0RlamFW\ndVNhbnMtNzMiIHg9IjQ2OC44NDc2NTYiLz4KICAgICAgPHVzZSB4bGluazpocmVmPSIjRGVqYVZ1\nU2Fucy03NCIgeD0iNTIwLjk0NzI2NiIvPgogICAgICA8dXNlIHhsaW5rOmhyZWY9IiNEZWphVnVT\nYW5zLTYxIiB4PSI1NjAuMTU2MjUiLz4KICAgICAgPHVzZSB4bGluazpocmVmPSIjRGVqYVZ1U2Fu\ncy02ZSIgeD0iNjIxLjQzNTU0NyIvPgogICAgICA8dXNlIHhsaW5rOmhyZWY9IiNEZWphVnVTYW5z\nLTY0IiB4PSI2ODQuODE0NDUzIi8+CiAgICAgIDx1c2UgeGxpbms6aHJlZj0iI0RlamFWdVNhbnMt\nNjEiIHg9Ijc0OC4yOTEwMTYiLz4KICAgICAgPHVzZSB4bGluazpocmVmPSIjRGVqYVZ1U2Fucy03\nMiIgeD0iODA5LjU3MDMxMiIvPgogICAgICA8dXNlIHhsaW5rOmhyZWY9IiNEZWphVnVTYW5zLTY0\nIiB4PSI4NDguOTMzNTk0Ii8+CiAgICAgIDx1c2UgeGxpbms6aHJlZj0iI0RlamFWdVNhbnMtNjki\nIHg9IjkxMi40MTAxNTYiLz4KICAgICAgPHVzZSB4bGluazpocmVmPSIjRGVqYVZ1U2Fucy03YSIg\neD0iOTQwLjE5MzM1OSIvPgogICAgICA8dXNlIHhsaW5rOmhyZWY9IiNEZWphVnVTYW5zLTY1IiB4\nPSI5OTIuNjgzNTk0Ii8+CiAgICAgIDx1c2UgeGxpbms6aHJlZj0iI0RlamFWdVNhbnMtNjQiIHg9\nIjEwNTQuMjA3MDMxIi8+CiAgICAgIDx1c2UgeGxpbms6aHJlZj0iI0RlamFWdVNhbnMtMjAiIHg9\nIjExMTcuNjgzNTk0Ii8+CiAgICAgIDx1c2UgeGxpbms6aHJlZj0iI0RlamFWdVNhbnMtNmQiIHg9\nIjExNDkuNDcwNzAzIi8+CiAgICAgIDx1c2UgeGxpbms6aHJlZj0iI0RlamFWdVNhbnMtNjUiIHg9\nIjEyNDYuODgyODEyIi8+CiAgICAgIDx1c2UgeGxpbms6aHJlZj0iI0RlamFWdVNhbnMtNjEiIHg9\nIjEzMDguNDA2MjUiLz4KICAgICAgPHVzZSB4bGluazpocmVmPSIjRGVqYVZ1U2Fucy02ZSIgeD0i\nMTM2OS42ODU1NDciLz4KICAgICAgPHVzZSB4bGluazpocmVmPSIjRGVqYVZ1U2Fucy0yMCIgeD0i\nMTQzMy4wNjQ0NTMiLz4KICAgICAgPHVzZSB4bGluazpocmVmPSIjRGVqYVZ1U2Fucy02NCIgeD0i\nMTQ2NC44NTE1NjIiLz4KICAgICAgPHVzZSB4bGluazpocmVmPSIjRGVqYVZ1U2Fucy02OSIgeD0i\nMTUyOC4zMjgxMjUiLz4KICAgICAgPHVzZSB4bGluazpocmVmPSIjRGVqYVZ1U2Fucy02NiIgeD0i\nMTU1Ni4xMTEzMjgiLz4KICAgICAgPHVzZSB4bGluazpocmVmPSIjRGVqYVZ1U2Fucy02NiIgeD0i\nMTU5MS4zMTY0MDYiLz4KICAgICAgPHVzZSB4bGluazpocmVmPSIjRGVqYVZ1U2Fucy02NSIgeD0i\nMTYyNi41MjE0ODQiLz4KICAgICAgPHVzZSB4bGluazpocmVmPSIjRGVqYVZ1U2Fucy03MiIgeD0i\nMTY4OC4wNDQ5MjIiLz4KICAgICAgPHVzZSB4bGluazpocmVmPSIjRGVqYVZ1U2Fucy02NSIgeD0i\nMTcyNi45MDgyMDMiLz4KICAgICAgPHVzZSB4bGluazpocmVmPSIjRGVqYVZ1U2Fucy02ZSIgeD0i\nMTc4OC40MzE2NDEiLz4KICAgICAgPHVzZSB4bGluazpocmVmPSIjRGVqYVZ1U2Fucy02MyIgeD0i\nMTg1MS44MTA1NDciLz4KICAgICAgPHVzZSB4bGluazpocmVmPSIjRGVqYVZ1U2Fucy02NSIgeD0i\nMTkwNi43OTEwMTYiLz4KICAgICA8L2c+CiAgICA8L2c+CiAgIDwvZz4KICAgPGcgaWQ9Im1hdHBs\nb3RsaWIuYXhpc18yIj4KICAgIDxnIGlkPSJ5dGlja18xIj4KICAgICA8ZyBpZD0ibGluZTJkXzYi\nPgogICAgICA8ZGVmcz4KICAgICAgIDxwYXRoIGlkPSJtZGY1MDA1MzZjYiIgZD0iTSAwIDAgCkwg\nLTMuNSAwIAoiIHN0eWxlPSJzdHJva2U6ICMwMDAwMDA7IHN0cm9rZS13aWR0aDogMC44Ii8+CiAg\nICAgIDwvZGVmcz4KICAgICAgPGc+CiAgICAgICA8dXNlIHhsaW5rOmhyZWY9IiNtZGY1MDA1MzZj\nYiIgeD0iNDQuMDc4MTI1IiB5PSI0MC43MTMxMjUiIHN0eWxlPSJzdHJva2U6ICMwMDAwMDA7IHN0\ncm9rZS13aWR0aDogMC44Ii8+CiAgICAgIDwvZz4KICAgICA8L2c+CiAgICAgPGcgaWQ9InRleHRf\nNiI+CiAgICAgIDwhLS0gJFhfQSQgLS0+CiAgICAgIDxnIHRyYW5zZm9ybT0idHJhbnNsYXRlKDI1\nLjA3ODEyNSA0NC41MTIzNDQpIHNjYWxlKDAuMSAtMC4xKSI+CiAgICAgICA8ZGVmcz4KICAgICAg\nICA8cGF0aCBpZD0iRGVqYVZ1U2Fucy1PYmxpcXVlLTU4IiBkPSJNIDg3OCA0NjY2IApMIDE1MTYg\nNDY2NiAKTCAyMzE2IDI5ODEgCkwgMzc2MyA0NjY2IApMIDQ1MDAgNDY2NiAKTCAyNTc4IDI0Mzgg\nCkwgMzczOCAwIApMIDMxMDMgMCAKTCAyMTYzIDE5NjYgCkwgNDU5IDAgCkwgLTI3NSAwIApMIDE5\nMDYgMjUwOSAKTCA4NzggNDY2NiAKegoiIHRyYW5zZm9ybT0ic2NhbGUoMC4wMTU2MjUpIi8+CiAg\nICAgICAgPHBhdGggaWQ9IkRlamFWdVNhbnMtT2JsaXF1ZS00MSIgZD0iTSAyMzU2IDQ2NjYgCkwg\nMzA3MiA0NjY2IApMIDM5MzggMCAKTCAzMjc4IDAgCkwgMzA4NCAxMTk3IApMIDk4NCAxMTk3IApM\nIDMyNSAwIApMIC0zNDEgMCAKTCAyMzU2IDQ2NjYgCnoKTSAyNTg0IDQwNDQgCkwgMTI3NSAxNzIy\nIApMIDI5ODggMTcyMiAKTCAyNTg0IDQwNDQgCnoKIiB0cmFuc2Zvcm09InNjYWxlKDAuMDE1NjI1\nKSIvPgogICAgICAgPC9kZWZzPgogICAgICAgPHVzZSB4bGluazpocmVmPSIjRGVqYVZ1U2Fucy1P\nYmxpcXVlLTU4IiB0cmFuc2Zvcm09InRyYW5zbGF0ZSgwIDAuMDkzNzUpIi8+CiAgICAgICA8dXNl\nIHhsaW5rOmhyZWY9IiNEZWphVnVTYW5zLU9ibGlxdWUtNDEiIHRyYW5zZm9ybT0idHJhbnNsYXRl\nKDY4LjUwNTg1OSAtMTYuMzEyNSkgc2NhbGUoMC43KSIvPgogICAgICA8L2c+CiAgICAgPC9nPgog\nICAgPC9nPgogICAgPGcgaWQ9Inl0aWNrXzIiPgogICAgIDxnIGlkPSJsaW5lMmRfNyI+CiAgICAg\nIDxnPgogICAgICAgPHVzZSB4bGluazpocmVmPSIjbWRmNTAwNTM2Y2IiIHg9IjQ0LjA3ODEyNSIg\neT0iNzcuNTAzMTI1IiBzdHlsZT0ic3Ryb2tlOiAjMDAwMDAwOyBzdHJva2Utd2lkdGg6IDAuOCIv\nPgogICAgICA8L2c+CiAgICAgPC9nPgogICAgIDxnIGlkPSJ0ZXh0XzciPgogICAgICA8IS0tICRY\nX3tBWX0kIC0tPgogICAgICA8ZyB0cmFuc2Zvcm09InRyYW5zbGF0ZSgyMC44NzgxMjUgODEuMzAy\nMzQ0KSBzY2FsZSgwLjEgLTAuMSkiPgogICAgICAgPGRlZnM+CiAgICAgICAgPHBhdGggaWQ9IkRl\namFWdVNhbnMtT2JsaXF1ZS01OSIgZD0iTSA0MDMgNDY2NiAKTCAxMDgxIDQ2NjYgCkwgMTk1MyAy\nNzQ3IApMIDM2MTYgNDY2NiAKTCA0MzI1IDQ2NjYgCkwgMjIwOSAyMjIyIApMIDE3NzggMCAKTCAx\nMTQ3IDAgCkwgMTU3NSAyMjIyIApMIDQwMyA0NjY2IAp6CiIgdHJhbnNmb3JtPSJzY2FsZSgwLjAx\nNTYyNSkiLz4KICAgICAgIDwvZGVmcz4KICAgICAgIDx1c2UgeGxpbms6aHJlZj0iI0RlamFWdVNh\nbnMtT2JsaXF1ZS01OCIgdHJhbnNmb3JtPSJ0cmFuc2xhdGUoMCAwLjA5Mzc1KSIvPgogICAgICAg\nPHVzZSB4bGluazpocmVmPSIjRGVqYVZ1U2Fucy1PYmxpcXVlLTQxIiB0cmFuc2Zvcm09InRyYW5z\nbGF0ZSg2OC41MDU4NTkgLTE2LjMxMjUpIHNjYWxlKDAuNykiLz4KICAgICAgIDx1c2UgeGxpbms6\naHJlZj0iI0RlamFWdVNhbnMtT2JsaXF1ZS01OSIgdHJhbnNmb3JtPSJ0cmFuc2xhdGUoMTE2LjM5\nMTYwMiAtMTYuMzEyNSkgc2NhbGUoMC43KSIvPgogICAgICA8L2c+CiAgICAgPC9nPgogICAgPC9n\nPgogICAgPGcgaWQ9Inl0aWNrXzMiPgogICAgIDxnIGlkPSJsaW5lMmRfOCI+CiAgICAgIDxnPgog\nICAgICAgPHVzZSB4bGluazpocmVmPSIjbWRmNTAwNTM2Y2IiIHg9IjQ0LjA3ODEyNSIgeT0iMTE0\nLjI5MzEyNSIgc3R5bGU9InN0cm9rZTogIzAwMDAwMDsgc3Ryb2tlLXdpZHRoOiAwLjgiLz4KICAg\nICAgPC9nPgogICAgIDwvZz4KICAgICA8ZyBpZD0idGV4dF84Ij4KICAgICAgPCEtLSAkWF9ZJCAt\nLT4KICAgICAgPGcgdHJhbnNmb3JtPSJ0cmFuc2xhdGUoMjUuNjc4MTI1IDExOC4wOTIzNDQpIHNj\nYWxlKDAuMSAtMC4xKSI+CiAgICAgICA8dXNlIHhsaW5rOmhyZWY9IiNEZWphVnVTYW5zLU9ibGlx\ndWUtNTgiIHRyYW5zZm9ybT0idHJhbnNsYXRlKDAgMC4wOTM3NSkiLz4KICAgICAgIDx1c2UgeGxp\nbms6aHJlZj0iI0RlamFWdVNhbnMtT2JsaXF1ZS01OSIgdHJhbnNmb3JtPSJ0cmFuc2xhdGUoNjgu\nNTA1ODU5IC0xNi4zMTI1KSBzY2FsZSgwLjcpIi8+CiAgICAgIDwvZz4KICAgICA8L2c+CiAgICA8\nL2c+CiAgICA8ZyBpZD0ieXRpY2tfNCI+CiAgICAgPGcgaWQ9ImxpbmUyZF85Ij4KICAgICAgPGc+\nCiAgICAgICA8dXNlIHhsaW5rOmhyZWY9IiNtZGY1MDA1MzZjYiIgeD0iNDQuMDc4MTI1IiB5PSIx\nNTEuMDgzMTI1IiBzdHlsZT0ic3Ryb2tlOiAjMDAwMDAwOyBzdHJva2Utd2lkdGg6IDAuOCIvPgog\nICAgICA8L2c+CiAgICAgPC9nPgogICAgIDxnIGlkPSJ0ZXh0XzkiPgogICAgICA8IS0tICRYXzAk\nIC0tPgogICAgICA8ZyB0cmFuc2Zvcm09InRyYW5zbGF0ZSgyNS40NzgxMjUgMTU0Ljg4MjM0NCkg\nc2NhbGUoMC4xIC0wLjEpIj4KICAgICAgIDx1c2UgeGxpbms6aHJlZj0iI0RlamFWdVNhbnMtT2Js\naXF1ZS01OCIgdHJhbnNmb3JtPSJ0cmFuc2xhdGUoMCAwLjA5Mzc1KSIvPgogICAgICAgPHVzZSB4\nbGluazpocmVmPSIjRGVqYVZ1U2Fucy0zMCIgdHJhbnNmb3JtPSJ0cmFuc2xhdGUoNjguNTA1ODU5\nIC0xNi4zMTI1KSBzY2FsZSgwLjcpIi8+CiAgICAgIDwvZz4KICAgICA8L2c+CiAgICA8L2c+CiAg\nICA8ZyBpZD0idGV4dF8xMCI+CiAgICAgPCEtLSBDb3ZhcmlhdGUgLS0+CiAgICAgPGcgdHJhbnNm\nb3JtPSJ0cmFuc2xhdGUoMTQuNzk4NDM3IDEyMC4wMTc2NTYpIHJvdGF0ZSgtOTApIHNjYWxlKDAu\nMSAtMC4xKSI+CiAgICAgIDxkZWZzPgogICAgICAgPHBhdGggaWQ9IkRlamFWdVNhbnMtNDMiIGQ9\nIk0gNDEyMiA0MzA2IApMIDQxMjIgMzY0MSAKUSAzODAzIDM5MzggMzQ0MiA0MDg0IApRIDMwODEg\nNDIzMSAyNjc1IDQyMzEgClEgMTg3NSA0MjMxIDE0NTAgMzc0MiAKUSAxMDI1IDMyNTMgMTAyNSAy\nMzI4IApRIDEwMjUgMTQwNiAxNDUwIDkxNyAKUSAxODc1IDQyOCAyNjc1IDQyOCAKUSAzMDgxIDQy\nOCAzNDQyIDU3NSAKUSAzODAzIDcyMiA0MTIyIDEwMTkgCkwgNDEyMiAzNTkgClEgMzc5MSAxMzQg\nMzQyMCAyMSAKUSAzMDUwIC05MSAyNjM4IC05MSAKUSAxNTc4IC05MSA5NjggNTU3IApRIDM1OSAx\nMjA2IDM1OSAyMzI4IApRIDM1OSAzNDUzIDk2OCA0MTAxIApRIDE1NzggNDc1MCAyNjM4IDQ3NTAg\nClEgMzA1NiA0NzUwIDM0MjYgNDYzOSAKUSAzNzk3IDQ1MjggNDEyMiA0MzA2IAp6CiIgdHJhbnNm\nb3JtPSJzY2FsZSgwLjAxNTYyNSkiLz4KICAgICAgIDxwYXRoIGlkPSJEZWphVnVTYW5zLTc2IiBk\nPSJNIDE5MSAzNTAwIApMIDgwMCAzNTAwIApMIDE4OTQgNTYzIApMIDI5ODggMzUwMCAKTCAzNTk3\nIDM1MDAgCkwgMjI4NCAwIApMIDE1MDMgMCAKTCAxOTEgMzUwMCAKegoiIHRyYW5zZm9ybT0ic2Nh\nbGUoMC4wMTU2MjUpIi8+CiAgICAgIDwvZGVmcz4KICAgICAgPHVzZSB4bGluazpocmVmPSIjRGVq\nYVZ1U2Fucy00MyIvPgogICAgICA8dXNlIHhsaW5rOmhyZWY9IiNEZWphVnVTYW5zLTZmIiB4PSI2\nOS44MjQyMTkiLz4KICAgICAgPHVzZSB4bGluazpocmVmPSIjRGVqYVZ1U2Fucy03NiIgeD0iMTMx\nLjAwNTg1OSIvPgogICAgICA8dXNlIHhsaW5rOmhyZWY9IiNEZWphVnVTYW5zLTYxIiB4PSIxOTAu\nMTg1NTQ3Ii8+CiAgICAgIDx1c2UgeGxpbms6aHJlZj0iI0RlamFWdVNhbnMtNzIiIHg9IjI1MS40\nNjQ4NDQiLz4KICAgICAgPHVzZSB4bGluazpocmVmPSIjRGVqYVZ1U2Fucy02OSIgeD0iMjkyLjU3\nODEyNSIvPgogICAgICA8dXNlIHhsaW5rOmhyZWY9IiNEZWphVnVTYW5zLTYxIiB4PSIzMjAuMzYx\nMzI4Ii8+CiAgICAgIDx1c2UgeGxpbms6aHJlZj0iI0RlamFWdVNhbnMtNzQiIHg9IjM4MS42NDA2\nMjUiLz4KICAgICAgPHVzZSB4bGluazpocmVmPSIjRGVqYVZ1U2Fucy02NSIgeD0iNDIwLjg0OTYw\nOSIvPgogICAgIDwvZz4KICAgIDwvZz4KICAgPC9nPgogICA8ZyBpZD0icGF0Y2hfMyI+CiAgICA8\ncGF0aCBkPSJNIDQ0LjA3ODEyNSAxNjkuNDc4MTI1IApMIDQ0LjA3ODEyNSAyMi4zMTgxMjUgCiIg\nc3R5bGU9ImZpbGw6IG5vbmU7IHN0cm9rZTogIzAwMDAwMDsgc3Ryb2tlLXdpZHRoOiAwLjg7IHN0\ncm9rZS1saW5lam9pbjogbWl0ZXI7IHN0cm9rZS1saW5lY2FwOiBzcXVhcmUiLz4KICAgPC9nPgog\nICA8ZyBpZD0icGF0Y2hfNCI+CiAgICA8cGF0aCBkPSJNIDI0MC41NTU2MDQgMTY5LjQ3ODEyNSAK\nTCAyNDAuNTU1NjA0IDIyLjMxODEyNSAKIiBzdHlsZT0iZmlsbDogbm9uZTsgc3Ryb2tlOiAjMDAw\nMDAwOyBzdHJva2Utd2lkdGg6IDAuODsgc3Ryb2tlLWxpbmVqb2luOiBtaXRlcjsgc3Ryb2tlLWxp\nbmVjYXA6IHNxdWFyZSIvPgogICA8L2c+CiAgIDxnIGlkPSJwYXRjaF81Ij4KICAgIDxwYXRoIGQ9\nIk0gNDQuMDc4MTI1IDE2OS40NzgxMjUgCkwgMjQwLjU1NTYwNCAxNjkuNDc4MTI1IAoiIHN0eWxl\nPSJmaWxsOiBub25lOyBzdHJva2U6ICMwMDAwMDA7IHN0cm9rZS13aWR0aDogMC44OyBzdHJva2Ut\nbGluZWpvaW46IG1pdGVyOyBzdHJva2UtbGluZWNhcDogc3F1YXJlIi8+CiAgIDwvZz4KICAgPGcg\naWQ9InBhdGNoXzYiPgogICAgPHBhdGggZD0iTSA0NC4wNzgxMjUgMjIuMzE4MTI1IApMIDI0MC41\nNTU2MDQgMjIuMzE4MTI1IAoiIHN0eWxlPSJmaWxsOiBub25lOyBzdHJva2U6ICMwMDAwMDA7IHN0\ncm9rZS13aWR0aDogMC44OyBzdHJva2UtbGluZWpvaW46IG1pdGVyOyBzdHJva2UtbGluZWNhcDog\nc3F1YXJlIi8+CiAgIDwvZz4KICAgPGcgaWQ9InRleHRfMTEiPgogICAgPCEtLSBMb3ZlIHBsb3Qg\nKHN0YW5kYXJkKSAtLT4KICAgIDxnIHRyYW5zZm9ybT0idHJhbnNsYXRlKDgxLjU1NTYxNSAxNi4z\nMTgxMjUpIHNjYWxlKDAuMTIgLTAuMTIpIj4KICAgICA8ZGVmcz4KICAgICAgPHBhdGggaWQ9IkRl\namFWdVNhbnMtNGMiIGQ9Ik0gNjI4IDQ2NjYgCkwgMTI1OSA0NjY2IApMIDEyNTkgNTMxIApMIDM1\nMzEgNTMxIApMIDM1MzEgMCAKTCA2MjggMCAKTCA2MjggNDY2NiAKegoiIHRyYW5zZm9ybT0ic2Nh\nbGUoMC4wMTU2MjUpIi8+CiAgICAgIDxwYXRoIGlkPSJEZWphVnVTYW5zLTcwIiBkPSJNIDExNTkg\nNTI1IApMIDExNTkgLTEzMzEgCkwgNTgxIC0xMzMxIApMIDU4MSAzNTAwIApMIDExNTkgMzUwMCAK\nTCAxMTU5IDI5NjkgClEgMTM0MSAzMjgxIDE2MTcgMzQzMiAKUSAxODk0IDM1ODQgMjI3OCAzNTg0\nIApRIDI5MTYgMzU4NCAzMzE0IDMwNzggClEgMzcxMyAyNTcyIDM3MTMgMTc0NyAKUSAzNzEzIDky\nMiAzMzE0IDQxNSAKUSAyOTE2IC05MSAyMjc4IC05MSAKUSAxODk0IC05MSAxNjE3IDYxIApRIDEz\nNDEgMjEzIDExNTkgNTI1IAp6Ck0gMzExNiAxNzQ3IApRIDMxMTYgMjM4MSAyODU1IDI3NDIgClEg\nMjU5NCAzMTAzIDIxMzggMzEwMyAKUSAxNjgxIDMxMDMgMTQyMCAyNzQyIApRIDExNTkgMjM4MSAx\nMTU5IDE3NDcgClEgMTE1OSAxMTEzIDE0MjAgNzUyIApRIDE2ODEgMzkxIDIxMzggMzkxIApRIDI1\nOTQgMzkxIDI4NTUgNzUyIApRIDMxMTYgMTExMyAzMTE2IDE3NDcgCnoKIiB0cmFuc2Zvcm09InNj\nYWxlKDAuMDE1NjI1KSIvPgogICAgICA8cGF0aCBpZD0iRGVqYVZ1U2Fucy0yOCIgZD0iTSAxOTg0\nIDQ4NTYgClEgMTU2NiA0MTM4IDEzNjIgMzQzNCAKUSAxMTU5IDI3MzEgMTE1OSAyMDA5IApRIDEx\nNTkgMTI4OCAxMzY0IDU4MCAKUSAxNTY5IC0xMjggMTk4NCAtODQ0IApMIDE0ODQgLTg0NCAKUSAx\nMDE2IC0xMDkgNzgzIDYwMCAKUSA1NTAgMTMwOSA1NTAgMjAwOSAKUSA1NTAgMjcwNiA3ODEgMzQx\nMiAKUSAxMDEzIDQxMTkgMTQ4NCA0ODU2IApMIDE5ODQgNDg1NiAKegoiIHRyYW5zZm9ybT0ic2Nh\nbGUoMC4wMTU2MjUpIi8+CiAgICAgIDxwYXRoIGlkPSJEZWphVnVTYW5zLTI5IiBkPSJNIDUxMyA0\nODU2IApMIDEwMTMgNDg1NiAKUSAxNDgxIDQxMTkgMTcxNCAzNDEyIApRIDE5NDcgMjcwNiAxOTQ3\nIDIwMDkgClEgMTk0NyAxMzA5IDE3MTQgNjAwIApRIDE0ODEgLTEwOSAxMDEzIC04NDQgCkwgNTEz\nIC04NDQgClEgOTI4IC0xMjggMTEzMyA1ODAgClEgMTMzOCAxMjg4IDEzMzggMjAwOSAKUSAxMzM4\nIDI3MzEgMTEzMyAzNDM0IApRIDkyOCA0MTM4IDUxMyA0ODU2IAp6CiIgdHJhbnNmb3JtPSJzY2Fs\nZSgwLjAxNTYyNSkiLz4KICAgICA8L2RlZnM+CiAgICAgPHVzZSB4bGluazpocmVmPSIjRGVqYVZ1\nU2Fucy00YyIvPgogICAgIDx1c2UgeGxpbms6aHJlZj0iI0RlamFWdVNhbnMtNmYiIHg9IjUzLjk2\nMjg5MSIvPgogICAgIDx1c2UgeGxpbms6aHJlZj0iI0RlamFWdVNhbnMtNzYiIHg9IjExNS4xNDQ1\nMzEiLz4KICAgICA8dXNlIHhsaW5rOmhyZWY9IiNEZWphVnVTYW5zLTY1IiB4PSIxNzQuMzI0MjE5\nIi8+CiAgICAgPHVzZSB4bGluazpocmVmPSIjRGVqYVZ1U2Fucy0yMCIgeD0iMjM1Ljg0NzY1NiIv\nPgogICAgIDx1c2UgeGxpbms6aHJlZj0iI0RlamFWdVNhbnMtNzAiIHg9IjI2Ny42MzQ3NjYiLz4K\nICAgICA8dXNlIHhsaW5rOmhyZWY9IiNEZWphVnVTYW5zLTZjIiB4PSIzMzEuMTExMzI4Ii8+CiAg\nICAgPHVzZSB4bGluazpocmVmPSIjRGVqYVZ1U2Fucy02ZiIgeD0iMzU4Ljg5NDUzMSIvPgogICAg\nIDx1c2UgeGxpbms6aHJlZj0iI0RlamFWdVNhbnMtNzQiIHg9IjQyMC4wNzYxNzIiLz4KICAgICA8\ndXNlIHhsaW5rOmhyZWY9IiNEZWphVnVTYW5zLTIwIiB4PSI0NTkuMjg1MTU2Ii8+CiAgICAgPHVz\nZSB4bGluazpocmVmPSIjRGVqYVZ1U2Fucy0yOCIgeD0iNDkxLjA3MjI2NiIvPgogICAgIDx1c2Ug\neGxpbms6aHJlZj0iI0RlamFWdVNhbnMtNzMiIHg9IjUzMC4wODU5MzgiLz4KICAgICA8dXNlIHhs\naW5rOmhyZWY9IiNEZWphVnVTYW5zLTc0IiB4PSI1ODIuMTg1NTQ3Ii8+CiAgICAgPHVzZSB4bGlu\nazpocmVmPSIjRGVqYVZ1U2Fucy02MSIgeD0iNjIxLjM5NDUzMSIvPgogICAgIDx1c2UgeGxpbms6\naHJlZj0iI0RlamFWdVNhbnMtNmUiIHg9IjY4Mi42NzM4MjgiLz4KICAgICA8dXNlIHhsaW5rOmhy\nZWY9IiNEZWphVnVTYW5zLTY0IiB4PSI3NDYuMDUyNzM0Ii8+CiAgICAgPHVzZSB4bGluazpocmVm\nPSIjRGVqYVZ1U2Fucy02MSIgeD0iODA5LjUyOTI5NyIvPgogICAgIDx1c2UgeGxpbms6aHJlZj0i\nI0RlamFWdVNhbnMtNzIiIHg9Ijg3MC44MDg1OTQiLz4KICAgICA8dXNlIHhsaW5rOmhyZWY9IiNE\nZWphVnVTYW5zLTY0IiB4PSI5MTAuMTcxODc1Ii8+CiAgICAgPHVzZSB4bGluazpocmVmPSIjRGVq\nYVZ1U2Fucy0yOSIgeD0iOTczLjY0ODQzOCIvPgogICAgPC9nPgogICA8L2c+CiAgPC9nPgogIDxn\nIGlkPSJheGVzXzIiPgogICA8ZyBpZD0icGF0Y2hfNyI+CiAgICA8cGF0aCBkPSJNIDI5MC42Nzgx\nMjUgMTY5LjQ3ODEyNSAKTCA0ODcuMTU1NjA0IDE2OS40NzgxMjUgCkwgNDg3LjE1NTYwNCAyMi4z\nMTgxMjUgCkwgMjkwLjY3ODEyNSAyMi4zMTgxMjUgCnoKIiBzdHlsZT0iZmlsbDogI2ZmZmZmZiIv\nPgogICA8L2c+CiAgIDxnIGlkPSJsaW5lMmRfMTAiPgogICAgPHBhdGggZD0iTSAzNTUuOTc0Njkx\nIDE2OS40NzgxMjUgCkwgMzU1Ljk3NDY5MSAyMi4zMTgxMjUgCiIgY2xpcC1wYXRoPSJ1cmwoI3Bh\nODdhZTEwZDExKSIgc3R5bGU9ImZpbGw6IG5vbmU7IHN0cm9rZS1kYXNoYXJyYXk6IDUuNTUsMi40\nOyBzdHJva2UtZGFzaG9mZnNldDogMDsgc3Ryb2tlOiAjOTk5OTk5OyBzdHJva2Utd2lkdGg6IDEu\nNSIvPgogICA8L2c+CiAgIDxnIGlkPSJMaW5lQ29sbGVjdGlvbl8yIj4KICAgIDxwYXRoIGQ9Ik0g\nMzAwLjUwMTYzNSAxNTEuMDgzMTI1IApMIDMwNy43NjQ3NzMgMTUxLjA4MzEyNSAKIiBjbGlwLXBh\ndGg9InVybCgjcGE4N2FlMTBkMTEpIiBzdHlsZT0iZmlsbDogbm9uZTsgc3Ryb2tlLWRhc2hhcnJh\neTogMi43NzUsMS4yOyBzdHJva2UtZGFzaG9mZnNldDogMDsgc3Ryb2tlOiAjY2NjY2NjOyBzdHJv\na2Utb3BhY2l0eTogMC4zOyBzdHJva2Utd2lkdGg6IDAuNzU7IHN0cm9rZS1saW5lY2FwOiBzcXVh\ncmUiLz4KICAgIDxwYXRoIGQ9Ik0gMjk5LjkwMjIxMiAxMTQuMjkzMTI1IApMIDQ3OC4yMjQ4MSAx\nMTQuMjkzMTI1IAoiIGNsaXAtcGF0aD0idXJsKCNwYTg3YWUxMGQxMSkiIHN0eWxlPSJmaWxsOiBu\nb25lOyBzdHJva2UtZGFzaGFycmF5OiAyLjc3NTc1NSwxLjIwMDMyNjsgc3Ryb2tlLWRhc2hvZmZz\nZXQ6IDA7IHN0cm9rZTogI2NjY2NjYzsgc3Ryb2tlLW9wYWNpdHk6IDAuMzAwMDU5OyBzdHJva2Ut\nd2lkdGg6IDAuNzUwMjA0OyBzdHJva2UtbGluZWNhcDogc3F1YXJlIi8+CiAgICA8cGF0aCBkPSJN\nIDI5OS42MDg5MiA3Ny41MDMxMjUgCkwgMzI5LjYwOTkyNCA3Ny41MDMxMjUgCiIgY2xpcC1wYXRo\nPSJ1cmwoI3BhODdhZTEwZDExKSIgc3R5bGU9ImZpbGw6IG5vbmU7IHN0cm9rZS1kYXNoYXJyYXk6\nIDUuMjk2ODEyLDIuMjkwNTEzOyBzdHJva2UtZGFzaG9mZnNldDogMDsgc3Ryb2tlOiAjY2NjY2Nj\nOyBzdHJva2Utb3BhY2l0eTogMC40OTY4OTg7IHN0cm9rZS13aWR0aDogMS40MzE1NzE7IHN0cm9r\nZS1saW5lY2FwOiBzcXVhcmUiLz4KICAgIDxwYXRoIGQ9Ik0gMzAwLjIwNDkyNCA0MC43MTMxMjUg\nCkwgNDE4LjM3NjI1NiA0MC43MTMxMjUgCiIgY2xpcC1wYXRoPSJ1cmwoI3BhODdhZTEwZDExKSIg\nc3R5bGU9ImZpbGw6IG5vbmU7IHN0cm9rZS1kYXNoYXJyYXk6IDExLjEsNC44OyBzdHJva2UtZGFz\naG9mZnNldDogMDsgc3Ryb2tlOiAjY2NjY2NjOyBzdHJva2Utb3BhY2l0eTogMC45NTsgc3Ryb2tl\nLXdpZHRoOiAzOyBzdHJva2UtbGluZWNhcDogc3F1YXJlIi8+CiAgIDwvZz4KICAgPGcgaWQ9IlBh\ndGhDb2xsZWN0aW9uXzIiPgogICAgPHBhdGggZD0iTSAzMDAuNTAxNjM1IDE1Mi4wODMxMjUgCkMg\nMzAwLjc2NjgzOCAxNTIuMDgzMTI1IDMwMS4wMjEyMTUgMTUxLjk3Nzc1OSAzMDEuMjA4NzQyIDE1\nMS43OTAyMzIgCkMgMzAxLjM5NjI2OCAxNTEuNjAyNzA1IDMwMS41MDE2MzUgMTUxLjM0ODMyOCAz\nMDEuNTAxNjM1IDE1MS4wODMxMjUgCkMgMzAxLjUwMTYzNSAxNTAuODE3OTIyIDMwMS4zOTYyNjgg\nMTUwLjU2MzU0NSAzMDEuMjA4NzQyIDE1MC4zNzYwMTggCkMgMzAxLjAyMTIxNSAxNTAuMTg4NDkx\nIDMwMC43NjY4MzggMTUwLjA4MzEyNSAzMDAuNTAxNjM1IDE1MC4wODMxMjUgCkMgMzAwLjIzNjQz\nMiAxNTAuMDgzMTI1IDI5OS45ODIwNTUgMTUwLjE4ODQ5MSAyOTkuNzk0NTI4IDE1MC4zNzYwMTgg\nCkMgMjk5LjYwNzAwMSAxNTAuNTYzNTQ1IDI5OS41MDE2MzUgMTUwLjgxNzkyMiAyOTkuNTAxNjM1\nIDE1MS4wODMxMjUgCkMgMjk5LjUwMTYzNSAxNTEuMzQ4MzI4IDI5OS42MDcwMDEgMTUxLjYwMjcw\nNSAyOTkuNzk0NTI4IDE1MS43OTAyMzIgCkMgMjk5Ljk4MjA1NSAxNTEuOTc3NzU5IDMwMC4yMzY0\nMzIgMTUyLjA4MzEyNSAzMDAuNTAxNjM1IDE1Mi4wODMxMjUgCnoKIiBjbGlwLXBhdGg9InVybCgj\ncGE4N2FlMTBkMTEpIiBzdHlsZT0iZmlsbDogIzRjNzJiMDsgZmlsbC1vcGFjaXR5OiAwLjM7IHN0\ncm9rZTogIzRjNzJiMDsgc3Ryb2tlLW9wYWNpdHk6IDAuMzsgc3Ryb2tlLXdpZHRoOiAwLjUiLz4K\nICAgIDxwYXRoIGQ9Ik0gMjk5LjkwMjIxMiAxMTUuMjkzODA1IApDIDMwMC4xNjc1OTYgMTE1LjI5\nMzgwNSAzMDAuNDIyMTQ1IDExNS4xODgzNjcgMzAwLjYwOTggMTE1LjAwMDcxMiAKQyAzMDAuNzk3\nNDU0IDExNC44MTMwNTggMzAwLjkwMjg5MiAxMTQuNTU4NTA4IDMwMC45MDI4OTIgMTE0LjI5MzEy\nNSAKQyAzMDAuOTAyODkyIDExNC4wMjc3NDIgMzAwLjc5NzQ1NCAxMTMuNzczMTkyIDMwMC42MDk4\nIDExMy41ODU1MzggCkMgMzAwLjQyMjE0NSAxMTMuMzk3ODgzIDMwMC4xNjc1OTYgMTEzLjI5MjQ0\nNSAyOTkuOTAyMjEyIDExMy4yOTI0NDUgCkMgMjk5LjYzNjgyOSAxMTMuMjkyNDQ1IDI5OS4zODIy\nNzkgMTEzLjM5Nzg4MyAyOTkuMTk0NjI1IDExMy41ODU1MzggCkMgMjk5LjAwNjk3MSAxMTMuNzcz\nMTkyIDI5OC45MDE1MzMgMTE0LjAyNzc0MiAyOTguOTAxNTMzIDExNC4yOTMxMjUgCkMgMjk4Ljkw\nMTUzMyAxMTQuNTU4NTA4IDI5OS4wMDY5NzEgMTE0LjgxMzA1OCAyOTkuMTk0NjI1IDExNS4wMDA3\nMTIgCkMgMjk5LjM4MjI3OSAxMTUuMTg4MzY3IDI5OS42MzY4MjkgMTE1LjI5MzgwNSAyOTkuOTAy\nMjEyIDExNS4yOTM4MDUgCnoKIiBjbGlwLXBhdGg9InVybCgjcGE4N2FlMTBkMTEpIiBzdHlsZT0i\nZmlsbDogIzRjNzJiMDsgZmlsbC1vcGFjaXR5OiAwLjMwMDA1OTsgc3Ryb2tlOiAjNGM3MmIwOyBz\ndHJva2Utb3BhY2l0eTogMC4zMDAwNTk7IHN0cm9rZS13aWR0aDogMC41Ii8+CiAgICA8cGF0aCBk\nPSJNIDI5OS42MDg5MiA3OS44NTc2NTQgCkMgMzAwLjIzMzM0OCA3OS44NTc2NTQgMzAwLjgzMjI4\nNSA3OS42MDk1NjYgMzAxLjI3MzgyMyA3OS4xNjgwMjggCkMgMzAxLjcxNTM2IDc4LjcyNjQ5MSAz\nMDEuOTYzNDQ4IDc4LjEyNzU1MyAzMDEuOTYzNDQ4IDc3LjUwMzEyNSAKQyAzMDEuOTYzNDQ4IDc2\nLjg3ODY5NyAzMDEuNzE1MzYgNzYuMjc5NzU5IDMwMS4yNzM4MjMgNzUuODM4MjIyIApDIDMwMC44\nMzIyODUgNzUuMzk2Njg0IDMwMC4yMzMzNDggNzUuMTQ4NTk2IDI5OS42MDg5MiA3NS4xNDg1OTYg\nCkMgMjk4Ljk4NDQ5MSA3NS4xNDg1OTYgMjk4LjM4NTU1NCA3NS4zOTY2ODQgMjk3Ljk0NDAxNiA3\nNS44MzgyMjIgCkMgMjk3LjUwMjQ3OSA3Ni4yNzk3NTkgMjk3LjI1NDM5MSA3Ni44Nzg2OTcgMjk3\nLjI1NDM5MSA3Ny41MDMxMjUgCkMgMjk3LjI1NDM5MSA3OC4xMjc1NTMgMjk3LjUwMjQ3OSA3OC43\nMjY0OTEgMjk3Ljk0NDAxNiA3OS4xNjgwMjggCkMgMjk4LjM4NTU1NCA3OS42MDk1NjYgMjk4Ljk4\nNDQ5MSA3OS44NTc2NTQgMjk5LjYwODkyIDc5Ljg1NzY1NCAKegoiIGNsaXAtcGF0aD0idXJsKCNw\nYTg3YWUxMGQxMSkiIHN0eWxlPSJmaWxsOiAjNGM3MmIwOyBmaWxsLW9wYWNpdHk6IDAuNDk2ODk4\nOyBzdHJva2U6ICM0YzcyYjA7IHN0cm9rZS1vcGFjaXR5OiAwLjQ5Njg5ODsgc3Ryb2tlLXdpZHRo\nOiAwLjUiLz4KICAgIDxwYXRoIGQ9Ik0gMzAwLjIwNDkyNCA0NC43MTMxMjUgCkMgMzAxLjI2NTcz\nNiA0NC43MTMxMjUgMzAyLjI4MzI0NCA0NC4yOTE2NiAzMDMuMDMzMzUxIDQzLjU0MTU1MiAKQyAz\nMDMuNzgzNDU5IDQyLjc5MTQ0NCAzMDQuMjA0OTI0IDQxLjc3MzkzNyAzMDQuMjA0OTI0IDQwLjcx\nMzEyNSAKQyAzMDQuMjA0OTI0IDM5LjY1MjMxMyAzMDMuNzgzNDU5IDM4LjYzNDgwNiAzMDMuMDMz\nMzUxIDM3Ljg4NDY5OCAKQyAzMDIuMjgzMjQ0IDM3LjEzNDU5IDMwMS4yNjU3MzYgMzYuNzEzMTI1\nIDMwMC4yMDQ5MjQgMzYuNzEzMTI1IApDIDI5OS4xNDQxMTIgMzYuNzEzMTI1IDI5OC4xMjY2MDUg\nMzcuMTM0NTkgMjk3LjM3NjQ5NyAzNy44ODQ2OTggCkMgMjk2LjYyNjM4OSAzOC42MzQ4MDYgMjk2\nLjIwNDkyNCAzOS42NTIzMTMgMjk2LjIwNDkyNCA0MC43MTMxMjUgCkMgMjk2LjIwNDkyNCA0MS43\nNzM5MzcgMjk2LjYyNjM4OSA0Mi43OTE0NDQgMjk3LjM3NjQ5NyA0My41NDE1NTIgCkMgMjk4LjEy\nNjYwNSA0NC4yOTE2NiAyOTkuMTQ0MTEyIDQ0LjcxMzEyNSAzMDAuMjA0OTI0IDQ0LjcxMzEyNSAK\negoiIGNsaXAtcGF0aD0idXJsKCNwYTg3YWUxMGQxMSkiIHN0eWxlPSJmaWxsOiAjNGM3MmIwOyBm\naWxsLW9wYWNpdHk6IDAuOTU7IHN0cm9rZTogIzRjNzJiMDsgc3Ryb2tlLW9wYWNpdHk6IDAuOTU7\nIHN0cm9rZS13aWR0aDogMC41Ii8+CiAgICA8cGF0aCBkPSJNIDMwNy43NjQ3NzMgMTUwLjA4MzEy\nNSAKTCAzMDYuNzY0NzczIDE1Mi4wODMxMjUgCkwgMzA4Ljc2NDc3MyAxNTIuMDgzMTI1IAp6CiIg\nY2xpcC1wYXRoPSJ1cmwoI3BhODdhZTEwZDExKSIgc3R5bGU9ImZpbGw6ICNkZDg0NTI7IGZpbGwt\nb3BhY2l0eTogMC4zOyBzdHJva2U6ICNkZDg0NTI7IHN0cm9rZS1vcGFjaXR5OiAwLjM7IHN0cm9r\nZS13aWR0aDogMC41Ii8+CiAgICA8cGF0aCBkPSJNIDQ3OC4yMjQ4MSAxMTMuMjkyNDQ1IApMIDQ3\nNy4yMjQxMyAxMTUuMjkzODA1IApMIDQ3OS4yMjU0ODkgMTE1LjI5MzgwNSAKegoiIGNsaXAtcGF0\naD0idXJsKCNwYTg3YWUxMGQxMSkiIHN0eWxlPSJmaWxsOiAjZGQ4NDUyOyBmaWxsLW9wYWNpdHk6\nIDAuMzAwMDU5OyBzdHJva2U6ICNkZDg0NTI7IHN0cm9rZS1vcGFjaXR5OiAwLjMwMDA1OTsgc3Ry\nb2tlLXdpZHRoOiAwLjUiLz4KICAgIDxwYXRoIGQ9Ik0gMzI5LjYwOTkyNCA3NS4xNDg1OTYgCkwg\nMzI3LjI1NTM5NSA3OS44NTc2NTQgCkwgMzMxLjk2NDQ1MyA3OS44NTc2NTQgCnoKIiBjbGlwLXBh\ndGg9InVybCgjcGE4N2FlMTBkMTEpIiBzdHlsZT0iZmlsbDogI2RkODQ1MjsgZmlsbC1vcGFjaXR5\nOiAwLjQ5Njg5ODsgc3Ryb2tlOiAjZGQ4NDUyOyBzdHJva2Utb3BhY2l0eTogMC40OTY4OTg7IHN0\ncm9rZS13aWR0aDogMC41Ii8+CiAgICA8cGF0aCBkPSJNIDQxOC4zNzYyNTYgMzYuNzEzMTI1IApM\nIDQxNC4zNzYyNTYgNDQuNzEzMTI1IApMIDQyMi4zNzYyNTYgNDQuNzEzMTI1IAp6CiIgY2xpcC1w\nYXRoPSJ1cmwoI3BhODdhZTEwZDExKSIgc3R5bGU9ImZpbGw6ICNkZDg0NTI7IGZpbGwtb3BhY2l0\neTogMC45NTsgc3Ryb2tlOiAjZGQ4NDUyOyBzdHJva2Utb3BhY2l0eTogMC45NTsgc3Ryb2tlLXdp\nZHRoOiAwLjUiLz4KICAgPC9nPgogICA8ZyBpZD0ibWF0cGxvdGxpYi5heGlzXzMiPgogICAgPGcg\naWQ9Inh0aWNrXzUiPgogICAgIDxnIGlkPSJsaW5lMmRfMTEiPgogICAgICA8Zz4KICAgICAgIDx1\nc2UgeGxpbms6aHJlZj0iI202NGRjMWZiNDliIiB4PSIyOTkuMDU4ODMxIiB5PSIxNjkuNDc4MTI1\nIiBzdHlsZT0ic3Ryb2tlOiAjMDAwMDAwOyBzdHJva2Utd2lkdGg6IDAuOCIvPgogICAgICA8L2c+\nCiAgICAgPC9nPgogICAgIDxnIGlkPSJ0ZXh0XzEyIj4KICAgICAgPCEtLSAwLjAgLS0+CiAgICAg\nIDxnIHRyYW5zZm9ybT0idHJhbnNsYXRlKDI5MS4xMDcyNjggMTg0LjA3NjU2Mykgc2NhbGUoMC4x\nIC0wLjEpIj4KICAgICAgIDx1c2UgeGxpbms6aHJlZj0iI0RlamFWdVNhbnMtMzAiLz4KICAgICAg\nIDx1c2UgeGxpbms6aHJlZj0iI0RlamFWdVNhbnMtMmUiIHg9IjYzLjYyMzA0NyIvPgogICAgICAg\nPHVzZSB4bGluazpocmVmPSIjRGVqYVZ1U2Fucy0zMCIgeD0iOTUuNDEwMTU2Ii8+CiAgICAgIDwv\nZz4KICAgICA8L2c+CiAgICA8L2c+CiAgICA8ZyBpZD0ieHRpY2tfNiI+CiAgICAgPGcgaWQ9Imxp\nbmUyZF8xMiI+CiAgICAgIDxnPgogICAgICAgPHVzZSB4bGluazpocmVmPSIjbTY0ZGMxZmI0OWIi\nIHg9IjM1NS45NzQ2OTEiIHk9IjE2OS40NzgxMjUiIHN0eWxlPSJzdHJva2U6ICMwMDAwMDA7IHN0\ncm9rZS13aWR0aDogMC44Ii8+CiAgICAgIDwvZz4KICAgICA8L2c+CiAgICAgPGcgaWQ9InRleHRf\nMTMiPgogICAgICA8IS0tIDAuMSAtLT4KICAgICAgPGcgdHJhbnNmb3JtPSJ0cmFuc2xhdGUoMzQ4\nLjAyMzEyOSAxODQuMDc2NTYzKSBzY2FsZSgwLjEgLTAuMSkiPgogICAgICAgPHVzZSB4bGluazpo\ncmVmPSIjRGVqYVZ1U2Fucy0zMCIvPgogICAgICAgPHVzZSB4bGluazpocmVmPSIjRGVqYVZ1U2Fu\ncy0yZSIgeD0iNjMuNjIzMDQ3Ii8+CiAgICAgICA8dXNlIHhsaW5rOmhyZWY9IiNEZWphVnVTYW5z\nLTMxIiB4PSI5NS40MTAxNTYiLz4KICAgICAgPC9nPgogICAgIDwvZz4KICAgIDwvZz4KICAgIDxn\nIGlkPSJ4dGlja183Ij4KICAgICA8ZyBpZD0ibGluZTJkXzEzIj4KICAgICAgPGc+CiAgICAgICA8\ndXNlIHhsaW5rOmhyZWY9IiNtNjRkYzFmYjQ5YiIgeD0iNDEyLjg5MDU1MSIgeT0iMTY5LjQ3ODEy\nNSIgc3R5bGU9InN0cm9rZTogIzAwMDAwMDsgc3Ryb2tlLXdpZHRoOiAwLjgiLz4KICAgICAgPC9n\nPgogICAgIDwvZz4KICAgICA8ZyBpZD0idGV4dF8xNCI+CiAgICAgIDwhLS0gMC4yIC0tPgogICAg\nICA8ZyB0cmFuc2Zvcm09InRyYW5zbGF0ZSg0MDQuOTM4OTg5IDE4NC4wNzY1NjMpIHNjYWxlKDAu\nMSAtMC4xKSI+CiAgICAgICA8dXNlIHhsaW5rOmhyZWY9IiNEZWphVnVTYW5zLTMwIi8+CiAgICAg\nICA8dXNlIHhsaW5rOmhyZWY9IiNEZWphVnVTYW5zLTJlIiB4PSI2My42MjMwNDciLz4KICAgICAg\nIDx1c2UgeGxpbms6aHJlZj0iI0RlamFWdVNhbnMtMzIiIHg9Ijk1LjQxMDE1NiIvPgogICAgICA8\nL2c+CiAgICAgPC9nPgogICAgPC9nPgogICAgPGcgaWQ9Inh0aWNrXzgiPgogICAgIDxnIGlkPSJs\naW5lMmRfMTQiPgogICAgICA8Zz4KICAgICAgIDx1c2UgeGxpbms6aHJlZj0iI202NGRjMWZiNDli\nIiB4PSI0NjkuODA2NDEyIiB5PSIxNjkuNDc4MTI1IiBzdHlsZT0ic3Ryb2tlOiAjMDAwMDAwOyBz\ndHJva2Utd2lkdGg6IDAuOCIvPgogICAgICA8L2c+CiAgICAgPC9nPgogICAgIDxnIGlkPSJ0ZXh0\nXzE1Ij4KICAgICAgPCEtLSAwLjMgLS0+CiAgICAgIDxnIHRyYW5zZm9ybT0idHJhbnNsYXRlKDQ2\nMS44NTQ4NDkgMTg0LjA3NjU2Mykgc2NhbGUoMC4xIC0wLjEpIj4KICAgICAgIDx1c2UgeGxpbms6\naHJlZj0iI0RlamFWdVNhbnMtMzAiLz4KICAgICAgIDx1c2UgeGxpbms6aHJlZj0iI0RlamFWdVNh\nbnMtMmUiIHg9IjYzLjYyMzA0NyIvPgogICAgICAgPHVzZSB4bGluazpocmVmPSIjRGVqYVZ1U2Fu\ncy0zMyIgeD0iOTUuNDEwMTU2Ii8+CiAgICAgIDwvZz4KICAgICA8L2c+CiAgICA8L2c+CiAgICA8\nZyBpZD0idGV4dF8xNiI+CiAgICAgPCEtLSBBYnNvbHV0ZSBzdGFuZGFyZGl6ZWQgbWVhbiBkaWZm\nZXJlbmNlIC0tPgogICAgIDxnIHRyYW5zZm9ybT0idHJhbnNsYXRlKDI5MC41MDA0NTggMTk3Ljc1\nNDY4OCkgc2NhbGUoMC4xIC0wLjEpIj4KICAgICAgPHVzZSB4bGluazpocmVmPSIjRGVqYVZ1U2Fu\ncy00MSIvPgogICAgICA8dXNlIHhsaW5rOmhyZWY9IiNEZWphVnVTYW5zLTYyIiB4PSI2OC40MDgy\nMDMiLz4KICAgICAgPHVzZSB4bGluazpocmVmPSIjRGVqYVZ1U2Fucy03MyIgeD0iMTMxLjg4NDc2\nNiIvPgogICAgICA8dXNlIHhsaW5rOmhyZWY9IiNEZWphVnVTYW5zLTZmIiB4PSIxODMuOTg0Mzc1\nIi8+CiAgICAgIDx1c2UgeGxpbms6aHJlZj0iI0RlamFWdVNhbnMtNmMiIHg9IjI0NS4xNjYwMTYi\nLz4KICAgICAgPHVzZSB4bGluazpocmVmPSIjRGVqYVZ1U2Fucy03NSIgeD0iMjcyLjk0OTIxOSIv\nPgogICAgICA8dXNlIHhsaW5rOmhyZWY9IiNEZWphVnVTYW5zLTc0IiB4PSIzMzYuMzI4MTI1Ii8+\nCiAgICAgIDx1c2UgeGxpbms6aHJlZj0iI0RlamFWdVNhbnMtNjUiIHg9IjM3NS41MzcxMDkiLz4K\nICAgICAgPHVzZSB4bGluazpocmVmPSIjRGVqYVZ1U2Fucy0yMCIgeD0iNDM3LjA2MDU0NyIvPgog\nICAgICA8dXNlIHhsaW5rOmhyZWY9IiNEZWphVnVTYW5zLTczIiB4PSI0NjguODQ3NjU2Ii8+CiAg\nICAgIDx1c2UgeGxpbms6aHJlZj0iI0RlamFWdVNhbnMtNzQiIHg9IjUyMC45NDcyNjYiLz4KICAg\nICAgPHVzZSB4bGluazpocmVmPSIjRGVqYVZ1U2Fucy02MSIgeD0iNTYwLjE1NjI1Ii8+CiAgICAg\nIDx1c2UgeGxpbms6aHJlZj0iI0RlamFWdVNhbnMtNmUiIHg9IjYyMS40MzU1NDciLz4KICAgICAg\nPHVzZSB4bGluazpocmVmPSIjRGVqYVZ1U2Fucy02NCIgeD0iNjg0LjgxNDQ1MyIvPgogICAgICA8\ndXNlIHhsaW5rOmhyZWY9IiNEZWphVnVTYW5zLTYxIiB4PSI3NDguMjkxMDE2Ii8+CiAgICAgIDx1\nc2UgeGxpbms6aHJlZj0iI0RlamFWdVNhbnMtNzIiIHg9IjgwOS41NzAzMTIiLz4KICAgICAgPHVz\nZSB4bGluazpocmVmPSIjRGVqYVZ1U2Fucy02NCIgeD0iODQ4LjkzMzU5NCIvPgogICAgICA8dXNl\nIHhsaW5rOmhyZWY9IiNEZWphVnVTYW5zLTY5IiB4PSI5MTIuNDEwMTU2Ii8+CiAgICAgIDx1c2Ug\neGxpbms6aHJlZj0iI0RlamFWdVNhbnMtN2EiIHg9Ijk0MC4xOTMzNTkiLz4KICAgICAgPHVzZSB4\nbGluazpocmVmPSIjRGVqYVZ1U2Fucy02NSIgeD0iOTkyLjY4MzU5NCIvPgogICAgICA8dXNlIHhs\naW5rOmhyZWY9IiNEZWphVnVTYW5zLTY0IiB4PSIxMDU0LjIwNzAzMSIvPgogICAgICA8dXNlIHhs\naW5rOmhyZWY9IiNEZWphVnVTYW5zLTIwIiB4PSIxMTE3LjY4MzU5NCIvPgogICAgICA8dXNlIHhs\naW5rOmhyZWY9IiNEZWphVnVTYW5zLTZkIiB4PSIxMTQ5LjQ3MDcwMyIvPgogICAgICA8dXNlIHhs\naW5rOmhyZWY9IiNEZWphVnVTYW5zLTY1IiB4PSIxMjQ2Ljg4MjgxMiIvPgogICAgICA8dXNlIHhs\naW5rOmhyZWY9IiNEZWphVnVTYW5zLTYxIiB4PSIxMzA4LjQwNjI1Ii8+CiAgICAgIDx1c2UgeGxp\nbms6aHJlZj0iI0RlamFWdVNhbnMtNmUiIHg9IjEzNjkuNjg1NTQ3Ii8+CiAgICAgIDx1c2UgeGxp\nbms6aHJlZj0iI0RlamFWdVNhbnMtMjAiIHg9IjE0MzMuMDY0NDUzIi8+CiAgICAgIDx1c2UgeGxp\nbms6aHJlZj0iI0RlamFWdVNhbnMtNjQiIHg9IjE0NjQuODUxNTYyIi8+CiAgICAgIDx1c2UgeGxp\nbms6aHJlZj0iI0RlamFWdVNhbnMtNjkiIHg9IjE1MjguMzI4MTI1Ii8+CiAgICAgIDx1c2UgeGxp\nbms6aHJlZj0iI0RlamFWdVNhbnMtNjYiIHg9IjE1NTYuMTExMzI4Ii8+CiAgICAgIDx1c2UgeGxp\nbms6aHJlZj0iI0RlamFWdVNhbnMtNjYiIHg9IjE1OTEuMzE2NDA2Ii8+CiAgICAgIDx1c2UgeGxp\nbms6aHJlZj0iI0RlamFWdVNhbnMtNjUiIHg9IjE2MjYuNTIxNDg0Ii8+CiAgICAgIDx1c2UgeGxp\nbms6aHJlZj0iI0RlamFWdVNhbnMtNzIiIHg9IjE2ODguMDQ0OTIyIi8+CiAgICAgIDx1c2UgeGxp\nbms6aHJlZj0iI0RlamFWdVNhbnMtNjUiIHg9IjE3MjYuOTA4MjAzIi8+CiAgICAgIDx1c2UgeGxp\nbms6aHJlZj0iI0RlamFWdVNhbnMtNmUiIHg9IjE3ODguNDMxNjQxIi8+CiAgICAgIDx1c2UgeGxp\nbms6aHJlZj0iI0RlamFWdVNhbnMtNjMiIHg9IjE4NTEuODEwNTQ3Ii8+CiAgICAgIDx1c2UgeGxp\nbms6aHJlZj0iI0RlamFWdVNhbnMtNjUiIHg9IjE5MDYuNzkxMDE2Ii8+CiAgICAgPC9nPgogICAg\nPC9nPgogICA8L2c+CiAgIDxnIGlkPSJtYXRwbG90bGliLmF4aXNfNCI+CiAgICA8ZyBpZD0ieXRp\nY2tfNSI+CiAgICAgPGcgaWQ9ImxpbmUyZF8xNSI+CiAgICAgIDxnPgogICAgICAgPHVzZSB4bGlu\nazpocmVmPSIjbWRmNTAwNTM2Y2IiIHg9IjI5MC42NzgxMjUiIHk9IjQwLjcxMzEyNSIgc3R5bGU9\nInN0cm9rZTogIzAwMDAwMDsgc3Ryb2tlLXdpZHRoOiAwLjgiLz4KICAgICAgPC9nPgogICAgIDwv\nZz4KICAgICA8ZyBpZD0idGV4dF8xNyI+CiAgICAgIDwhLS0gJFhfe0FZfSQgLS0+CiAgICAgIDxn\nIHRyYW5zZm9ybT0idHJhbnNsYXRlKDI2Ny40NzgxMjUgNDQuNTEyMzQ0KSBzY2FsZSgwLjEgLTAu\nMSkiPgogICAgICAgPHVzZSB4bGluazpocmVmPSIjRGVqYVZ1U2Fucy1PYmxpcXVlLTU4IiB0cmFu\nc2Zvcm09InRyYW5zbGF0ZSgwIDAuMDkzNzUpIi8+CiAgICAgICA8dXNlIHhsaW5rOmhyZWY9IiNE\nZWphVnVTYW5zLU9ibGlxdWUtNDEiIHRyYW5zZm9ybT0idHJhbnNsYXRlKDY4LjUwNTg1OSAtMTYu\nMzEyNSkgc2NhbGUoMC43KSIvPgogICAgICAgPHVzZSB4bGluazpocmVmPSIjRGVqYVZ1U2Fucy1P\nYmxpcXVlLTU5IiB0cmFuc2Zvcm09InRyYW5zbGF0ZSgxMTYuMzkxNjAyIC0xNi4zMTI1KSBzY2Fs\nZSgwLjcpIi8+CiAgICAgIDwvZz4KICAgICA8L2c+CiAgICA8L2c+CiAgICA8ZyBpZD0ieXRpY2tf\nNiI+CiAgICAgPGcgaWQ9ImxpbmUyZF8xNiI+CiAgICAgIDxnPgogICAgICAgPHVzZSB4bGluazpo\ncmVmPSIjbWRmNTAwNTM2Y2IiIHg9IjI5MC42NzgxMjUiIHk9Ijc3LjUwMzEyNSIgc3R5bGU9InN0\ncm9rZTogIzAwMDAwMDsgc3Ryb2tlLXdpZHRoOiAwLjgiLz4KICAgICAgPC9nPgogICAgIDwvZz4K\nICAgICA8ZyBpZD0idGV4dF8xOCI+CiAgICAgIDwhLS0gJFhfWSQgLS0+CiAgICAgIDxnIHRyYW5z\nZm9ybT0idHJhbnNsYXRlKDI3Mi4yNzgxMjUgODEuMzAyMzQ0KSBzY2FsZSgwLjEgLTAuMSkiPgog\nICAgICAgPHVzZSB4bGluazpocmVmPSIjRGVqYVZ1U2Fucy1PYmxpcXVlLTU4IiB0cmFuc2Zvcm09\nInRyYW5zbGF0ZSgwIDAuMDkzNzUpIi8+CiAgICAgICA8dXNlIHhsaW5rOmhyZWY9IiNEZWphVnVT\nYW5zLU9ibGlxdWUtNTkiIHRyYW5zZm9ybT0idHJhbnNsYXRlKDY4LjUwNTg1OSAtMTYuMzEyNSkg\nc2NhbGUoMC43KSIvPgogICAgICA8L2c+CiAgICAgPC9nPgogICAgPC9nPgogICAgPGcgaWQ9Inl0\naWNrXzciPgogICAgIDxnIGlkPSJsaW5lMmRfMTciPgogICAgICA8Zz4KICAgICAgIDx1c2UgeGxp\nbms6aHJlZj0iI21kZjUwMDUzNmNiIiB4PSIyOTAuNjc4MTI1IiB5PSIxMTQuMjkzMTI1IiBzdHls\nZT0ic3Ryb2tlOiAjMDAwMDAwOyBzdHJva2Utd2lkdGg6IDAuOCIvPgogICAgICA8L2c+CiAgICAg\nPC9nPgogICAgIDxnIGlkPSJ0ZXh0XzE5Ij4KICAgICAgPCEtLSAkWF9BJCAtLT4KICAgICAgPGcg\ndHJhbnNmb3JtPSJ0cmFuc2xhdGUoMjcxLjY3ODEyNSAxMTguMDkyMzQ0KSBzY2FsZSgwLjEgLTAu\nMSkiPgogICAgICAgPHVzZSB4bGluazpocmVmPSIjRGVqYVZ1U2Fucy1PYmxpcXVlLTU4IiB0cmFu\nc2Zvcm09InRyYW5zbGF0ZSgwIDAuMDkzNzUpIi8+CiAgICAgICA8dXNlIHhsaW5rOmhyZWY9IiNE\nZWphVnVTYW5zLU9ibGlxdWUtNDEiIHRyYW5zZm9ybT0idHJhbnNsYXRlKDY4LjUwNTg1OSAtMTYu\nMzEyNSkgc2NhbGUoMC43KSIvPgogICAgICA8L2c+CiAgICAgPC9nPgogICAgPC9nPgogICAgPGcg\naWQ9Inl0aWNrXzgiPgogICAgIDxnIGlkPSJsaW5lMmRfMTgiPgogICAgICA8Zz4KICAgICAgIDx1\nc2UgeGxpbms6aHJlZj0iI21kZjUwMDUzNmNiIiB4PSIyOTAuNjc4MTI1IiB5PSIxNTEuMDgzMTI1\nIiBzdHlsZT0ic3Ryb2tlOiAjMDAwMDAwOyBzdHJva2Utd2lkdGg6IDAuOCIvPgogICAgICA8L2c+\nCiAgICAgPC9nPgogICAgIDxnIGlkPSJ0ZXh0XzIwIj4KICAgICAgPCEtLSAkWF8wJCAtLT4KICAg\nICAgPGcgdHJhbnNmb3JtPSJ0cmFuc2xhdGUoMjcyLjA3ODEyNSAxNTQuODgyMzQ0KSBzY2FsZSgw\nLjEgLTAuMSkiPgogICAgICAgPHVzZSB4bGluazpocmVmPSIjRGVqYVZ1U2Fucy1PYmxpcXVlLTU4\nIiB0cmFuc2Zvcm09InRyYW5zbGF0ZSgwIDAuMDkzNzUpIi8+CiAgICAgICA8dXNlIHhsaW5rOmhy\nZWY9IiNEZWphVnVTYW5zLTMwIiB0cmFuc2Zvcm09InRyYW5zbGF0ZSg2OC41MDU4NTkgLTE2LjMx\nMjUpIHNjYWxlKDAuNykiLz4KICAgICAgPC9nPgogICAgIDwvZz4KICAgIDwvZz4KICAgIDxnIGlk\nPSJ0ZXh0XzIxIj4KICAgICA8IS0tIENvdmFyaWF0ZSAtLT4KICAgICA8ZyB0cmFuc2Zvcm09InRy\nYW5zbGF0ZSgyNjEuMzk4NDM4IDEyMC4wMTc2NTYpIHJvdGF0ZSgtOTApIHNjYWxlKDAuMSAtMC4x\nKSI+CiAgICAgIDx1c2UgeGxpbms6aHJlZj0iI0RlamFWdVNhbnMtNDMiLz4KICAgICAgPHVzZSB4\nbGluazpocmVmPSIjRGVqYVZ1U2Fucy02ZiIgeD0iNjkuODI0MjE5Ii8+CiAgICAgIDx1c2UgeGxp\nbms6aHJlZj0iI0RlamFWdVNhbnMtNzYiIHg9IjEzMS4wMDU4NTkiLz4KICAgICAgPHVzZSB4bGlu\nazpocmVmPSIjRGVqYVZ1U2Fucy02MSIgeD0iMTkwLjE4NTU0NyIvPgogICAgICA8dXNlIHhsaW5r\nOmhyZWY9IiNEZWphVnVTYW5zLTcyIiB4PSIyNTEuNDY0ODQ0Ii8+CiAgICAgIDx1c2UgeGxpbms6\naHJlZj0iI0RlamFWdVNhbnMtNjkiIHg9IjI5Mi41NzgxMjUiLz4KICAgICAgPHVzZSB4bGluazpo\ncmVmPSIjRGVqYVZ1U2Fucy02MSIgeD0iMzIwLjM2MTMyOCIvPgogICAgICA8dXNlIHhsaW5rOmhy\nZWY9IiNEZWphVnVTYW5zLTc0IiB4PSIzODEuNjQwNjI1Ii8+CiAgICAgIDx1c2UgeGxpbms6aHJl\nZj0iI0RlamFWdVNhbnMtNjUiIHg9IjQyMC44NDk2MDkiLz4KICAgICA8L2c+CiAgICA8L2c+CiAg\nIDwvZz4KICAgPGcgaWQ9InBhdGNoXzgiPgogICAgPHBhdGggZD0iTSAyOTAuNjc4MTI1IDE2OS40\nNzgxMjUgCkwgMjkwLjY3ODEyNSAyMi4zMTgxMjUgCiIgc3R5bGU9ImZpbGw6IG5vbmU7IHN0cm9r\nZTogIzAwMDAwMDsgc3Ryb2tlLXdpZHRoOiAwLjg7IHN0cm9rZS1saW5lam9pbjogbWl0ZXI7IHN0\ncm9rZS1saW5lY2FwOiBzcXVhcmUiLz4KICAgPC9nPgogICA8ZyBpZD0icGF0Y2hfOSI+CiAgICA8\ncGF0aCBkPSJNIDQ4Ny4xNTU2MDQgMTY5LjQ3ODEyNSAKTCA0ODcuMTU1NjA0IDIyLjMxODEyNSAK\nIiBzdHlsZT0iZmlsbDogbm9uZTsgc3Ryb2tlOiAjMDAwMDAwOyBzdHJva2Utd2lkdGg6IDAuODsg\nc3Ryb2tlLWxpbmVqb2luOiBtaXRlcjsgc3Ryb2tlLWxpbmVjYXA6IHNxdWFyZSIvPgogICA8L2c+\nCiAgIDxnIGlkPSJwYXRjaF8xMCI+CiAgICA8cGF0aCBkPSJNIDI5MC42NzgxMjUgMTY5LjQ3ODEy\nNSAKTCA0ODcuMTU1NjA0IDE2OS40NzgxMjUgCiIgc3R5bGU9ImZpbGw6IG5vbmU7IHN0cm9rZTog\nIzAwMDAwMDsgc3Ryb2tlLXdpZHRoOiAwLjg7IHN0cm9rZS1saW5lam9pbjogbWl0ZXI7IHN0cm9r\nZS1saW5lY2FwOiBzcXVhcmUiLz4KICAgPC9nPgogICA8ZyBpZD0icGF0Y2hfMTEiPgogICAgPHBh\ndGggZD0iTSAyOTAuNjc4MTI1IDIyLjMxODEyNSAKTCA0ODcuMTU1NjA0IDIyLjMxODEyNSAKIiBz\ndHlsZT0iZmlsbDogbm9uZTsgc3Ryb2tlOiAjMDAwMDAwOyBzdHJva2Utd2lkdGg6IDAuODsgc3Ry\nb2tlLWxpbmVqb2luOiBtaXRlcjsgc3Ryb2tlLWxpbmVjYXA6IHNxdWFyZSIvPgogICA8L2c+CiAg\nIDxnIGlkPSJ0ZXh0XzIyIj4KICAgIDwhLS0gT3V0Y29tZS1pbmZvcm1lZCBMb3ZlIHBsb3QgLS0+\nCiAgICA8ZyB0cmFuc2Zvcm09InRyYW5zbGF0ZSgzMDIuOTQyNDkgMTYuMzE4MTI1KSBzY2FsZSgw\nLjEyIC0wLjEyKSI+CiAgICAgPGRlZnM+CiAgICAgIDxwYXRoIGlkPSJEZWphVnVTYW5zLTRmIiBk\nPSJNIDI1MjIgNDIzOCAKUSAxODM0IDQyMzggMTQyOSAzNzI1IApRIDEwMjUgMzIxMyAxMDI1IDIz\nMjggClEgMTAyNSAxNDQ3IDE0MjkgOTM0IApRIDE4MzQgNDIyIDI1MjIgNDIyIApRIDMyMDkgNDIy\nIDM2MTEgOTM0IApRIDQwMTMgMTQ0NyA0MDEzIDIzMjggClEgNDAxMyAzMjEzIDM2MTEgMzcyNSAK\nUSAzMjA5IDQyMzggMjUyMiA0MjM4IAp6Ck0gMjUyMiA0NzUwIApRIDM1MDMgNDc1MCA0MDkwIDQw\nOTIgClEgNDY3OCAzNDM0IDQ2NzggMjMyOCAKUSA0Njc4IDEyMjUgNDA5MCA1NjcgClEgMzUwMyAt\nOTEgMjUyMiAtOTEgClEgMTUzOCAtOTEgOTQ4IDU2NSAKUSAzNTkgMTIyMiAzNTkgMjMyOCAKUSAz\nNTkgMzQzNCA5NDggNDA5MiAKUSAxNTM4IDQ3NTAgMjUyMiA0NzUwIAp6CiIgdHJhbnNmb3JtPSJz\nY2FsZSgwLjAxNTYyNSkiLz4KICAgICAgPHBhdGggaWQ9IkRlamFWdVNhbnMtMmQiIGQ9Ik0gMzEz\nIDIwMDkgCkwgMTk5NyAyMDA5IApMIDE5OTcgMTQ5NyAKTCAzMTMgMTQ5NyAKTCAzMTMgMjAwOSAK\negoiIHRyYW5zZm9ybT0ic2NhbGUoMC4wMTU2MjUpIi8+CiAgICAgPC9kZWZzPgogICAgIDx1c2Ug\neGxpbms6aHJlZj0iI0RlamFWdVNhbnMtNGYiLz4KICAgICA8dXNlIHhsaW5rOmhyZWY9IiNEZWph\nVnVTYW5zLTc1IiB4PSI3OC43MTA5MzgiLz4KICAgICA8dXNlIHhsaW5rOmhyZWY9IiNEZWphVnVT\nYW5zLTc0IiB4PSIxNDIuMDg5ODQ0Ii8+CiAgICAgPHVzZSB4bGluazpocmVmPSIjRGVqYVZ1U2Fu\ncy02MyIgeD0iMTgxLjI5ODgyOCIvPgogICAgIDx1c2UgeGxpbms6aHJlZj0iI0RlamFWdVNhbnMt\nNmYiIHg9IjIzNi4yNzkyOTciLz4KICAgICA8dXNlIHhsaW5rOmhyZWY9IiNEZWphVnVTYW5zLTZk\nIiB4PSIyOTcuNDYwOTM4Ii8+CiAgICAgPHVzZSB4bGluazpocmVmPSIjRGVqYVZ1U2Fucy02NSIg\neD0iMzk0Ljg3MzA0NyIvPgogICAgIDx1c2UgeGxpbms6aHJlZj0iI0RlamFWdVNhbnMtMmQiIHg9\nIjQ1Ni4zOTY0ODQiLz4KICAgICA8dXNlIHhsaW5rOmhyZWY9IiNEZWphVnVTYW5zLTY5IiB4PSI0\nOTIuNDgwNDY5Ii8+CiAgICAgPHVzZSB4bGluazpocmVmPSIjRGVqYVZ1U2Fucy02ZSIgeD0iNTIw\nLjI2MzY3MiIvPgogICAgIDx1c2UgeGxpbms6aHJlZj0iI0RlamFWdVNhbnMtNjYiIHg9IjU4My42\nNDI1NzgiLz4KICAgICA8dXNlIHhsaW5rOmhyZWY9IiNEZWphVnVTYW5zLTZmIiB4PSI2MTguODQ3\nNjU2Ii8+CiAgICAgPHVzZSB4bGluazpocmVmPSIjRGVqYVZ1U2Fucy03MiIgeD0iNjgwLjAyOTI5\nNyIvPgogICAgIDx1c2UgeGxpbms6aHJlZj0iI0RlamFWdVNhbnMtNmQiIHg9IjcxOS4zOTI1Nzgi\nLz4KICAgICA8dXNlIHhsaW5rOmhyZWY9IiNEZWphVnVTYW5zLTY1IiB4PSI4MTYuODA0Njg4Ii8+\nCiAgICAgPHVzZSB4bGluazpocmVmPSIjRGVqYVZ1U2Fucy02NCIgeD0iODc4LjMyODEyNSIvPgog\nICAgIDx1c2UgeGxpbms6aHJlZj0iI0RlamFWdVNhbnMtMjAiIHg9Ijk0MS44MDQ2ODgiLz4KICAg\nICA8dXNlIHhsaW5rOmhyZWY9IiNEZWphVnVTYW5zLTRjIiB4PSI5NzMuNTkxNzk3Ii8+CiAgICAg\nPHVzZSB4bGluazpocmVmPSIjRGVqYVZ1U2Fucy02ZiIgeD0iMTAyNy41NTQ2ODgiLz4KICAgICA8\ndXNlIHhsaW5rOmhyZWY9IiNEZWphVnVTYW5zLTc2IiB4PSIxMDg4LjczNjMyOCIvPgogICAgIDx1\nc2UgeGxpbms6aHJlZj0iI0RlamFWdVNhbnMtNjUiIHg9IjExNDcuOTE2MDE2Ii8+CiAgICAgPHVz\nZSB4bGluazpocmVmPSIjRGVqYVZ1U2Fucy0yMCIgeD0iMTIwOS40Mzk0NTMiLz4KICAgICA8dXNl\nIHhsaW5rOmhyZWY9IiNEZWphVnVTYW5zLTcwIiB4PSIxMjQxLjIyNjU2MiIvPgogICAgIDx1c2Ug\neGxpbms6aHJlZj0iI0RlamFWdVNhbnMtNmMiIHg9IjEzMDQuNzAzMTI1Ii8+CiAgICAgPHVzZSB4\nbGluazpocmVmPSIjRGVqYVZ1U2Fucy02ZiIgeD0iMTMzMi40ODYzMjgiLz4KICAgICA8dXNlIHhs\naW5rOmhyZWY9IiNEZWphVnVTYW5zLTc0IiB4PSIxMzkzLjY2Nzk2OSIvPgogICAgPC9nPgogICA8\nL2c+CiAgPC9nPgogIDxnIGlkPSJsZWdlbmRfMSI+CiAgIDxnIGlkPSJwYXRjaF8xMiI+CiAgICA8\ncGF0aCBkPSJNIDUwMS42MiAxNTUuNDM1OTM3IApMIDYwMS42MDE0MDYgMTU1LjQzNTkzNyAKUSA2\nMDMuODAxNDA2IDE1NS40MzU5MzcgNjAzLjgwMTQwNiAxNTMuMjM1OTM3IApMIDYwMy44MDE0MDYg\nMjMuMjMyODEyIApRIDYwMy44MDE0MDYgMjEuMDMyODEyIDYwMS42MDE0MDYgMjEuMDMyODEyIApM\nIDUwMS42MiAyMS4wMzI4MTIgClEgNDk5LjQyIDIxLjAzMjgxMiA0OTkuNDIgMjMuMjMyODEyIApM\nIDQ5OS40MiAxNTMuMjM1OTM3IApRIDQ5OS40MiAxNTUuNDM1OTM3IDUwMS42MiAxNTUuNDM1OTM3\nIAp6CiIgc3R5bGU9ImZpbGw6ICNmZmZmZmY7IG9wYWNpdHk6IDAuODsgc3Ryb2tlOiAjY2NjY2Nj\nOyBzdHJva2UtbGluZWpvaW46IG1pdGVyIi8+CiAgIDwvZz4KICAgPGcgaWQ9InRleHRfMjMiPgog\nICAgPCEtLSBhZGp1c3RtZW50IC0tPgogICAgPGcgc3R5bGU9ImZpbGw6ICMyNjI2MjYiIHRyYW5z\nZm9ybT0idHJhbnNsYXRlKDUxNy40ODY2NDEgMzQuNTUwOTM3KSBzY2FsZSgwLjEyIC0wLjEyKSI+\nCiAgICAgPGRlZnM+CiAgICAgIDxwYXRoIGlkPSJEZWphVnVTYW5zLTZhIiBkPSJNIDYwMyAzNTAw\nIApMIDExNzggMzUwMCAKTCAxMTc4IC02MyAKUSAxMTc4IC03MzEgOTIzIC0xMDMxIApRIDY2OSAt\nMTMzMSAxMDMgLTEzMzEgCkwgLTExNiAtMTMzMSAKTCAtMTE2IC04NDQgCkwgMzggLTg0NCAKUSAz\nNjYgLTg0NCA0ODQgLTY5MiAKUSA2MDMgLTU0MSA2MDMgLTYzIApMIDYwMyAzNTAwIAp6Ck0gNjAz\nIDQ4NjMgCkwgMTE3OCA0ODYzIApMIDExNzggNDEzNCAKTCA2MDMgNDEzNCAKTCA2MDMgNDg2MyAK\negoiIHRyYW5zZm9ybT0ic2NhbGUoMC4wMTU2MjUpIi8+CiAgICAgPC9kZWZzPgogICAgIDx1c2Ug\neGxpbms6aHJlZj0iI0RlamFWdVNhbnMtNjEiLz4KICAgICA8dXNlIHhsaW5rOmhyZWY9IiNEZWph\nVnVTYW5zLTY0IiB4PSI2MS4yNzkyOTciLz4KICAgICA8dXNlIHhsaW5rOmhyZWY9IiNEZWphVnVT\nYW5zLTZhIiB4PSIxMjQuNzU1ODU5Ii8+CiAgICAgPHVzZSB4bGluazpocmVmPSIjRGVqYVZ1U2Fu\ncy03NSIgeD0iMTUyLjUzOTA2MiIvPgogICAgIDx1c2UgeGxpbms6aHJlZj0iI0RlamFWdVNhbnMt\nNzMiIHg9IjIxNS45MTc5NjkiLz4KICAgICA8dXNlIHhsaW5rOmhyZWY9IiNEZWphVnVTYW5zLTc0\nIiB4PSIyNjguMDE3NTc4Ii8+CiAgICAgPHVzZSB4bGluazpocmVmPSIjRGVqYVZ1U2Fucy02ZCIg\neD0iMzA3LjIyNjU2MiIvPgogICAgIDx1c2UgeGxpbms6aHJlZj0iI0RlamFWdVNhbnMtNjUiIHg9\nIjQwNC42Mzg2NzIiLz4KICAgICA8dXNlIHhsaW5rOmhyZWY9IiNEZWphVnVTYW5zLTZlIiB4PSI0\nNjYuMTYyMTA5Ii8+CiAgICAgPHVzZSB4bGluazpocmVmPSIjRGVqYVZ1U2Fucy03NCIgeD0iNTI5\nLjU0MTAxNiIvPgogICAgPC9nPgogICA8L2c+CiAgIDxnIGlkPSJQYXRoQ29sbGVjdGlvbl8zIj4K\nICAgIDxkZWZzPgogICAgIDxwYXRoIGlkPSJtYmM3ZjBiZDA4MCIgZD0iTSAwIDMgCkMgMC43OTU2\nMDkgMyAxLjU1ODc0IDIuNjgzOTAxIDIuMTIxMzIgMi4xMjEzMiAKQyAyLjY4MzkwMSAxLjU1ODc0\nIDMgMC43OTU2MDkgMyAwIApDIDMgLTAuNzk1NjA5IDIuNjgzOTAxIC0xLjU1ODc0IDIuMTIxMzIg\nLTIuMTIxMzIgCkMgMS41NTg3NCAtMi42ODM5MDEgMC43OTU2MDkgLTMgMCAtMyAKQyAtMC43OTU2\nMDkgLTMgLTEuNTU4NzQgLTIuNjgzOTAxIC0yLjEyMTMyIC0yLjEyMTMyIApDIC0yLjY4MzkwMSAt\nMS41NTg3NCAtMyAtMC43OTU2MDkgLTMgMCAKQyAtMyAwLjc5NTYwOSAtMi42ODM5MDEgMS41NTg3\nNCAtMi4xMjEzMiAyLjEyMTMyIApDIC0xLjU1ODc0IDIuNjgzOTAxIC0wLjc5NTYwOSAzIDAgMyAK\negoiIHN0eWxlPSJzdHJva2U6ICM0YzcyYjA7IHN0cm9rZS13aWR0aDogMC41Ii8+CiAgICA8L2Rl\nZnM+CiAgICA8Zz4KICAgICA8dXNlIHhsaW5rOmhyZWY9IiNtYmM3ZjBiZDA4MCIgeD0iNTE0Ljgy\nIiB5PSI0OC4wMTczNDQiIHN0eWxlPSJmaWxsOiAjNGM3MmIwOyBzdHJva2U6ICM0YzcyYjA7IHN0\ncm9rZS13aWR0aDogMC41Ii8+CiAgICA8L2c+CiAgIDwvZz4KICAgPGcgaWQ9InRleHRfMjQiPgog\nICAgPCEtLSB3ZWlnaHRlZCAtLT4KICAgIDxnIHN0eWxlPSJmaWxsOiAjMjYyNjI2IiB0cmFuc2Zv\ncm09InRyYW5zbGF0ZSg1MzQuNjIgNTAuOTA0ODQ0KSBzY2FsZSgwLjExIC0wLjExKSI+CiAgICAg\nPGRlZnM+CiAgICAgIDxwYXRoIGlkPSJEZWphVnVTYW5zLTc3IiBkPSJNIDI2OSAzNTAwIApMIDg0\nNCAzNTAwIApMIDE1NjMgNzY5IApMIDIyNzggMzUwMCAKTCAyOTU2IDM1MDAgCkwgMzY3NSA3Njkg\nCkwgNDM5MSAzNTAwIApMIDQ5NjYgMzUwMCAKTCA0MDUwIDAgCkwgMzM3MiAwIApMIDI2MTkgMjg2\nOSAKTCAxODYzIDAgCkwgMTE4NCAwIApMIDI2OSAzNTAwIAp6CiIgdHJhbnNmb3JtPSJzY2FsZSgw\nLjAxNTYyNSkiLz4KICAgICAgPHBhdGggaWQ9IkRlamFWdVNhbnMtNjciIGQ9Ik0gMjkwNiAxNzkx\nIApRIDI5MDYgMjQxNiAyNjQ4IDI3NTkgClEgMjM5MSAzMTAzIDE5MjUgMzEwMyAKUSAxNDYzIDMx\nMDMgMTIwNSAyNzU5IApRIDk0NyAyNDE2IDk0NyAxNzkxIApRIDk0NyAxMTY5IDEyMDUgODI1IApR\nIDE0NjMgNDgxIDE5MjUgNDgxIApRIDIzOTEgNDgxIDI2NDggODI1IApRIDI5MDYgMTE2OSAyOTA2\nIDE3OTEgCnoKTSAzNDgxIDQzNCAKUSAzNDgxIC00NTkgMzA4NCAtODk1IApRIDI2ODggLTEzMzEg\nMTg2OSAtMTMzMSAKUSAxNTY2IC0xMzMxIDEyOTcgLTEyODYgClEgMTAyOCAtMTI0MSA3NzUgLTEx\nNDcgCkwgNzc1IC01ODggClEgMTAyOCAtNzI1IDEyNzUgLTc5MCAKUSAxNTIyIC04NTYgMTc3OCAt\nODU2IApRIDIzNDQgLTg1NiAyNjI1IC01NjEgClEgMjkwNiAtMjY2IDI5MDYgMzMxIApMIDI5MDYg\nNjE2IApRIDI3MjggMzA2IDI0NTAgMTUzIApRIDIxNzIgMCAxNzg0IDAgClEgMTE0MSAwIDc0NyA0\nOTAgClEgMzUzIDk4MSAzNTMgMTc5MSAKUSAzNTMgMjYwMyA3NDcgMzA5MyAKUSAxMTQxIDM1ODQg\nMTc4NCAzNTg0IApRIDIxNzIgMzU4NCAyNDUwIDM0MzEgClEgMjcyOCAzMjc4IDI5MDYgMjk2OSAK\nTCAyOTA2IDM1MDAgCkwgMzQ4MSAzNTAwIApMIDM0ODEgNDM0IAp6CiIgdHJhbnNmb3JtPSJzY2Fs\nZSgwLjAxNTYyNSkiLz4KICAgICAgPHBhdGggaWQ9IkRlamFWdVNhbnMtNjgiIGQ9Ik0gMzUxMyAy\nMTEzIApMIDM1MTMgMCAKTCAyOTM4IDAgCkwgMjkzOCAyMDk0IApRIDI5MzggMjU5MSAyNzQ0IDI4\nMzcgClEgMjU1MCAzMDg0IDIxNjMgMzA4NCAKUSAxNjk3IDMwODQgMTQyOCAyNzg3IApRIDExNTkg\nMjQ5MSAxMTU5IDE5NzggCkwgMTE1OSAwIApMIDU4MSAwIApMIDU4MSA0ODYzIApMIDExNTkgNDg2\nMyAKTCAxMTU5IDI5NTYgClEgMTM2NiAzMjcyIDE2NDUgMzQyOCAKUSAxOTI1IDM1ODQgMjI5MSAz\nNTg0IApRIDI4OTQgMzU4NCAzMjAzIDMyMTEgClEgMzUxMyAyODM4IDM1MTMgMjExMyAKegoiIHRy\nYW5zZm9ybT0ic2NhbGUoMC4wMTU2MjUpIi8+CiAgICAgPC9kZWZzPgogICAgIDx1c2UgeGxpbms6\naHJlZj0iI0RlamFWdVNhbnMtNzciLz4KICAgICA8dXNlIHhsaW5rOmhyZWY9IiNEZWphVnVTYW5z\nLTY1IiB4PSI4MS43ODcxMDkiLz4KICAgICA8dXNlIHhsaW5rOmhyZWY9IiNEZWphVnVTYW5zLTY5\nIiB4PSIxNDMuMzEwNTQ3Ii8+CiAgICAgPHVzZSB4bGluazpocmVmPSIjRGVqYVZ1U2Fucy02NyIg\neD0iMTcxLjA5Mzc1Ii8+CiAgICAgPHVzZSB4bGluazpocmVmPSIjRGVqYVZ1U2Fucy02OCIgeD0i\nMjM0LjU3MDMxMiIvPgogICAgIDx1c2UgeGxpbms6aHJlZj0iI0RlamFWdVNhbnMtNzQiIHg9IjI5\nNy45NDkyMTkiLz4KICAgICA8dXNlIHhsaW5rOmhyZWY9IiNEZWphVnVTYW5zLTY1IiB4PSIzMzcu\nMTU4MjAzIi8+CiAgICAgPHVzZSB4bGluazpocmVmPSIjRGVqYVZ1U2Fucy02NCIgeD0iMzk4LjY4\nMTY0MSIvPgogICAgPC9nPgogICA8L2c+CiAgIDxnIGlkPSJQYXRoQ29sbGVjdGlvbl80Ij4KICAg\nIDxkZWZzPgogICAgIDxwYXRoIGlkPSJtMzI5YjVhYzljYyIgZD0iTSAwIC0zIApMIC0zIDMgCkwg\nMyAzIAp6CiIgc3R5bGU9InN0cm9rZTogI2RkODQ1Mjsgc3Ryb2tlLXdpZHRoOiAwLjUiLz4KICAg\nIDwvZGVmcz4KICAgIDxnPgogICAgIDx1c2UgeGxpbms6aHJlZj0iI20zMjliNWFjOWNjIiB4PSI1\nMTQuODIiIHk9IjY0LjE2MzI4MSIgc3R5bGU9ImZpbGw6ICNkZDg0NTI7IHN0cm9rZTogI2RkODQ1\nMjsgc3Ryb2tlLXdpZHRoOiAwLjUiLz4KICAgIDwvZz4KICAgPC9nPgogICA8ZyBpZD0idGV4dF8y\nNSI+CiAgICA8IS0tIHVud2VpZ2h0ZWQgLS0+CiAgICA8ZyBzdHlsZT0iZmlsbDogIzI2MjYyNiIg\ndHJhbnNmb3JtPSJ0cmFuc2xhdGUoNTM0LjYyIDY3LjA1MDc4MSkgc2NhbGUoMC4xMSAtMC4xMSki\nPgogICAgIDx1c2UgeGxpbms6aHJlZj0iI0RlamFWdVNhbnMtNzUiLz4KICAgICA8dXNlIHhsaW5r\nOmhyZWY9IiNEZWphVnVTYW5zLTZlIiB4PSI2My4zNzg5MDYiLz4KICAgICA8dXNlIHhsaW5rOmhy\nZWY9IiNEZWphVnVTYW5zLTc3IiB4PSIxMjYuNzU3ODEyIi8+CiAgICAgPHVzZSB4bGluazpocmVm\nPSIjRGVqYVZ1U2Fucy02NSIgeD0iMjA4LjU0NDkyMiIvPgogICAgIDx1c2UgeGxpbms6aHJlZj0i\nI0RlamFWdVNhbnMtNjkiIHg9IjI3MC4wNjgzNTkiLz4KICAgICA8dXNlIHhsaW5rOmhyZWY9IiNE\nZWphVnVTYW5zLTY3IiB4PSIyOTcuODUxNTYyIi8+CiAgICAgPHVzZSB4bGluazpocmVmPSIjRGVq\nYVZ1U2Fucy02OCIgeD0iMzYxLjMyODEyNSIvPgogICAgIDx1c2UgeGxpbms6aHJlZj0iI0RlamFW\ndVNhbnMtNzQiIHg9IjQyNC43MDcwMzEiLz4KICAgICA8dXNlIHhsaW5rOmhyZWY9IiNEZWphVnVT\nYW5zLTY1IiB4PSI0NjMuOTE2MDE2Ii8+CiAgICAgPHVzZSB4bGluazpocmVmPSIjRGVqYVZ1U2Fu\ncy02NCIgeD0iNTI1LjQzOTQ1MyIvPgogICAgPC9nPgogICA8L2c+CiAgIDxnIGlkPSJ0ZXh0XzI2\nIj4KICAgIDwhLS0gT3VpLUFTTUQgLS0+CiAgICA8ZyBzdHlsZT0iZmlsbDogIzI2MjYyNiIgdHJh\nbnNmb3JtPSJ0cmFuc2xhdGUoNTIxLjY3ODIwMyA4My45NTY1NjIpIHNjYWxlKDAuMTIgLTAuMTIp\nIj4KICAgICA8ZGVmcz4KICAgICAgPHBhdGggaWQ9IkRlamFWdVNhbnMtNTMiIGQ9Ik0gMzQyNSA0\nNTEzIApMIDM0MjUgMzg5NyAKUSAzMDY2IDQwNjkgMjc0NyA0MTUzIApRIDI0MjggNDIzOCAyMTMx\nIDQyMzggClEgMTYxNiA0MjM4IDEzMzYgNDAzOCAKUSAxMDU2IDM4MzggMTA1NiAzNDY5IApRIDEw\nNTYgMzE1OSAxMjQyIDMwMDEgClEgMTQyOCAyODQ0IDE5NDcgMjc0NyAKTCAyMzI4IDI2NjkgClEg\nMzAzNCAyNTM0IDMzNzAgMjE5NSAKUSAzNzA2IDE4NTYgMzcwNiAxMjg4IApRIDM3MDYgNjA5IDMy\nNTEgMjU5IApRIDI3OTcgLTkxIDE5MTkgLTkxIApRIDE1ODggLTkxIDEyMTQgLTE2IApRIDg0MSA1\nOSA0NDEgMjA2IApMIDQ0MSA4NTYgClEgODI1IDY0MSAxMTk0IDUzMSAKUSAxNTYzIDQyMiAxOTE5\nIDQyMiAKUSAyNDU5IDQyMiAyNzUzIDYzNCAKUSAzMDQ3IDg0NyAzMDQ3IDEyNDEgClEgMzA0NyAx\nNTg0IDI4MzYgMTc3OCAKUSAyNjI1IDE5NzIgMjE0NCAyMDY5IApMIDE3NTkgMjE0NCAKUSAxMDUz\nIDIyODQgNzM3IDI1ODQgClEgNDIyIDI4ODQgNDIyIDM0MTkgClEgNDIyIDQwMzggODU4IDQzOTQg\nClEgMTI5NCA0NzUwIDIwNTkgNDc1MCAKUSAyMzg4IDQ3NTAgMjcyOCA0NjkwIApRIDMwNjkgNDYz\nMSAzNDI1IDQ1MTMgCnoKIiB0cmFuc2Zvcm09InNjYWxlKDAuMDE1NjI1KSIvPgogICAgICA8cGF0\naCBpZD0iRGVqYVZ1U2Fucy00ZCIgZD0iTSA2MjggNDY2NiAKTCAxNTY5IDQ2NjYgCkwgMjc1OSAx\nNDkxIApMIDM5NTYgNDY2NiAKTCA0ODk3IDQ2NjYgCkwgNDg5NyAwIApMIDQyODEgMCAKTCA0Mjgx\nIDQwOTcgCkwgMzA3OCA4OTcgCkwgMjQ0NCA4OTcgCkwgMTI0MSA0MDk3IApMIDEyNDEgMCAKTCA2\nMjggMCAKTCA2MjggNDY2NiAKegoiIHRyYW5zZm9ybT0ic2NhbGUoMC4wMTU2MjUpIi8+CiAgICAg\nIDxwYXRoIGlkPSJEZWphVnVTYW5zLTQ0IiBkPSJNIDEyNTkgNDE0NyAKTCAxMjU5IDUxOSAKTCAy\nMDIyIDUxOSAKUSAyOTg4IDUxOSAzNDM2IDk1NiAKUSAzODg0IDEzOTQgMzg4NCAyMzM4IApRIDM4\nODQgMzI3NSAzNDM2IDM3MTEgClEgMjk4OCA0MTQ3IDIwMjIgNDE0NyAKTCAxMjU5IDQxNDcgCnoK\nTSA2MjggNDY2NiAKTCAxOTI1IDQ2NjYgClEgMzI4MSA0NjY2IDM5MTUgNDEwMiAKUSA0NTUwIDM1\nMzggNDU1MCAyMzM4IApRIDQ1NTAgMTEzMSAzOTEyIDU2NSAKUSAzMjc1IDAgMTkyNSAwIApMIDYy\nOCAwIApMIDYyOCA0NjY2IAp6CiIgdHJhbnNmb3JtPSJzY2FsZSgwLjAxNTYyNSkiLz4KICAgICA8\nL2RlZnM+CiAgICAgPHVzZSB4bGluazpocmVmPSIjRGVqYVZ1U2Fucy00ZiIvPgogICAgIDx1c2Ug\neGxpbms6aHJlZj0iI0RlamFWdVNhbnMtNzUiIHg9Ijc4LjcxMDkzOCIvPgogICAgIDx1c2UgeGxp\nbms6aHJlZj0iI0RlamFWdVNhbnMtNjkiIHg9IjE0Mi4wODk4NDQiLz4KICAgICA8dXNlIHhsaW5r\nOmhyZWY9IiNEZWphVnVTYW5zLTJkIiB4PSIxNjkuODczMDQ3Ii8+CiAgICAgPHVzZSB4bGluazpo\ncmVmPSIjRGVqYVZ1U2Fucy00MSIgeD0iMjAzLjcwNzAzMSIvPgogICAgIDx1c2UgeGxpbms6aHJl\nZj0iI0RlamFWdVNhbnMtNTMiIHg9IjI3Mi4xMTUyMzQiLz4KICAgICA8dXNlIHhsaW5rOmhyZWY9\nIiNEZWphVnVTYW5zLTRkIiB4PSIzMzUuNTkxNzk3Ii8+CiAgICAgPHVzZSB4bGluazpocmVmPSIj\nRGVqYVZ1U2Fucy00NCIgeD0iNDIxLjg3MTA5NCIvPgogICAgPC9nPgogICA8L2c+CiAgIDxnIGlk\nPSJQYXRoQ29sbGVjdGlvbl81Ij4KICAgIDxkZWZzPgogICAgIDxwYXRoIGlkPSJtOGQ5M2I1Nzlm\nZCIgZD0iTSAwIDIuMDQzMTkzIApDIDAuNTQxODYxIDIuMDQzMTkzIDEuMDYxNjAyIDEuODI3OTEg\nMS40NDQ3NTYgMS40NDQ3NTYgCkMgMS44Mjc5MSAxLjA2MTYwMiAyLjA0MzE5MyAwLjU0MTg2MSAy\nLjA0MzE5MyAwIApDIDIuMDQzMTkzIC0wLjU0MTg2MSAxLjgyNzkxIC0xLjA2MTYwMiAxLjQ0NDc1\nNiAtMS40NDQ3NTYgCkMgMS4wNjE2MDIgLTEuODI3OTEgMC41NDE4NjEgLTIuMDQzMTkzIDAgLTIu\nMDQzMTkzIApDIC0wLjU0MTg2MSAtMi4wNDMxOTMgLTEuMDYxNjAyIC0xLjgyNzkxIC0xLjQ0NDc1\nNiAtMS40NDQ3NTYgCkMgLTEuODI3OTEgLTEuMDYxNjAyIC0yLjA0MzE5MyAtMC41NDE4NjEgLTIu\nMDQzMTkzIDAgCkMgLTIuMDQzMTkzIDAuNTQxODYxIC0xLjgyNzkxIDEuMDYxNjAyIC0xLjQ0NDc1\nNiAxLjQ0NDc1NiAKQyAtMS4wNjE2MDIgMS44Mjc5MSAtMC41NDE4NjEgMi4wNDMxOTMgMCAyLjA0\nMzE5MyAKegoiIHN0eWxlPSJzdHJva2U6ICM0YzcyYjA7IHN0cm9rZS1vcGFjaXR5OiAwLjQzNzU2\nODsgc3Ryb2tlLXdpZHRoOiAwLjUiLz4KICAgIDwvZGVmcz4KICAgIDxnPgogICAgIDx1c2UgeGxp\nbms6aHJlZj0iI204ZDkzYjU3OWZkIiB4PSI1MzQuOTY0NjA5IiB5PSI5Ny40MjI5NjkiIHN0eWxl\nPSJmaWxsOiAjNGM3MmIwOyBmaWxsLW9wYWNpdHk6IDAuNDM3NTY4OyBzdHJva2U6ICM0YzcyYjA7\nIHN0cm9rZS1vcGFjaXR5OiAwLjQzNzU2ODsgc3Ryb2tlLXdpZHRoOiAwLjUiLz4KICAgIDwvZz4K\nICAgPC9nPgogICA8ZyBpZD0ibGluZTJkXzE5Ij4KICAgIDxwYXRoIGQ9Ik0gNTIzLjk2NDYwOSA5\nNi40NjA0NjkgCkwgNTM0Ljk2NDYwOSA5Ni40NjA0NjkgCkwgNTQ1Ljk2NDYwOSA5Ni40NjA0Njkg\nCiIgc3R5bGU9ImZpbGw6IG5vbmU7IHN0cm9rZS1kYXNoYXJyYXk6IDQuNTM2OTI0LDEuOTYxOTEz\nOyBzdHJva2UtZGFzaG9mZnNldDogMDsgc3Ryb2tlOiAjY2NjY2NjOyBzdHJva2Utd2lkdGg6IDEu\nMjI2MTk2OyBzdHJva2UtbGluZWNhcDogc3F1YXJlIi8+CiAgIDwvZz4KICAgPGcgaWQ9InRleHRf\nMjciPgogICAgPCEtLSAwLjAxIC0tPgogICAgPGcgc3R5bGU9ImZpbGw6ICMyNjI2MjYiIHRyYW5z\nZm9ybT0idHJhbnNsYXRlKDU1NC43NjQ2MDkgMTAwLjMxMDQ2OSkgc2NhbGUoMC4xMSAtMC4xMSki\nPgogICAgIDx1c2UgeGxpbms6aHJlZj0iI0RlamFWdVNhbnMtMzAiLz4KICAgICA8dXNlIHhsaW5r\nOmhyZWY9IiNEZWphVnVTYW5zLTJlIiB4PSI2My42MjMwNDciLz4KICAgICA8dXNlIHhsaW5rOmhy\nZWY9IiNEZWphVnVTYW5zLTMwIiB4PSI5NS40MTAxNTYiLz4KICAgICA8dXNlIHhsaW5rOmhyZWY9\nIiNEZWphVnVTYW5zLTMxIiB4PSIxNTkuMDMzMjAzIi8+CiAgICA8L2c+CiAgIDwvZz4KICAgPGcg\naWQ9IlBhdGhDb2xsZWN0aW9uXzYiPgogICAgPGRlZnM+CiAgICAgPHBhdGggaWQ9Im03NjNlOGVk\nZjNiIiBkPSJNIDAgMi43MTExNjYgCkMgMC43MTkwMSAyLjcxMTE2NiAxLjQwODY2NyAyLjQyNTUg\nMS45MTcwODQgMS45MTcwODQgCkMgMi40MjU1IDEuNDA4NjY3IDIuNzExMTY2IDAuNzE5MDEgMi43\nMTExNjYgMCAKQyAyLjcxMTE2NiAtMC43MTkwMSAyLjQyNTUgLTEuNDA4NjY3IDEuOTE3MDg0IC0x\nLjkxNzA4NCAKQyAxLjQwODY2NyAtMi40MjU1IDAuNzE5MDEgLTIuNzExMTY2IDAgLTIuNzExMTY2\nIApDIC0wLjcxOTAxIC0yLjcxMTE2NiAtMS40MDg2NjcgLTIuNDI1NSAtMS45MTcwODQgLTEuOTE3\nMDg0IApDIC0yLjQyNTUgLTEuNDA4NjY3IC0yLjcxMTE2NiAtMC43MTkwMSAtMi43MTExNjYgMCAK\nQyAtMi43MTExNjYgMC43MTkwMSAtMi40MjU1IDEuNDA4NjY3IC0xLjkxNzA4NCAxLjkxNzA4NCAK\nQyAtMS40MDg2NjcgMi40MjU1IC0wLjcxOTAxIDIuNzExMTY2IDAgMi43MTExNjYgCnoKIiBzdHls\nZT0ic3Ryb2tlOiAjNGM3MmIwOyBzdHJva2Utb3BhY2l0eTogMC41NzUxODU7IHN0cm9rZS13aWR0\naDogMC41Ii8+CiAgICA8L2RlZnM+CiAgICA8Zz4KICAgICA8dXNlIHhsaW5rOmhyZWY9IiNtNzYz\nZThlZGYzYiIgeD0iNTM0Ljk2NDYwOSIgeT0iMTEzLjU2ODkwNiIgc3R5bGU9ImZpbGw6ICM0Yzcy\nYjA7IGZpbGwtb3BhY2l0eTogMC41NzUxODU7IHN0cm9rZTogIzRjNzJiMDsgc3Ryb2tlLW9wYWNp\ndHk6IDAuNTc1MTg1OyBzdHJva2Utd2lkdGg6IDAuNSIvPgogICAgPC9nPgogICA8L2c+CiAgIDxn\nIGlkPSJsaW5lMmRfMjAiPgogICAgPHBhdGggZD0iTSA1MjMuOTY0NjA5IDExMi42MDY0MDYgCkwg\nNTM0Ljk2NDYwOSAxMTIuNjA2NDA2IApMIDU0NS45NjQ2MDkgMTEyLjYwNjQwNiAKIiBzdHlsZT0i\nZmlsbDogbm9uZTsgc3Ryb2tlLWRhc2hhcnJheTogNi4yOTk0ODQsMi43MjQxMDE7IHN0cm9rZS1k\nYXNob2Zmc2V0OiAwOyBzdHJva2U6ICNjY2NjY2M7IHN0cm9rZS13aWR0aDogMS43MDI1NjM7IHN0\ncm9rZS1saW5lY2FwOiBzcXVhcmUiLz4KICAgPC9nPgogICA8ZyBpZD0idGV4dF8yOCI+CiAgICA8\nIS0tIDAuMDIgLS0+CiAgICA8ZyBzdHlsZT0iZmlsbDogIzI2MjYyNiIgdHJhbnNmb3JtPSJ0cmFu\nc2xhdGUoNTU0Ljc2NDYwOSAxMTYuNDU2NDA2KSBzY2FsZSgwLjExIC0wLjExKSI+CiAgICAgPHVz\nZSB4bGluazpocmVmPSIjRGVqYVZ1U2Fucy0zMCIvPgogICAgIDx1c2UgeGxpbms6aHJlZj0iI0Rl\namFWdVNhbnMtMmUiIHg9IjYzLjYyMzA0NyIvPgogICAgIDx1c2UgeGxpbms6aHJlZj0iI0RlamFW\ndVNhbnMtMzAiIHg9Ijk1LjQxMDE1NiIvPgogICAgIDx1c2UgeGxpbms6aHJlZj0iI0RlamFWdVNh\nbnMtMzIiIHg9IjE1OS4wMzMyMDMiLz4KICAgIDwvZz4KICAgPC9nPgogICA8ZyBpZD0iUGF0aENv\nbGxlY3Rpb25fNyI+CiAgICA8ZGVmcz4KICAgICA8cGF0aCBpZD0ibWQzNTA1YTMwNDYiIGQ9Ik0g\nMCAzLjI0NDQxMSAKQyAwLjg2MDQyOCAzLjI0NDQxMSAxLjY4NTczMSAyLjkwMjU2IDIuMjk0MTQ1\nIDIuMjk0MTQ1IApDIDIuOTAyNTYgMS42ODU3MzEgMy4yNDQ0MTEgMC44NjA0MjggMy4yNDQ0MTEg\nMCAKQyAzLjI0NDQxMSAtMC44NjA0MjggMi45MDI1NiAtMS42ODU3MzEgMi4yOTQxNDUgLTIuMjk0\nMTQ1IApDIDEuNjg1NzMxIC0yLjkwMjU2IDAuODYwNDI4IC0zLjI0NDQxMSAwIC0zLjI0NDQxMSAK\nQyAtMC44NjA0MjggLTMuMjQ0NDExIC0xLjY4NTczMSAtMi45MDI1NiAtMi4yOTQxNDUgLTIuMjk0\nMTQ1IApDIC0yLjkwMjU2IC0xLjY4NTczMSAtMy4yNDQ0MTEgLTAuODYwNDI4IC0zLjI0NDQxMSAw\nIApDIC0zLjI0NDQxMSAwLjg2MDQyOCAtMi45MDI1NiAxLjY4NTczMSAtMi4yOTQxNDUgMi4yOTQx\nNDUgCkMgLTEuNjg1NzMxIDIuOTAyNTYgLTAuODYwNDI4IDMuMjQ0NDExIDAgMy4yNDQ0MTEgCnoK\nIiBzdHlsZT0ic3Ryb2tlOiAjNGM3MmIwOyBzdHJva2Utb3BhY2l0eTogMC43MTI4MDI7IHN0cm9r\nZS13aWR0aDogMC41Ii8+CiAgICA8L2RlZnM+CiAgICA8Zz4KICAgICA8dXNlIHhsaW5rOmhyZWY9\nIiNtZDM1MDVhMzA0NiIgeD0iNTM0Ljk2NDYwOSIgeT0iMTI5LjcxNDg0NCIgc3R5bGU9ImZpbGw6\nICM0YzcyYjA7IGZpbGwtb3BhY2l0eTogMC43MTI4MDI7IHN0cm9rZTogIzRjNzJiMDsgc3Ryb2tl\nLW9wYWNpdHk6IDAuNzEyODAyOyBzdHJva2Utd2lkdGg6IDAuNSIvPgogICAgPC9nPgogICA8L2c+\nCiAgIDxnIGlkPSJsaW5lMmRfMjEiPgogICAgPHBhdGggZD0iTSA1MjMuOTY0NjA5IDEyOC43NTIz\nNDQgCkwgNTM0Ljk2NDYwOSAxMjguNzUyMzQ0IApMIDU0NS45NjQ2MDkgMTI4Ljc1MjM0NCAKIiBz\ndHlsZT0iZmlsbDogbm9uZTsgc3Ryb2tlLWRhc2hhcnJheTogOC4wNjIwNDMsMy40ODYyODk7IHN0\ncm9rZS1kYXNob2Zmc2V0OiAwOyBzdHJva2U6ICNjY2NjY2M7IHN0cm9rZS13aWR0aDogMi4xNzg5\nMzE7IHN0cm9rZS1saW5lY2FwOiBzcXVhcmUiLz4KICAgPC9nPgogICA8ZyBpZD0idGV4dF8yOSI+\nCiAgICA8IS0tIDAuMDMgLS0+CiAgICA8ZyBzdHlsZT0iZmlsbDogIzI2MjYyNiIgdHJhbnNmb3Jt\nPSJ0cmFuc2xhdGUoNTU0Ljc2NDYwOSAxMzIuNjAyMzQ0KSBzY2FsZSgwLjExIC0wLjExKSI+CiAg\nICAgPHVzZSB4bGluazpocmVmPSIjRGVqYVZ1U2Fucy0zMCIvPgogICAgIDx1c2UgeGxpbms6aHJl\nZj0iI0RlamFWdVNhbnMtMmUiIHg9IjYzLjYyMzA0NyIvPgogICAgIDx1c2UgeGxpbms6aHJlZj0i\nI0RlamFWdVNhbnMtMzAiIHg9Ijk1LjQxMDE1NiIvPgogICAgIDx1c2UgeGxpbms6aHJlZj0iI0Rl\namFWdVNhbnMtMzMiIHg9IjE1OS4wMzMyMDMiLz4KICAgIDwvZz4KICAgPC9nPgogICA8ZyBpZD0i\nUGF0aENvbGxlY3Rpb25fOCI+CiAgICA8ZGVmcz4KICAgICA8cGF0aCBpZD0ibWJhMTgxMjIzM2Qi\nIGQ9Ik0gMCAzLjcwMTYxOSAKQyAwLjk4MTY4MSAzLjcwMTYxOSAxLjkyMzI4NyAzLjMxMTU5MyAy\nLjYxNzQ0IDIuNjE3NDQgCkMgMy4zMTE1OTMgMS45MjMyODcgMy43MDE2MTkgMC45ODE2ODEgMy43\nMDE2MTkgMCAKQyAzLjcwMTYxOSAtMC45ODE2ODEgMy4zMTE1OTMgLTEuOTIzMjg3IDIuNjE3NDQg\nLTIuNjE3NDQgCkMgMS45MjMyODcgLTMuMzExNTkzIDAuOTgxNjgxIC0zLjcwMTYxOSAwIC0zLjcw\nMTYxOSAKQyAtMC45ODE2ODEgLTMuNzAxNjE5IC0xLjkyMzI4NyAtMy4zMTE1OTMgLTIuNjE3NDQg\nLTIuNjE3NDQgCkMgLTMuMzExNTkzIC0xLjkyMzI4NyAtMy43MDE2MTkgLTAuOTgxNjgxIC0zLjcw\nMTYxOSAwIApDIC0zLjcwMTYxOSAwLjk4MTY4MSAtMy4zMTE1OTMgMS45MjMyODcgLTIuNjE3NDQg\nMi42MTc0NCAKQyAtMS45MjMyODcgMy4zMTE1OTMgLTAuOTgxNjgxIDMuNzAxNjE5IDAgMy43MDE2\nMTkgCnoKIiBzdHlsZT0ic3Ryb2tlOiAjNGM3MmIwOyBzdHJva2Utb3BhY2l0eTogMC44NTA0MTk7\nIHN0cm9rZS13aWR0aDogMC41Ii8+CiAgICA8L2RlZnM+CiAgICA8Zz4KICAgICA8dXNlIHhsaW5r\nOmhyZWY9IiNtYmExODEyMjMzZCIgeD0iNTM0Ljk2NDYwOSIgeT0iMTQ1Ljg2MDc4MSIgc3R5bGU9\nImZpbGw6ICM0YzcyYjA7IGZpbGwtb3BhY2l0eTogMC44NTA0MTk7IHN0cm9rZTogIzRjNzJiMDsg\nc3Ryb2tlLW9wYWNpdHk6IDAuODUwNDE5OyBzdHJva2Utd2lkdGg6IDAuNSIvPgogICAgPC9nPgog\nICA8L2c+CiAgIDxnIGlkPSJsaW5lMmRfMjIiPgogICAgPHBhdGggZD0iTSA1MjMuOTY0NjA5IDE0\nNC44OTgyODEgCkwgNTM0Ljk2NDYwOSAxNDQuODk4MjgxIApMIDU0NS45NjQ2MDkgMTQ0Ljg5ODI4\nMSAKIiBzdHlsZT0iZmlsbDogbm9uZTsgc3Ryb2tlLWRhc2hhcnJheTogOS44MjQ2MDIsNC4yNDg0\nNzc7IHN0cm9rZS1kYXNob2Zmc2V0OiAwOyBzdHJva2U6ICNjY2NjY2M7IHN0cm9rZS13aWR0aDog\nMi42NTUyOTg7IHN0cm9rZS1saW5lY2FwOiBzcXVhcmUiLz4KICAgPC9nPgogICA8ZyBpZD0idGV4\ndF8zMCI+CiAgICA8IS0tIDAuMDQgLS0+CiAgICA8ZyBzdHlsZT0iZmlsbDogIzI2MjYyNiIgdHJh\nbnNmb3JtPSJ0cmFuc2xhdGUoNTU0Ljc2NDYwOSAxNDguNzQ4MjgxKSBzY2FsZSgwLjExIC0wLjEx\nKSI+CiAgICAgPGRlZnM+CiAgICAgIDxwYXRoIGlkPSJEZWphVnVTYW5zLTM0IiBkPSJNIDI0MTkg\nNDExNiAKTCA4MjUgMTYyNSAKTCAyNDE5IDE2MjUgCkwgMjQxOSA0MTE2IAp6Ck0gMjI1MyA0NjY2\nIApMIDMwNDcgNDY2NiAKTCAzMDQ3IDE2MjUgCkwgMzcxMyAxNjI1IApMIDM3MTMgMTEwMCAKTCAz\nMDQ3IDExMDAgCkwgMzA0NyAwIApMIDI0MTkgMCAKTCAyNDE5IDExMDAgCkwgMzEzIDExMDAgCkwg\nMzEzIDE3MDkgCkwgMjI1MyA0NjY2IAp6CiIgdHJhbnNmb3JtPSJzY2FsZSgwLjAxNTYyNSkiLz4K\nICAgICA8L2RlZnM+CiAgICAgPHVzZSB4bGluazpocmVmPSIjRGVqYVZ1U2Fucy0zMCIvPgogICAg\nIDx1c2UgeGxpbms6aHJlZj0iI0RlamFWdVNhbnMtMmUiIHg9IjYzLjYyMzA0NyIvPgogICAgIDx1\nc2UgeGxpbms6aHJlZj0iI0RlamFWdVNhbnMtMzAiIHg9Ijk1LjQxMDE1NiIvPgogICAgIDx1c2Ug\neGxpbms6aHJlZj0iI0RlamFWdVNhbnMtMzQiIHg9IjE1OS4wMzMyMDMiLz4KICAgIDwvZz4KICAg\nPC9nPgogIDwvZz4KIDwvZz4KIDxkZWZzPgogIDxjbGlwUGF0aCBpZD0icDdjNWZlNGFlOWMiPgog\nICA8cmVjdCB4PSI0NC4wNzgxMjUiIHk9IjIyLjMxODEyNSIgd2lkdGg9IjE5Ni40Nzc0NzkiIGhl\naWdodD0iMTQ3LjE2Ii8+CiAgPC9jbGlwUGF0aD4KICA8Y2xpcFBhdGggaWQ9InBhODdhZTEwZDEx\nIj4KICAgPHJlY3QgeD0iMjkwLjY3ODEyNSIgeT0iMjIuMzE4MTI1IiB3aWR0aD0iMTk2LjQ3NzQ3\nOSIgaGVpZ2h0PSIxNDcuMTYiLz4KICA8L2NsaXBQYXRoPgogPC9kZWZzPgo8L3N2Zz4K\n"
     }
    }
   ],
   "source": [],
   "id": "cell-25"
  },
  {
   "cell_type": "markdown",
   "metadata": {},
   "source": [
    "### Remake all plots with Oui-ASMD score"
   ],
   "id": "cell-26"
  },
  {
   "cell_type": "code",
   "execution_count": 40,
   "metadata": {},
   "outputs": [
    {
     "output_type": "display_data",
     "metadata": {},
     "data": {}
    }
   ],
   "source": [
    "fig = mpl.figure.Figure(figsize=(8, 3))\n",
    "axes = fig.subplot_mosaic(\"BCD\")\n",
    "fig, axes = mpl.pyplot.subplot_mosaic(\"BCD\", figsize=(8, 3))\n",
    "p = ouilove_plot(\n",
    "    ouiasmd_plot_data, \n",
    "    plot_range=True,\n",
    "    order_by_importance=False,\n",
    "    opacity=True,\n",
    "    pointsize=False,\n",
    "    importance_metric=\"ouiasmd\",\n",
    "    legend=False,\n",
    "    threshold=0.1, ax=axes[\"B\"],\n",
    ")\n",
    "axes[\"B\"].set_title(\"Opacity\")\n",
    "p = ouilove_plot(\n",
    "    ouiasmd_plot_data, \n",
    "    plot_range=True,\n",
    "    order_by_importance=True,\n",
    "    opacity=False,\n",
    "    pointsize=False,\n",
    "    importance_metric=\"ouiasmd\",\n",
    "    legend=True,\n",
    "    threshold=0.1, ax=axes[\"D\"],\n",
    ")\n",
    "axes[\"D\"].set_title(\"Order\")\n",
    "p = ouilove_plot(\n",
    "    ouiasmd_plot_data, \n",
    "    plot_range=True,\n",
    "    order_by_importance=False,\n",
    "    opacity=False,\n",
    "    pointsize=True,\n",
    "    importance_metric=\"ouiasmd\",\n",
    "    legend=False,\n",
    "    threshold=0.1, ax=axes[\"C\"],\n",
    ")\n",
    "axes[\"C\"].set_title(\"Size\")\n",
    "axes[\"B\"].set_xlabel(None)\n",
    "axes[\"D\"].set_xlabel(None)\n",
    "# fig.suptitle(\n",
    "#     \"Visual channels to incorporate outcome information\",\n",
    "# )\n",
    "fig.tight_layout()\n",
    "# fig"
   ],
   "id": "cell-fig-oui-encoding"
  },
  {
   "cell_type": "code",
   "execution_count": 42,
   "metadata": {},
   "outputs": [
    {
     "output_type": "display_data",
     "metadata": {},
     "data": {}
    }
   ],
   "source": [
    "fig = mpl.figure.Figure(figsize=(7, 3))\n",
    "axes = fig.subplot_mosaic(\"AE\", sharex=True)\n",
    "fig, axes = mpl.pyplot.subplot_mosaic(\"AE\", figsize=(7, 3), sharex=True)\n",
    "p = ouilove_plot(\n",
    "    ouiasmd_plot_data.rename(columns={\"ouiasmd\": \"Oui-ASMD\"}), \n",
    "    plot_range=True,\n",
    "    order_by_importance=False,\n",
    "    opacity=False,\n",
    "    pointsize=False,\n",
    "    importance_metric=\"mse\",\n",
    "    legend=False,\n",
    "    threshold=0.1, ax=axes[\"A\"],\n",
    ")\n",
    "axes[\"A\"].set_title(\"Love plot (standard)\")\n",
    "\n",
    "p = ouilove_plot(\n",
    "    ouiasmd_plot_data.rename(columns={\"ouiasmd\": \"Oui-ASMD\"}), \n",
    "    plot_range=True,\n",
    "    order_by_importance=True,\n",
    "    opacity=True,\n",
    "    pointsize=True,\n",
    "    importance_metric=\"Oui-ASMD\",\n",
    "    legend=True,\n",
    "    threshold=0.1, ax=axes[\"E\"],\n",
    ")\n",
    "axes[\"E\"].set_title(\"Outcome-informed Love plot\")\n",
    "fig.tight_layout()\n",
    "# fig"
   ],
   "id": "cell-fig-love-oui-love"
  }
 ],
 "nbformat": 4,
 "nbformat_minor": 5,
 "metadata": {}
}
