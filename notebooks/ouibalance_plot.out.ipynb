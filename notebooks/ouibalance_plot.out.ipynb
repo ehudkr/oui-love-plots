{
  "cells": [
    {
      "cell_type": "markdown",
      "metadata": {},
      "source": [
        "# Outcome-informed balance plots"
      ],
      "id": "5a2bf509-43d7-4edb-8fbc-1702eadc7816"
    },
    {
      "cell_type": "code",
      "execution_count": 2,
      "metadata": {},
      "outputs": [],
      "source": [
        "import numpy as np\n",
        "import pandas as pd\n",
        "import seaborn as sns\n",
        "import seaborn.objects as so\n",
        "import matplotlib as mpl\n",
        "import statsmodels.api as sm\n",
        "import statsmodels.formula.api as smf\n",
        "from scipy.special import expit\n",
        "\n",
        "from sklearn.linear_model import LogisticRegression, LogisticRegressionCV\n",
        "from sklearn.linear_model import LinearRegression\n",
        "from sklearn.ensemble import RandomForestRegressor, GradientBoostingRegressor\n",
        "from sklearn.inspection import permutation_importance\n",
        "from sklearn.metrics import r2_score, mean_absolute_error, mean_squared_error\n",
        "\n",
        "from causallib.estimation import IPW\n"
      ],
      "id": "cell-2"
    },
    {
      "cell_type": "code",
      "execution_count": 3,
      "metadata": {},
      "outputs": [],
      "source": [
        "def generate_data(n=1000, seed=0):\n",
        "    d = 60\n",
        "    rng = np.random.default_rng(seed)\n",
        "    X = rng.normal(0, 0.5, size=(n, d))\n",
        "\n",
        "    a_beta = np.concatenate((\n",
        "        rng.normal(0, 0.01, size=d//4),\n",
        "        rng.normal(0, 0.5, size=d//4),\n",
        "        rng.normal(0, 0.01, size=d//4),\n",
        "        rng.normal(0, 0.5, size=d//4),\n",
        "    ))\n",
        "    a_logit = X @ a_beta\n",
        "    a_prop = expit(a_logit)\n",
        "    a = rng.binomial(1, a_prop)\n",
        "\n",
        "    y_beta = np.concatenate((\n",
        "        rng.normal(0, 0.01, size=d//2),\n",
        "        rng.normal(-2, 0.5, size=d//2),\n",
        "    ))\n",
        "    effect = 1\n",
        "    y = X @ y_beta + a * effect + rng.normal(0, 1, size=n)\n",
        "    \n",
        "    X = pd.DataFrame(X, columns=[f\"x{i:02d}\" for i in range(X.shape[1])])\n",
        "    a = pd.Series(a, name=\"a\")\n",
        "    y = pd.Series(y, name=\"y\")\n",
        "    return X, a, y"
      ],
      "id": "cell-3"
    },
    {
      "cell_type": "code",
      "execution_count": 4,
      "metadata": {},
      "outputs": [
        {
          "output_type": "display_data",
          "metadata": {},
          "data": {
            "text/html": [
              "\n",
              "<p>1000 rows × 62 columns</p>\n",
              "</div>"
            ]
          }
        }
      ],
      "source": [
        "X, a, y = generate_data()\n",
        "X.join(a).join(y)"
      ],
      "id": "cell-4"
    },
    {
      "cell_type": "code",
      "execution_count": 5,
      "metadata": {},
      "outputs": [],
      "source": [
        "ipw = IPW(LogisticRegression(penalty=\"none\", max_iter=5000))\n",
        "# ipw = IPW(LogisticRegressionCV(max_iter=5000))\n",
        "ipw.fit(X, a)\n",
        "w = ipw.compute_weights(X, a)"
      ],
      "id": "cell-5"
    },
    {
      "cell_type": "code",
      "execution_count": 6,
      "metadata": {},
      "outputs": [],
      "source": [
        "def calculate_asmd(X, a, w=None):\n",
        "    # eps = np.finfo(X.dtypes.iloc[0]).resolution  # .eps\n",
        "    eps = 1e-8\n",
        "    if w is None:\n",
        "        w = pd.Series(1, index=a.index)\n",
        "    \n",
        "    is_treated = a == 1\n",
        "    x1 = sm.stats.DescrStatsW(X.loc[is_treated], weights=w.loc[is_treated])\n",
        "    x0 = sm.stats.DescrStatsW(X.loc[~is_treated], weights=w.loc[~is_treated])\n",
        "\n",
        "    x1_mean = pd.Series(x1.mean, index=X.columns)\n",
        "    x0_mean = pd.Series(x0.mean, index=X.columns)\n",
        "    x1_var = pd.Series(x1.var, index=X.columns)\n",
        "    x0_var = pd.Series(x0.var, index=X.columns)\n",
        "\n",
        "    # smds = (x1_mean - x0_mean) / np.sqrt(x0_var + x1_var + eps)\n",
        "    smds = (x1_mean - x0_mean) / ((x0_var + x1_var + eps)**0.5)\n",
        "    asmds = smds.abs()\n",
        "    asmds.name = \"asmd\"\n",
        "    return asmds"
      ],
      "id": "cell-6"
    },
    {
      "cell_type": "code",
      "execution_count": 7,
      "metadata": {},
      "outputs": [
        {
          "output_type": "display_data",
          "metadata": {},
          "data": {
            "text/plain": [
              "adjustment  covariate\n",
              "weighted    x00          0.015807\n",
              "            x01          0.029745\n",
              "            x02          0.036038\n",
              "            x03          0.029324\n",
              "            x04          0.017355\n",
              "                           ...   \n",
              "unweighted  x55          0.180169\n",
              "            x56          0.011614\n",
              "            x57          0.093725\n",
              "            x58          0.081427\n",
              "            x59          0.033620\n",
              "Name: asmd, Length: 120, dtype: float64"
            ]
          }
        }
      ],
      "source": [
        "asmds = pd.concat({\n",
        "    \"weighted\": calculate_asmd(X, a, w),\n",
        "    \"unweighted\": calculate_asmd(X, a),\n",
        "}, names=[\"adjustment\", \"covariate\"])\n",
        "asmds"
      ],
      "id": "cell-7"
    },
    {
      "cell_type": "code",
      "execution_count": 8,
      "metadata": {},
      "outputs": [],
      "source": [
        "def leave_one_out_importance(estimator, X, a, y):\n",
        "    results = []\n",
        "\n",
        "    for col in [\"full\"] + X.columns.tolist():\n",
        "        curX = X.drop(columns=col, errors=\"ignore\")\n",
        "        curXa = curX.join(a)\n",
        "        estimator.fit(curXa, y)\n",
        "        y_pred = estimator.predict(curXa)\n",
        "        result = {\n",
        "            \"covariate\": col,\n",
        "            \"r2\": r2_score(y, y_pred),\n",
        "            \"mse\": mean_squared_error(y, y_pred),\n",
        "            \"mae\": mean_absolute_error(y, y_pred),\n",
        "        }\n",
        "        results.append(result)\n",
        "    results = pd.DataFrame(results)\n",
        "    return results\n",
        "\n",
        "def relative_explained_variation(estimator, X, a, y, metric=\"mse\"):\n",
        "    \"\"\"Harrell: https://www.fharrell.com/post/addvalue/\"\"\"\n",
        "    importance = leave_one_out_importance(estimator, X, a, y)\n",
        "    importance = importance.set_index(\"covariate\")\n",
        "    importance = importance / importance.loc[\"full\"]\n",
        "    importance = importance.drop(index=\"full\")\n",
        "    # importance = importance[metric]\n",
        "    return importance\n",
        "\n",
        "def decrease_in_explain_variation(estimator, X, a, y, metric=\"mse\"):\n",
        "    \"\"\"https://stackoverflow.com/q/31343563\"\"\"\n",
        "    importance = leave_one_out_importance(estimator, X, a, y)\n",
        "    importance = importance.set_index(\"covariate\")\n",
        "    importance = (importance.loc[\"full\"]-importance) / importance.loc[\"full\"]\n",
        "    importance = importance.drop(index=\"full\")\n",
        "    # importance = importance[metric]\n",
        "    importance = importance.abs()\n",
        "    return importance\n"
      ],
      "id": "cell-8"
    },
    {
      "cell_type": "code",
      "execution_count": 9,
      "metadata": {},
      "outputs": [
        {
          "output_type": "display_data",
          "metadata": {},
          "data": {
            "text/html": [
              "\n",
              "</div>"
            ]
          }
        }
      ],
      "source": [
        "# i = leave_one_out_importance(LinearRegression(), X, a, y)\n",
        "# i = i.set_index(\"covariate\")\n",
        "# i\n",
        "# relative_explained_variation(LinearRegression(), X, a, y)\n",
        "feature_importance = decrease_in_explain_variation(LinearRegression(), X, a, y)\n",
        "feature_importance.head()"
      ],
      "id": "cell-9"
    },
    {
      "cell_type": "code",
      "execution_count": 10,
      "metadata": {},
      "outputs": [
        {
          "output_type": "display_data",
          "metadata": {},
          "data": {
            "text/html": [
              "\n",
              "<p>120 rows × 6 columns</p>\n",
              "</div>"
            ]
          }
        }
      ],
      "source": [
        "plot_data = asmds.reset_index().merge(\n",
        "    feature_importance.reset_index(), on=\"covariate\",\n",
        ")\n",
        "plot_data"
      ],
      "id": "cell-10"
    },
    {
      "cell_type": "code",
      "execution_count": 11,
      "metadata": {},
      "outputs": [
        {
          "output_type": "display_data",
          "metadata": {},
          "data": {
            "text/html": [
              "\n",
              "<p>120 rows × 7 columns</p>\n",
              "</div>"
            ]
          }
        }
      ],
      "source": [
        "outcome_metric = \"mse\"\n",
        "ouiasmd = plot_data.query(\"adjustment=='unweighted'\").drop(columns=\"adjustment\")\n",
        "ouiasmd[\"ouiasmd\"] = ouiasmd[\"asmd\"] * ouiasmd[outcome_metric]\n",
        "\n",
        "plot_data = plot_data.merge(\n",
        "    ouiasmd[[\"covariate\", \"ouiasmd\"]],\n",
        "    on=\"covariate\",\n",
        "    how=\"left\",\n",
        ")\n",
        "plot_data = plot_data.rename(columns={\"ouiasmd\": \"Oui-ASMD\"})\n",
        "plot_data"
      ],
      "id": "cell-11"
    },
    {
      "cell_type": "code",
      "execution_count": 12,
      "metadata": {},
      "outputs": [],
      "source": [
        "def slope_balance(\n",
        "    plot_data, \n",
        "    opacity=False, \n",
        "    pointsize=False, \n",
        "    importance_metric=\"Oui-ASMD\",\n",
        "    legend=True,\n",
        "    threshold=None, ax=None\n",
        "):\n",
        "    p = so.Plot(\n",
        "        data=plot_data,\n",
        "        x=\"adjustment\",\n",
        "        y=\"asmd\",\n",
        "        group=\"covariate\",\n",
        "        alpha=importance_metric if opacity else None,\n",
        "    ).add(\n",
        "        so.Lines(),\n",
        "        linewidth=importance_metric if pointsize else None,\n",
        "        legend=legend,\n",
        "    ).add(\n",
        "        # so.Dot(pointsize=3 if not pointsize else None),\n",
        "        so.Dot() if pointsize else so.Dot(pointsize=3),\n",
        "        pointsize=importance_metric if pointsize else None,\n",
        "        legend=legend,\n",
        "    ).scale(\n",
        "        x=so.Nominal(order=[\"unweighted\", \"weighted\"]),\n",
        "    ).label(\n",
        "        x=\"\",\n",
        "        y=\"Absolute standardized mean difference\",\n",
        "    ).theme(\n",
        "        sns.axes_style(\"white\")\n",
        "    ).limit(\n",
        "        x=(-0.1, 1.1)\n",
        "    )\n",
        "    if threshold is not None:\n",
        "        ax.axhline(0.1, linestyle=\"--\", color=\"0.6\", zorder=0)\n",
        "    if ax is not None:\n",
        "        p = p.on(ax).plot()\n",
        "\n",
        "    return p"
      ],
      "id": "cell-12"
    },
    {
      "cell_type": "code",
      "execution_count": 13,
      "metadata": {},
      "outputs": [],
      "source": [
        "def scatter_balance(\n",
        "    plot_data, \n",
        "    opacity=False, \n",
        "    pointsize=False, \n",
        "    importance_metric=\"Oui-ASMD\",\n",
        "    legend=True,\n",
        "    threshold=None, ax=None\n",
        "):\n",
        "    plot_data = plot_data.pivot_table(\n",
        "        # values=[\"asmd\", \"mse\"]\n",
        "        values=\"asmd\",\n",
        "        index=\"covariate\",\n",
        "        columns=\"adjustment\"\n",
        "    ).merge(\n",
        "        plot_data.query(\"adjustment=='weighted'\").drop(\n",
        "            columns=[\"adjustment\", \"asmd\"]\n",
        "        ),\n",
        "        left_index=True,\n",
        "        right_on=\"covariate\",\n",
        "    )\n",
        "    p = so.Plot(\n",
        "        data=plot_data,\n",
        "        x=\"unweighted\",\n",
        "        y=\"weighted\",\n",
        "        alpha=importance_metric if opacity else None,\n",
        "        pointsize=importance_metric if pointsize else None,\n",
        "    ).add(\n",
        "        # so.Dot(pointsize=3 if not pointsize else None),\n",
        "        so.Dot() if pointsize else so.Dot(pointsize=3),\n",
        "        legend=legend,\n",
        "    ).label(\n",
        "        x=\"Unweighted ASMD\",\n",
        "        y=\"Weighted ASMD\",\n",
        "    ).theme(\n",
        "        sns.axes_style(\"white\")\n",
        "    )\n",
        "    if opacity:\n",
        "        p = p.scale(alpha=so.Continuous().tick(upto=4))\n",
        "    if pointsize:\n",
        "        p = p.scale(pointsize=so.Continuous().tick(upto=4))\n",
        "    if threshold is not None:\n",
        "        ax.axhline(0.1, linestyle=\"--\", color=\"0.6\", zorder=0)\n",
        "        ax.axvline(0.1, linestyle=\"--\", color=\"0.6\", zorder=0)\n",
        "    if ax is not None:\n",
        "        p = p.on(ax).plot()\n",
        "\n",
        "    return p"
      ],
      "id": "cell-13"
    },
    {
      "cell_type": "code",
      "execution_count": 14,
      "metadata": {},
      "outputs": [],
      "source": [
        "fig = mpl.pyplot.figure(figsize=(7.5, 5))\n",
        "topfig, bottomfig = fig.subfigures(2, 1, hspace=0)\n",
        "topaxes = topfig.subplots(1, 2)\n",
        "bottomaxes = bottomfig.subplots(1, 2);\n",
        "mpl.pyplot.close()"
      ],
      "id": "cell-14"
    },
    {
      "cell_type": "code",
      "execution_count": 15,
      "metadata": {},
      "outputs": [],
      "source": [
        "scatter_balance(plot_data, threshold=0.1, ax=topaxes[0])\n",
        "scatter_balance(plot_data, threshold=0.1, opacity=True, pointsize=True, ax=topaxes[1])\n",
        "\n",
        "slope_balance(plot_data, threshold=0.1, ax=bottomaxes[0])\n",
        "slope_balance(plot_data, threshold=0.1, opacity=True, pointsize=True, ax=bottomaxes[1])"
      ],
      "id": "cell-15"
    },
    {
      "cell_type": "code",
      "execution_count": 16,
      "metadata": {},
      "outputs": [
        {
          "output_type": "display_data",
          "metadata": {},
          "data": {}
        }
      ],
      "source": [
        "topaxes[0].set_title(\"Standard\")\n",
        "topaxes[1].set_title(\"Outcome-informed\")\n",
        "bottomaxes[0].set_ylabel(\"ASMD\")\n",
        "bottomaxes[1].set_ylabel(\"ASMD\")\n",
        "topfig.subplots_adjust(wspace=0.3)\n",
        "bottomfig.subplots_adjust(wspace=0.3)\n",
        "# fig.tight_layout()\n",
        "fig"
      ],
      "id": "cell-suppfig-oui-bal-plot"
    }
  ],
  "nbformat": 4,
  "nbformat_minor": 5,
  "metadata": {
    "kernelspec": {
      "name": "python3",
      "display_name": ".venv",
      "language": "python"
    },
    "language_info": {
      "name": "python",
      "codemirror_mode": {
        "name": "ipython",
        "version": "3"
      },
      "file_extension": ".py",
      "mimetype": "text/x-python",
      "nbconvert_exporter": "python",
      "pygments_lexer": "ipython3",
      "version": "3.11.9"
    }
  }
}